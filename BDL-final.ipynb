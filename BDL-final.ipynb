{
 "cells": [
  {
   "attachments": {},
   "cell_type": "markdown",
   "metadata": {},
   "source": [
    "# Big data lab"
   ]
  },
  {
   "attachments": {},
   "cell_type": "markdown",
   "metadata": {},
   "source": [
    "## import library"
   ]
  },
  {
   "cell_type": "code",
   "execution_count": 57,
   "metadata": {},
   "outputs": [],
   "source": [
    "import pandas as pd\n",
    "import pickle\n",
    "import my_func\n",
    "import lightgbm as lgb\n",
    "import warnings\n",
    "warnings.filterwarnings('ignore')\n",
    "import numpy as np\n",
    "from sklearn.model_selection import KFold \n",
    "from sklearn.model_selection import train_test_split\n",
    "from sklearn.metrics import classification_report, roc_auc_score, accuracy_score, precision_score, recall_score, f1_score\n",
    "from datetime import datetime, timedelta\n",
    "from sklearn.metrics import roc_auc_score\n",
    "from sklearn.metrics import roc_curve\n",
    "import seaborn as sns\n",
    "import matplotlib.pyplot as plt\n",
    "sns.set()\n",
    "\n",
    "fe_name_tr = 'churn_train_model_fe.pickle'\n",
    "b_num_name_tr ='churn_train_model_b_num.pickle'\n",
    "dpi_name_tr ='churn_train_model_dpi.pickle'\n",
    "\n",
    "fe_name_te = 'churn_test_model_fe.pickle'\n",
    "b_num_name_te ='churn_test_model_b_num.pickle'\n",
    "dpi_name_te ='churn_test_model_dpi.pickle'\n",
    "\n",
    "file_path = r'D:\\BDL-Final\\data-from-BDL' + '\\\\'\n",
    "\n",
    "# settings for dataframe\n",
    "pd.set_option('display.max_columns', None)"
   ]
  },
  {
   "cell_type": "code",
   "execution_count": 78,
   "metadata": {},
   "outputs": [],
   "source": [
    "params = {\n",
    "    'boosting_type': 'gbdt',\n",
    "    'objective': 'binary',\n",
    "    'metric': 'auc',\n",
    "    'learning_rate': 0.1,\n",
    "    'num_leaves': 31,\n",
    "    'max_depth': -1,\n",
    "    'min_child_samples': 20,\n",
    "    'subsample': 1.0,\n",
    "    'colsample_bytree': 1.0,\n",
    "    'reg_alpha': 0.0,\n",
    "    'reg_lambda': 0.0,\n",
    "    'n_estimators': 100,\n",
    "    'early_stopping_rounds': 20,\n",
    "    'is_unbalance': True,\n",
    "    'random_state': 42\n",
    "}\n"
   ]
  },
  {
   "cell_type": "code",
   "execution_count": 58,
   "metadata": {},
   "outputs": [],
   "source": [
    "# Load dataframes\n",
    "df_train_fe = pd.read_pickle(file_path+fe_name_tr)\n",
    "df_train_dpi = pd.read_pickle(file_path+dpi_name_tr)\n",
    "df_train_b_num = pd.read_pickle(file_path+b_num_name_tr)\n",
    "\n",
    "df_test_fe = pd.read_pickle(file_path+fe_name_te)\n",
    "df_test_dpi = pd.read_pickle(file_path+dpi_name_te)\n",
    "df_test_b_num = pd.read_pickle(file_path+b_num_name_te)\n",
    "\n"
   ]
  },
  {
   "cell_type": "code",
   "execution_count": 81,
   "metadata": {},
   "outputs": [
    {
     "name": "stdout",
     "output_type": "stream",
     "text": [
      "Metrics         Train      Test       Δ         \n",
      "roc_auc         0.8913     0.8215     -0.0698   \n",
      "accuracy        0.8749     0.8597     -0.0152   \n",
      "precision       0.3276     0.2831     -0.0445   \n",
      "recall          0.9101     0.7776     -0.1325   \n",
      "f1_score        0.4818     0.4151     -0.0667   \n",
      "\n",
      "\n",
      "Train:\n",
      "              precision    recall  f1-score   support\n",
      "\n",
      "         0.0       0.99      0.87      0.93    112334\n",
      "         1.0       0.33      0.91      0.48      7666\n",
      "\n",
      "    accuracy                           0.87    120000\n",
      "   macro avg       0.66      0.89      0.71    120000\n",
      "weighted avg       0.95      0.87      0.90    120000\n",
      "\n",
      "Test:\n",
      "              precision    recall  f1-score   support\n",
      "\n",
      "         0.0       0.98      0.87      0.92     28080\n",
      "         1.0       0.28      0.78      0.42      1920\n",
      "\n",
      "    accuracy                           0.86     30000\n",
      "   macro avg       0.63      0.82      0.67     30000\n",
      "weighted avg       0.94      0.86      0.89     30000\n",
      "\n"
     ]
    }
   ],
   "source": [
    "import lightgbm as lgb\n",
    "from sklearn.metrics import accuracy_score, roc_auc_score\n",
    "from sklearn.model_selection import train_test_split\n",
    "import numpy as np\n",
    "\n",
    "def binary_classification_metrics(y_true_tr, y_pred_tr, y_true_val=None, y_pred_val=None, report=False):\n",
    "    print(\"{:<15} {:<10} {:<10} {:<10}\".format('Metrics', 'Train', 'Test', '\\u0394'))\n",
    "    metrics_dict = {}\n",
    "\n",
    "    metrics_dict['roc_auc'] = np.round(roc_auc_score(y_true_tr, y_pred_tr), 4)\n",
    "    metrics_dict['accuracy'] = np.round(accuracy_score(y_true_tr, y_pred_tr), 4)\n",
    "    metrics_dict['precision'] = np.round(precision_score(y_true_tr, y_pred_tr), 4)\n",
    "    metrics_dict['recall'] = np.round(recall_score(y_true_tr, y_pred_tr), 4)\n",
    "    metrics_dict['f1_score'] = np.round(f1_score(y_true_tr, y_pred_tr), 4)\n",
    "\n",
    "    if y_true_val is not None:\n",
    "        metrics_dict_test = {}\n",
    "        metrics_dict_test['roc_auc'] = np.round(roc_auc_score(y_true_val, y_pred_val), 4)\n",
    "        metrics_dict_test['accuracy'] = np.round(accuracy_score(y_true_val, y_pred_val), 4)\n",
    "        metrics_dict_test['precision'] = np.round(precision_score(y_true_val, y_pred_val), 4)\n",
    "        metrics_dict_test['recall'] = np.round(recall_score(y_true_val, y_pred_val), 4)\n",
    "        metrics_dict_test['f1_score'] = np.round(f1_score(y_true_val, y_pred_val), 4)\n",
    "        \n",
    "        for metrics, value in metrics_dict.items():\n",
    "            value_test = metrics_dict_test[metrics]\n",
    "            diff = np.round(metrics_dict_test[metrics] - value, 4)\n",
    "            print(\"{:<15} {:<10} {:<10} {:<10}\".format(metrics, value, value_test, diff))\n",
    "    else:\n",
    "        for metrics, value in metrics_dict.items():\n",
    "            print(\"{:<15} {:<10}\".format(metrics, value))\n",
    "    \n",
    "    if report:\n",
    "        print('\\n')\n",
    "        print('Train:')\n",
    "        print(classification_report(y_true_tr, y_pred_tr))\n",
    "        if y_true_val is not None:\n",
    "            print('Test:')\n",
    "            print(classification_report(y_true_val, y_pred_val))\n",
    "\n",
    "\n",
    "# Prepare your data (X and y)\n",
    "X = df_train_fe.drop(['target', 'abon_id'], axis=1)\n",
    "y = df_train_fe['target']\n",
    "\n",
    "# Split the data into train and test sets\n",
    "X_train, X_test, y_train, y_test = train_test_split(X, y, test_size=0.2, random_state=777)\n",
    "\n",
    "# Define the LGBMClassifier model\n",
    "clf = lgb.LGBMClassifier(is_unbalance=True)\n",
    "\n",
    "# Train the model\n",
    "clf.fit(X_train, y_train)\n",
    "\n",
    "# Make predictions on train and test sets\n",
    "y_train_pred = clf.predict(X_train)\n",
    "y_test_pred = clf.predict(X_test)\n",
    "\n",
    "# Evaluate the model\n",
    "binary_classification_metrics(y_train, y_train_pred, y_test, y_test_pred, report=True)\n"
   ]
  },
  {
   "cell_type": "code",
   "execution_count": 70,
   "metadata": {},
   "outputs": [],
   "source": [
    "from sklearn.metrics import roc_curve, roc_auc_score\n",
    "import matplotlib.pyplot as plt\n",
    "\n",
    "def plot_roc_auc(y_train, y_train_pred, y_test, y_test_pred, title):\n",
    "    fpr_train, tpr_train, _ = roc_curve(y_train, y_train_pred)\n",
    "    auc_train = roc_auc_score(y_train, y_train_pred)\n",
    "\n",
    "    fpr_test, tpr_test, _ = roc_curve(y_test, y_test_pred)\n",
    "    auc_test = roc_auc_score(y_test, y_test_pred)\n",
    "\n",
    "    plt.plot(fpr_train, tpr_train, color='blue', label=\"Train, AUC={:.3f}\".format(auc_train), linestyle='-')\n",
    "    plt.plot(fpr_test, tpr_test, color='black', label=\"Test, AUC={:.3f}\".format(auc_test), linestyle='--')\n",
    "\n",
    "    plt.plot([0, 1], [0, 1], color='gray', linestyle='--')\n",
    "\n",
    "    plt.xticks(np.arange(0.0, 1.1, step=0.1))\n",
    "    plt.xlabel(\"False Positive Rate\", fontsize=15)\n",
    "\n",
    "    plt.yticks(np.arange(0.0, 1.1, step=0.1))\n",
    "    plt.ylabel(\"True Positive Rate\", fontsize=15)\n",
    "\n",
    "    plt.title(title, fontweight='bold', fontsize=15)\n",
    "    plt.legend(prop={'size': 13}, loc='lower right')\n",
    "\n",
    "    plt.show()\n"
   ]
  },
  {
   "cell_type": "code",
   "execution_count": 75,
   "metadata": {},
   "outputs": [
    {
     "data": {
      "image/png": "[encoded data removed]",
      "text/plain": [
       "<Figure size 640x480 with 1 Axes>"
      ]
     },
     "metadata": {},
     "output_type": "display_data"
    }
   ],
   "source": [
    "plot_roc_auc(y_train, y_train_pred, y_test, y_test_pred, \"ROC-AUC Curve\")\n"
   ]
  },
  {
   "cell_type": "code",
   "execution_count": 73,
   "metadata": {},
   "outputs": [
    {
     "name": "stdout",
     "output_type": "stream",
     "text": [
      "Save LGBMClassifier_24062023_13_31.pickle\n"
     ]
    }
   ],
   "source": [
    "#saving model\n",
    "save_model(clf, X.columns.tolist()) \n"
   ]
  },
  {
   "cell_type": "code",
   "execution_count": 9,
   "metadata": {},
   "outputs": [],
   "source": [
    "\n"
   ]
  },
  {
   "attachments": {},
   "cell_type": "markdown",
   "metadata": {},
   "source": [
    "## Classification Metrics"
   ]
  },
  {
   "cell_type": "code",
   "execution_count": 60,
   "metadata": {},
   "outputs": [],
   "source": [
    "\n",
    "def binary_classification_metrics(y_true_tr, y_pred_tr, y_true_val = None, y_pred_val = None, report = False):\n",
    "    print (\"{:<15} {:<10} {:<10} {:<10}\".format('Metrics','Train','Test','\\u0394'))\n",
    "    metrics_dict = {}\n",
    "\n",
    "    metrics_dict['roc_auc'] = np.round(roc_auc_score(y_true_tr, y_pred_tr),4)\n",
    "    metrics_dict['accuracy'] = np.round(accuracy_score(y_true_tr, y_pred_tr),4)\n",
    "    metrics_dict['precision'] = np.round(precision_score(y_true_tr, y_pred_tr),4)\n",
    "    metrics_dict['recall'] = np.round(recall_score(y_true_tr, y_pred_tr),4)\n",
    "    metrics_dict['f1_score'] = np.round(f1_score(y_true_tr, y_pred_tr),4)\n",
    "    \n",
    "    if y_true_val is not None:\n",
    "        metrics_dict_test = {}\n",
    "        metrics_dict_test['roc_auc'] = np.round(roc_auc_score(y_true_val, y_pred_val),4)\n",
    "        metrics_dict_test['accuracy'] = np.round(accuracy_score(y_true_val, y_pred_val),4)\n",
    "        metrics_dict_test['precision'] = np.round(precision_score(y_true_val, y_pred_val),4)\n",
    "        metrics_dict_test['recall'] = np.round(recall_score(y_true_val, y_pred_val),4)\n",
    "        metrics_dict_test['f1_score'] = np.round(f1_score(y_true_val, y_pred_val),4)\n",
    "        # print(classification_report(y_true_val, y_pred_val))\n",
    "    \n",
    "        for metrics, value in metrics_dict.items():\n",
    "            value_test = metrics_dict_test[metrics]\n",
    "            diff = np.round(metrics_dict_test[metrics] - value, 4)\n",
    "            print (\"{:<15} {:<10} {:<10} {:<10}\".format(metrics, value, value_test, diff))\n",
    "    else:\n",
    "        for metrics, value in metrics_dict.items():\n",
    "            print (\"{:<15} {:<10}\".format(metrics, value))\n",
    "    if report:\n",
    "        print('\\n')\n",
    "        print('Train :')\n",
    "        print(classification_report(y_true_tr, y_pred_tr))\n",
    "        if not y_true_val.empty:\n",
    "            print('Test :')\n",
    "            print(classification_report(y_true_val, y_pred_val))"
   ]
  },
  {
   "attachments": {},
   "cell_type": "markdown",
   "metadata": {},
   "source": []
  },
  {
   "attachments": {},
   "cell_type": "markdown",
   "metadata": {},
   "source": [
    "## First look"
   ]
  },
  {
   "cell_type": "code",
   "execution_count": null,
   "metadata": {},
   "outputs": [],
   "source": []
  },
  {
   "cell_type": "code",
   "execution_count": 1,
   "metadata": {},
   "outputs": [],
   "source": []
  },
  {
   "cell_type": "code",
   "execution_count": null,
   "metadata": {},
   "outputs": [],
   "source": []
  },
  {
   "cell_type": "code",
   "execution_count": 13,
   "metadata": {},
   "outputs": [],
   "source": []
  },
  {
   "cell_type": "code",
   "execution_count": null,
   "metadata": {},
   "outputs": [],
   "source": []
  },
  {
   "attachments": {},
   "cell_type": "markdown",
   "metadata": {},
   "source": [
    "# Feature Engineering\n"
   ]
  },
  {
   "cell_type": "code",
   "execution_count": null,
   "metadata": {},
   "outputs": [],
   "source": [
    "# перевірка на missing значення\n",
    "ms_val = my_func.count_missing_values(df_train_fe)\n",
    "ms_val"
   ]
  },
  {
   "attachments": {},
   "cell_type": "markdown",
   "metadata": {},
   "source": [
    "## Working with missing values"
   ]
  },
  {
   "cell_type": "code",
   "execution_count": null,
   "metadata": {},
   "outputs": [],
   "source": [
    "\n"
   ]
  },
  {
   "cell_type": "code",
   "execution_count": null,
   "metadata": {},
   "outputs": [],
   "source": [
    "# preparing dataset for base modeling"
   ]
  },
  {
   "cell_type": "code",
   "execution_count": 5,
   "metadata": {},
   "outputs": [],
   "source": [
    "# prepare dataset for training\n",
    "def ds_base_prep(df):\n",
    "    # missing change for -1\n",
    "    df.fillna(-1, inplace=True)\n",
    "\n",
    "    # remove abon_id\n",
    "    return(df)\n",
    "\n",
    "    "
   ]
  },
  {
   "cell_type": "code",
   "execution_count": 6,
   "metadata": {},
   "outputs": [],
   "source": [
    "df_tr = ds_base_prep(df_train_fe)"
   ]
  },
  {
   "cell_type": "code",
   "execution_count": null,
   "metadata": {},
   "outputs": [],
   "source": []
  },
  {
   "cell_type": "code",
   "execution_count": 7,
   "metadata": {},
   "outputs": [],
   "source": [
    "y = df_tr['target']\n",
    "X = df_tr.drop(['target', 'abon_id'], axis=1)\n",
    "X_train, X_test, y_train, y_test = train_test_split(X, y, test_size = 0.2, random_state=777, shuffle=True)\n"
   ]
  },
  {
   "attachments": {},
   "cell_type": "markdown",
   "metadata": {},
   "source": [
    "## Train Model"
   ]
  },
  {
   "attachments": {},
   "cell_type": "markdown",
   "metadata": {},
   "source": [
    "### Base Model"
   ]
  },
  {
   "cell_type": "code",
   "execution_count": null,
   "metadata": {},
   "outputs": [],
   "source": []
  },
  {
   "cell_type": "code",
   "execution_count": 67,
   "metadata": {},
   "outputs": [],
   "source": [
    "def save_model(model = None, features = []):\n",
    "    name = str(model.__class__).split('.')[-1][:-2] + '_' + datetime.today().strftime(\"%d%m%Y_%H_%M\") + '.pickle'    \n",
    "    if model:\n",
    "        with open(name, 'wb') as file:\n",
    "            pickle.dump((model, features), file)\n",
    "            print('Save', name)"
   ]
  },
  {
   "cell_type": "code",
   "execution_count": 26,
   "metadata": {},
   "outputs": [],
   "source": []
  },
  {
   "cell_type": "code",
   "execution_count": null,
   "metadata": {},
   "outputs": [],
   "source": []
  },
  {
   "cell_type": "code",
   "execution_count": null,
   "metadata": {},
   "outputs": [],
   "source": [
    "\n"
   ]
  },
  {
   "cell_type": "code",
   "execution_count": null,
   "metadata": {},
   "outputs": [],
   "source": []
  },
  {
   "cell_type": "code",
   "execution_count": null,
   "metadata": {},
   "outputs": [],
   "source": []
  },
  {
   "cell_type": "code",
   "execution_count": null,
   "metadata": {},
   "outputs": [],
   "source": []
  },
  {
   "cell_type": "code",
   "execution_count": null,
   "metadata": {},
   "outputs": [],
   "source": []
  },
  {
   "attachments": {},
   "cell_type": "markdown",
   "metadata": {},
   "source": [
    "## Predict on Test sample\n"
   ]
  },
  {
   "cell_type": "code",
   "execution_count": 45,
   "metadata": {},
   "outputs": [],
   "source": []
  },
  {
   "cell_type": "code",
   "execution_count": null,
   "metadata": {},
   "outputs": [],
   "source": []
  },
  {
   "cell_type": "code",
   "execution_count": 48,
   "metadata": {},
   "outputs": [],
   "source": [
    "y_test = df_test_fe['target']\n",
    "X_test = df_test_fe.drop(['target', 'abon_id'], axis=1)\n",
    "X_test.replace(np.inf, -1, inplace=True)\n",
    "X_test.fillna(-1, inplace=True)"
   ]
  },
  {
   "cell_type": "code",
   "execution_count": null,
   "metadata": {},
   "outputs": [],
   "source": []
  },
  {
   "cell_type": "code",
   "execution_count": null,
   "metadata": {},
   "outputs": [],
   "source": [
    "pred_lgb = lgb_model.predict(X_train)\n",
    "pred_lgb_test = lgb_model.predict_proba(X_test)[:,1]"
   ]
  },
  {
   "cell_type": "code",
   "execution_count": 38,
   "metadata": {},
   "outputs": [],
   "source": []
  },
  {
   "cell_type": "code",
   "execution_count": 44,
   "metadata": {},
   "outputs": [],
   "source": []
  },
  {
   "cell_type": "code",
   "execution_count": null,
   "metadata": {},
   "outputs": [],
   "source": []
  },
  {
   "cell_type": "code",
   "execution_count": null,
   "metadata": {},
   "outputs": [],
   "source": []
  },
  {
   "cell_type": "code",
   "execution_count": null,
   "metadata": {},
   "outputs": [],
   "source": [
    "#binary_classification_metrics(y, clf.predict(X), y_test, clf.predict(X_test))"
   ]
  },
  {
   "cell_type": "code",
   "execution_count": 74,
   "metadata": {},
   "outputs": [],
   "source": [
    "def plot_roc_auc(y_train, y_train_pred, y_test, y_test_pred, title):\n",
    "    # Calculate the ROC curve and AUC for train set\n",
    "    fpr_train, tpr_train, _ = roc_curve(y_train, y_train_pred)\n",
    "    auc_train = roc_auc_score(y_train, y_train_pred)\n",
    "\n",
    "    # Calculate the ROC curve and AUC for test set\n",
    "    fpr_test, tpr_test, _ = roc_curve(y_test, y_test_pred)\n",
    "    auc_test = roc_auc_score(y_test, y_test_pred)\n",
    "\n",
    "    # Plot the ROC curve for train set\n",
    "    plt.plot(fpr_train, tpr_train, color='blue',\n",
    "             label=\"Навчальна вибірка, AUC={:.3f}\".format(auc_train), linestyle='-')\n",
    "\n",
    "    # Plot the ROC curve for test set\n",
    "    plt.plot(fpr_test, tpr_test, color='black',\n",
    "             label=\"Тестова вибірка, AUC={:.3f}\".format(auc_test), linestyle='--')\n",
    "\n",
    "    # Plot the diagonal line for reference\n",
    "    plt.plot([0, 1], [0, 1], color='gray', linestyle='--')\n",
    "\n",
    "    # Set x-axis and y-axis labels\n",
    "    plt.xlabel(\"False Positive Rate\", fontsize=15)\n",
    "    plt.ylabel(\"True Positive Rate\", fontsize=15)\n",
    "\n",
    "    # Set x-axis and y-axis tick marks\n",
    "    plt.xticks(np.arange(0.0, 1.1, step=0.1))\n",
    "    plt.yticks(np.arange(0.0, 1.1, step=0.1))\n",
    "\n",
    "    # Set the title and legend\n",
    "    plt.title(title, fontweight='bold', fontsize=15)\n",
    "    plt.legend(prop={'size': 13}, loc='lower right')\n",
    "\n",
    "    # Show the plot\n",
    "    plt.show()\n"
   ]
  },
  {
   "cell_type": "code",
   "execution_count": null,
   "metadata": {},
   "outputs": [],
   "source": []
  },
  {
   "cell_type": "code",
   "execution_count": null,
   "metadata": {},
   "outputs": [],
   "source": [
    "\n"
   ]
  }
 ],
 "metadata": {
  "kernelspec": {
   "display_name": "Python 3",
   "language": "python",
   "name": "python3"
  },
  "language_info": {
   "codemirror_mode": {
    "name": "ipython",
    "version": 3
   },
   "file_extension": ".py",
   "mimetype": "text/x-python",
   "name": "python",
   "nbconvert_exporter": "python",
   "pygments_lexer": "ipython3",
   "version": "3.10.4"
  },
  "orig_nbformat": 4
 },
 "nbformat": 4,
 "nbformat_minor": 2
}
