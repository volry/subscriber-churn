{
 "cells": [
  {
   "attachments": {},
   "cell_type": "markdown",
   "metadata": {},
   "source": [
    "# Big data lab"
   ]
  },
  {
   "attachments": {},
   "cell_type": "markdown",
   "metadata": {},
   "source": [
    "## import library"
   ]
  },
  {
   "cell_type": "code",
   "execution_count": 54,
   "metadata": {},
   "outputs": [],
   "source": [
    "import pandas as pd\n",
    "import pickle\n",
    "import my_func\n",
    "import lightgbm as lgb\n",
    "import warnings\n",
    "warnings.filterwarnings('ignore')\n",
    "import numpy as np\n",
    "from sklearn.model_selection import KFold \n",
    "from sklearn.model_selection import train_test_split\n",
    "from sklearn.metrics import classification_report, roc_auc_score, accuracy_score, precision_score, recall_score, f1_score\n",
    "from datetime import datetime, timedelta\n",
    "from sklearn.metrics import roc_auc_score\n",
    "from sklearn.metrics import roc_curve\n",
    "import seaborn as sns\n",
    "import matplotlib.pyplot as plt\n",
    "sns.set()\n",
    "\n",
    "fe_name_tr = 'churn_train_model_fe.pickle'\n",
    "b_num_name_tr ='churn_train_model_b_num.pickle'\n",
    "dpi_name_tr ='churn_train_model_dpi.pickle'\n",
    "\n",
    "fe_name_te = 'churn_test_model_fe.pickle'\n",
    "b_num_name_te ='churn_test_model_b_num.pickle'\n",
    "dpi_name_te ='churn_test_model_dpi.pickle'\n",
    "\n",
    "file_path = r'D:\\BDL-Final\\data-from-BDL' + '\\\\'\n",
    "\n",
    "# settings for dataframe\n",
    "pd.set_option('display.max_columns', None)"
   ]
  },
  {
   "cell_type": "code",
   "execution_count": 30,
   "metadata": {},
   "outputs": [],
   "source": [
    "# Load dataframes\n",
    "df_train_fe = pd.read_pickle(file_path+fe_name_tr)\n",
    "df_train_dpi = pd.read_pickle(file_path+dpi_name_tr)\n",
    "df_train_b_num = pd.read_pickle(file_path+b_num_name_tr)\n",
    "\n",
    "df_test_fe = pd.read_pickle(file_path+fe_name_te)\n",
    "df_test_dpi = pd.read_pickle(file_path+dpi_name_te)\n",
    "df_test_b_num = pd.read_pickle(file_path+b_num_name_te)\n",
    "\n"
   ]
  },
  {
   "cell_type": "code",
   "execution_count": null,
   "metadata": {},
   "outputs": [],
   "source": []
  },
  {
   "cell_type": "code",
   "execution_count": 4,
   "metadata": {},
   "outputs": [],
   "source": [
    "# find out how data looks like\n",
    "# find unique values of applications\n",
    "#len(df_train_fe.columns)\n",
    "# df_apli_tr = df_train_dpi['Application'].unique()\n",
    "# df_apli_te = df_test_dpi['Application'].unique()\n",
    "#df_exel = df_train_dpi.iloc[0:1000000]\n",
    "#df_exel.to_excel('dpi.xlsx')"
   ]
  },
  {
   "cell_type": "code",
   "execution_count": 9,
   "metadata": {},
   "outputs": [],
   "source": [
    "# apl_te= pd.DataFrame(df_apli_te)\n",
    "# apl_tr= pd.DataFrame(df_apli_tr)\n",
    "\n",
    "# #len(df_apli_tr)"
   ]
  },
  {
   "cell_type": "code",
   "execution_count": 16,
   "metadata": {},
   "outputs": [],
   "source": [
    "#df_train_fe"
   ]
  },
  {
   "cell_type": "code",
   "execution_count": 9,
   "metadata": {},
   "outputs": [],
   "source": [
    "\n"
   ]
  },
  {
   "attachments": {},
   "cell_type": "markdown",
   "metadata": {},
   "source": [
    "## Classification Metrics"
   ]
  },
  {
   "cell_type": "code",
   "execution_count": 3,
   "metadata": {},
   "outputs": [],
   "source": [
    "\n",
    "def binary_classification_metrics(y_true_tr, y_pred_tr, y_true_val = None, y_pred_val = None, report = False):\n",
    "    print (\"{:<15} {:<10} {:<10} {:<10}\".format('Metrics','Train','Test','\\u0394'))\n",
    "    metrics_dict = {}\n",
    "\n",
    "    metrics_dict['roc_auc'] = np.round(roc_auc_score(y_true_tr, y_pred_tr),4)\n",
    "    metrics_dict['accuracy'] = np.round(accuracy_score(y_true_tr, y_pred_tr),4)\n",
    "    metrics_dict['precision'] = np.round(precision_score(y_true_tr, y_pred_tr),4)\n",
    "    metrics_dict['recall'] = np.round(recall_score(y_true_tr, y_pred_tr),4)\n",
    "    metrics_dict['f1_score'] = np.round(f1_score(y_true_tr, y_pred_tr),4)\n",
    "    \n",
    "    if y_true_val is not None:\n",
    "        metrics_dict_test = {}\n",
    "        metrics_dict_test['roc_auc'] = np.round(roc_auc_score(y_true_val, y_pred_val),4)\n",
    "        metrics_dict_test['accuracy'] = np.round(accuracy_score(y_true_val, y_pred_val),4)\n",
    "        metrics_dict_test['precision'] = np.round(precision_score(y_true_val, y_pred_val),4)\n",
    "        metrics_dict_test['recall'] = np.round(recall_score(y_true_val, y_pred_val),4)\n",
    "        metrics_dict_test['f1_score'] = np.round(f1_score(y_true_val, y_pred_val),4)\n",
    "        # print(classification_report(y_true_val, y_pred_val))\n",
    "    \n",
    "        for metrics, value in metrics_dict.items():\n",
    "            value_test = metrics_dict_test[metrics]\n",
    "            diff = np.round(metrics_dict_test[metrics] - value, 4)\n",
    "            print (\"{:<15} {:<10} {:<10} {:<10}\".format(metrics, value, value_test, diff))\n",
    "    else:\n",
    "        for metrics, value in metrics_dict.items():\n",
    "            print (\"{:<15} {:<10}\".format(metrics, value))\n",
    "    if report:\n",
    "        print('\\n')\n",
    "        print('Train :')\n",
    "        print(classification_report(y_true_tr, y_pred_tr))\n",
    "        if not y_true_val.empty:\n",
    "            print('Test :')\n",
    "            print(classification_report(y_true_val, y_pred_val))"
   ]
  },
  {
   "attachments": {},
   "cell_type": "markdown",
   "metadata": {},
   "source": []
  },
  {
   "attachments": {},
   "cell_type": "markdown",
   "metadata": {},
   "source": [
    "## First look"
   ]
  },
  {
   "cell_type": "code",
   "execution_count": null,
   "metadata": {},
   "outputs": [],
   "source": []
  },
  {
   "cell_type": "code",
   "execution_count": 1,
   "metadata": {},
   "outputs": [],
   "source": [
    "#df_train_fe.describe()"
   ]
  },
  {
   "cell_type": "code",
   "execution_count": 4,
   "metadata": {},
   "outputs": [
    {
     "data": {
      "text/plain": [
       "0.06389333333333333"
      ]
     },
     "execution_count": 4,
     "metadata": {},
     "output_type": "execute_result"
    }
   ],
   "source": [
    "all_t = len(df_train_fe['target'])\n",
    "tgt = df_train_fe['target'].sum()\n",
    "res =tgt/all_t\n",
    "res"
   ]
  },
  {
   "cell_type": "code",
   "execution_count": 13,
   "metadata": {},
   "outputs": [],
   "source": [
    "# перевірка на категоріальні значення\n",
    "cat_info = my_func.categorical_col_info(df_train_fe)"
   ]
  },
  {
   "cell_type": "code",
   "execution_count": 14,
   "metadata": {},
   "outputs": [
    {
     "data": {
      "text/html": [
       "<div>\n",
       "<style scoped>\n",
       "    .dataframe tbody tr th:only-of-type {\n",
       "        vertical-align: middle;\n",
       "    }\n",
       "\n",
       "    .dataframe tbody tr th {\n",
       "        vertical-align: top;\n",
       "    }\n",
       "\n",
       "    .dataframe thead th {\n",
       "        text-align: right;\n",
       "    }\n",
       "</style>\n",
       "<table border=\"1\" class=\"dataframe\">\n",
       "  <thead>\n",
       "    <tr style=\"text-align: right;\">\n",
       "      <th></th>\n",
       "      <th>Column</th>\n",
       "      <th>Unique values</th>\n",
       "      <th>Missing values</th>\n",
       "    </tr>\n",
       "  </thead>\n",
       "  <tbody>\n",
       "    <tr>\n",
       "      <th>Total</th>\n",
       "      <td>0</td>\n",
       "      <td>0</td>\n",
       "      <td>0</td>\n",
       "    </tr>\n",
       "  </tbody>\n",
       "</table>\n",
       "</div>"
      ],
      "text/plain": [
       "       Column  Unique values  Missing values\n",
       "Total       0              0               0"
      ]
     },
     "execution_count": 14,
     "metadata": {},
     "output_type": "execute_result"
    }
   ],
   "source": [
    "cat_info"
   ]
  },
  {
   "attachments": {},
   "cell_type": "markdown",
   "metadata": {},
   "source": [
    "# Feature Engineering\n"
   ]
  },
  {
   "cell_type": "code",
   "execution_count": 9,
   "metadata": {},
   "outputs": [
    {
     "data": {
      "text/html": [
       "<div>\n",
       "<style scoped>\n",
       "    .dataframe tbody tr th:only-of-type {\n",
       "        vertical-align: middle;\n",
       "    }\n",
       "\n",
       "    .dataframe tbody tr th {\n",
       "        vertical-align: top;\n",
       "    }\n",
       "\n",
       "    .dataframe thead th {\n",
       "        text-align: right;\n",
       "    }\n",
       "</style>\n",
       "<table border=\"1\" class=\"dataframe\">\n",
       "  <thead>\n",
       "    <tr style=\"text-align: right;\">\n",
       "      <th></th>\n",
       "      <th>Column</th>\n",
       "      <th>Missing Values</th>\n",
       "      <th>Missing Values (%)</th>\n",
       "    </tr>\n",
       "  </thead>\n",
       "  <tbody>\n",
       "    <tr>\n",
       "      <th>709</th>\n",
       "      <td>bs_succ_rate</td>\n",
       "      <td>150000</td>\n",
       "      <td>100.000000</td>\n",
       "    </tr>\n",
       "    <tr>\n",
       "      <th>708</th>\n",
       "      <td>bs_drop_call_rate</td>\n",
       "      <td>150000</td>\n",
       "      <td>100.000000</td>\n",
       "    </tr>\n",
       "    <tr>\n",
       "      <th>645</th>\n",
       "      <td>device_has_gprs</td>\n",
       "      <td>150000</td>\n",
       "      <td>100.000000</td>\n",
       "    </tr>\n",
       "    <tr>\n",
       "      <th>716</th>\n",
       "      <td>bs_of_succ_but_drop_m1</td>\n",
       "      <td>150000</td>\n",
       "      <td>100.000000</td>\n",
       "    </tr>\n",
       "    <tr>\n",
       "      <th>715</th>\n",
       "      <td>bs_of_unsucc_attemp_equip_m1</td>\n",
       "      <td>150000</td>\n",
       "      <td>100.000000</td>\n",
       "    </tr>\n",
       "    <tr>\n",
       "      <th>...</th>\n",
       "      <td>...</td>\n",
       "      <td>...</td>\n",
       "      <td>...</td>\n",
       "    </tr>\n",
       "    <tr>\n",
       "      <th>632</th>\n",
       "      <td>loc_market_share</td>\n",
       "      <td>880</td>\n",
       "      <td>0.586667</td>\n",
       "    </tr>\n",
       "    <tr>\n",
       "      <th>631</th>\n",
       "      <td>loc_cnt_events</td>\n",
       "      <td>880</td>\n",
       "      <td>0.586667</td>\n",
       "    </tr>\n",
       "    <tr>\n",
       "      <th>630</th>\n",
       "      <td>loc_is_obl_center</td>\n",
       "      <td>880</td>\n",
       "      <td>0.586667</td>\n",
       "    </tr>\n",
       "    <tr>\n",
       "      <th>606</th>\n",
       "      <td>lt</td>\n",
       "      <td>673</td>\n",
       "      <td>0.448667</td>\n",
       "    </tr>\n",
       "    <tr>\n",
       "      <th>810</th>\n",
       "      <td>MV_Migr_To</td>\n",
       "      <td>91</td>\n",
       "      <td>0.060667</td>\n",
       "    </tr>\n",
       "  </tbody>\n",
       "</table>\n",
       "<p>212 rows × 3 columns</p>\n",
       "</div>"
      ],
      "text/plain": [
       "                           Column  Missing Values  Missing Values (%)\n",
       "709                  bs_succ_rate          150000          100.000000\n",
       "708             bs_drop_call_rate          150000          100.000000\n",
       "645               device_has_gprs          150000          100.000000\n",
       "716        bs_of_succ_but_drop_m1          150000          100.000000\n",
       "715  bs_of_unsucc_attemp_equip_m1          150000          100.000000\n",
       "..                            ...             ...                 ...\n",
       "632              loc_market_share             880            0.586667\n",
       "631                loc_cnt_events             880            0.586667\n",
       "630             loc_is_obl_center             880            0.586667\n",
       "606                            lt             673            0.448667\n",
       "810                    MV_Migr_To              91            0.060667\n",
       "\n",
       "[212 rows x 3 columns]"
      ]
     },
     "execution_count": 9,
     "metadata": {},
     "output_type": "execute_result"
    }
   ],
   "source": [
    "# перевірка на missing значення\n",
    "ms_val = my_func.count_missing_values(df_train_fe)\n",
    "ms_val"
   ]
  },
  {
   "attachments": {},
   "cell_type": "markdown",
   "metadata": {},
   "source": [
    "## Working with missing values"
   ]
  },
  {
   "cell_type": "code",
   "execution_count": 23,
   "metadata": {},
   "outputs": [
    {
     "data": {
      "text/html": [
       "<div>\n",
       "<style scoped>\n",
       "    .dataframe tbody tr th:only-of-type {\n",
       "        vertical-align: middle;\n",
       "    }\n",
       "\n",
       "    .dataframe tbody tr th {\n",
       "        vertical-align: top;\n",
       "    }\n",
       "\n",
       "    .dataframe thead th {\n",
       "        text-align: right;\n",
       "    }\n",
       "</style>\n",
       "<table border=\"1\" class=\"dataframe\">\n",
       "  <thead>\n",
       "    <tr style=\"text-align: right;\">\n",
       "      <th></th>\n",
       "      <th>Missing Values</th>\n",
       "      <th>Missing Values (%)</th>\n",
       "    </tr>\n",
       "  </thead>\n",
       "  <tbody>\n",
       "    <tr>\n",
       "      <th>count</th>\n",
       "      <td>11.0</td>\n",
       "      <td>11.0</td>\n",
       "    </tr>\n",
       "    <tr>\n",
       "      <th>mean</th>\n",
       "      <td>150000.0</td>\n",
       "      <td>100.0</td>\n",
       "    </tr>\n",
       "    <tr>\n",
       "      <th>std</th>\n",
       "      <td>0.0</td>\n",
       "      <td>0.0</td>\n",
       "    </tr>\n",
       "    <tr>\n",
       "      <th>min</th>\n",
       "      <td>150000.0</td>\n",
       "      <td>100.0</td>\n",
       "    </tr>\n",
       "    <tr>\n",
       "      <th>25%</th>\n",
       "      <td>150000.0</td>\n",
       "      <td>100.0</td>\n",
       "    </tr>\n",
       "    <tr>\n",
       "      <th>50%</th>\n",
       "      <td>150000.0</td>\n",
       "      <td>100.0</td>\n",
       "    </tr>\n",
       "    <tr>\n",
       "      <th>75%</th>\n",
       "      <td>150000.0</td>\n",
       "      <td>100.0</td>\n",
       "    </tr>\n",
       "    <tr>\n",
       "      <th>max</th>\n",
       "      <td>150000.0</td>\n",
       "      <td>100.0</td>\n",
       "    </tr>\n",
       "  </tbody>\n",
       "</table>\n",
       "</div>"
      ],
      "text/plain": [
       "       Missing Values  Missing Values (%)\n",
       "count            11.0                11.0\n",
       "mean         150000.0               100.0\n",
       "std               0.0                 0.0\n",
       "min          150000.0               100.0\n",
       "25%          150000.0               100.0\n",
       "50%          150000.0               100.0\n",
       "75%          150000.0               100.0\n",
       "max          150000.0               100.0"
      ]
     },
     "execution_count": 23,
     "metadata": {},
     "output_type": "execute_result"
    }
   ],
   "source": [
    "\n",
    "\n",
    "# Filter the DataFrame to select columns with 100% missing values\n",
    "df_missing_100 = ms_val[ms_val['Missing Values (%)'] == 100.0]\n",
    "\n",
    "# Print the resulting DataFrame\n",
    "df_missing_100.describe()\n"
   ]
  },
  {
   "cell_type": "code",
   "execution_count": null,
   "metadata": {},
   "outputs": [],
   "source": [
    "# preparing dataset for base modeling"
   ]
  },
  {
   "cell_type": "code",
   "execution_count": 5,
   "metadata": {},
   "outputs": [],
   "source": [
    "# prepare dataset for training\n",
    "def ds_base_prep(df):\n",
    "    # missing change for -1\n",
    "    df.fillna(-1, inplace=True)\n",
    "\n",
    "    # remove abon_id\n",
    "    return(df)\n",
    "\n",
    "    "
   ]
  },
  {
   "cell_type": "code",
   "execution_count": 6,
   "metadata": {},
   "outputs": [],
   "source": [
    "df_tr = ds_base_prep(df_train_fe)"
   ]
  },
  {
   "cell_type": "code",
   "execution_count": null,
   "metadata": {},
   "outputs": [],
   "source": []
  },
  {
   "cell_type": "code",
   "execution_count": 7,
   "metadata": {},
   "outputs": [],
   "source": [
    "y = df_tr['target']\n",
    "X = df_tr.drop(['target', 'abon_id'], axis=1)\n",
    "X_train, X_test, y_train, y_test = train_test_split(X, y, test_size = 0.2, random_state=777, shuffle=True)\n"
   ]
  },
  {
   "attachments": {},
   "cell_type": "markdown",
   "metadata": {},
   "source": [
    "## Train Model"
   ]
  },
  {
   "attachments": {},
   "cell_type": "markdown",
   "metadata": {},
   "source": [
    "### Base Model"
   ]
  },
  {
   "cell_type": "code",
   "execution_count": null,
   "metadata": {},
   "outputs": [],
   "source": []
  },
  {
   "cell_type": "code",
   "execution_count": 39,
   "metadata": {},
   "outputs": [],
   "source": [
    "\n"
   ]
  },
  {
   "cell_type": "code",
   "execution_count": 12,
   "metadata": {},
   "outputs": [],
   "source": [
    "import lightgbm as lgb\n",
    "def my_trainer_lgb(model, X_train):\n",
    "    kf = KFold(n_splits=5, shuffle=True, random_state=777)\n",
    "    callback2 = lgb.log_evaluation(period = 50)\n",
    "    list_tr_acc = []\n",
    "    list_val_acc = []\n",
    "    n=0\n",
    "    for train_index, val_index in kf.split(X_train):\n",
    "        n +=1\n",
    "        # print('Fold№', n)\n",
    "        X_tr, X_val = X_train.iloc[train_index], X_train.iloc[val_index]\n",
    "        y_tr, y_val = y_train.iloc[train_index], y_train.iloc[val_index]\n",
    "        \n",
    "        model.fit(X_tr, y_tr, eval_set=[(X_tr, y_tr),(X_val, y_val)], eval_names=['Train', 'Val'], eval_metric=('binary_error'), callbacks=[callback2,lgb.early_stopping(20)])\n",
    "        \n",
    "        y_tr_pred = model.predict(X_tr)\n",
    "        y_val_pred = model.predict(X_val)\n",
    "        \n",
    "        list_tr_acc.append(accuracy_score(y_tr, y_tr_pred))\n",
    "        list_val_acc.append(accuracy_score(y_val, y_val_pred))\n",
    "\n",
    "    print('total Accuracy train= ', np.mean(np.array(list_tr_acc)))\n",
    "    print('total Accuracy val= ', np.mean(np.array(list_val_acc)))\n",
    "    return np.mean(np.array(list_val_acc))  - (np.mean(np.array(list_tr_acc)) - np.mean(np.array(list_val_acc)))"
   ]
  },
  {
   "cell_type": "code",
   "execution_count": 9,
   "metadata": {},
   "outputs": [],
   "source": [
    "from hyperopt import hp, fmin, tpe\n",
    "import numpy as np\n",
    "from sklearn.metrics import auc\n",
    "from sklearn.model_selection import cross_val_score, KFold"
   ]
  },
  {
   "cell_type": "code",
   "execution_count": 10,
   "metadata": {},
   "outputs": [],
   "source": [
    "space = {\n",
    "    'learning_rate': hp.choice('learning_rate', np.arange(0.001,0.1, 0.001)),\n",
    "    'max_depth':    hp.choice(\"max_depth\",  np.arange(2,7,1)),\n",
    "    'num_leaves': hp.choice('num_leaves', np.arange(10, 128, 10, dtype=int))}"
   ]
  },
  {
   "cell_type": "code",
   "execution_count": 14,
   "metadata": {},
   "outputs": [],
   "source": [
    "def objective(params):\n",
    "    param = {   'objective': 'binary',\n",
    "                'metric': 'auc',\n",
    "                'num_boost_round': 500,\n",
    "                'is_unbalance': True}\n",
    "    clf = lgb.LGBMClassifier(\n",
    "        n_jobs=-1,\n",
    "        **param,\n",
    "        **params\n",
    "    )  \n",
    "    score = my_trainer_lgb(clf, X_train)\n",
    "    print(\"AUC {:.3f} params {}\".format(score, params))\n",
    "    return -score"
   ]
  },
  {
   "cell_type": "code",
   "execution_count": 17,
   "metadata": {},
   "outputs": [
    {
     "name": "stdout",
     "output_type": "stream",
     "text": [
      "  0%|          | 0/50 [00:00<?, ?trial/s, best loss=?]"
     ]
    },
    {
     "name": "stderr",
     "output_type": "stream",
     "text": [
      "c:\\Program Files\\Python310\\lib\\site-packages\\lightgbm\\engine.py:177: UserWarning: Found `num_boost_round` in params. Will use it instead of argument\n",
      "  _log_warning(f\"Found `{alias}` in params. Will use it instead of argument\")\n",
      "\n"
     ]
    },
    {
     "name": "stdout",
     "output_type": "stream",
     "text": [
      "Training until validation scores don't improve for 20 rounds\n",
      "Early stopping, best iteration is:                    \n",
      "[17]\tTrain's binary_error: 0.0550833\tTrain's auc: 0.897374\tVal's binary_error: 0.0561667\tVal's auc: 0.884884\n",
      "  0%|          | 0/50 [00:08<?, ?trial/s, best loss=?]"
     ]
    },
    {
     "name": "stderr",
     "output_type": "stream",
     "text": [
      "c:\\Program Files\\Python310\\lib\\site-packages\\lightgbm\\engine.py:177: UserWarning: Found `num_boost_round` in params. Will use it instead of argument\n",
      "  _log_warning(f\"Found `{alias}` in params. Will use it instead of argument\")\n",
      "\n"
     ]
    },
    {
     "name": "stdout",
     "output_type": "stream",
     "text": [
      "[LightGBM] [Warning] num_iterations is set=500, num_boost_round=500 will be ignored. Current value: num_iterations=500\n",
      "Training until validation scores don't improve for 20 rounds\n",
      "Early stopping, best iteration is:                    \n",
      "[18]\tTrain's binary_error: 0.0542917\tTrain's auc: 0.898962\tVal's binary_error: 0.0544167\tVal's auc: 0.878644\n",
      "  0%|          | 0/50 [00:19<?, ?trial/s, best loss=?]"
     ]
    },
    {
     "name": "stderr",
     "output_type": "stream",
     "text": [
      "c:\\Program Files\\Python310\\lib\\site-packages\\lightgbm\\engine.py:177: UserWarning: Found `num_boost_round` in params. Will use it instead of argument\n",
      "  _log_warning(f\"Found `{alias}` in params. Will use it instead of argument\")\n",
      "\n"
     ]
    },
    {
     "name": "stdout",
     "output_type": "stream",
     "text": [
      "[LightGBM] [Warning] num_iterations is set=500, num_boost_round=500 will be ignored. Current value: num_iterations=500\n",
      "Training until validation scores don't improve for 20 rounds\n",
      "Early stopping, best iteration is:                    \n",
      "[18]\tTrain's binary_error: 0.0531563\tTrain's auc: 0.899145\tVal's binary_error: 0.056875\tVal's auc: 0.887898\n",
      "  0%|          | 0/50 [00:29<?, ?trial/s, best loss=?]"
     ]
    },
    {
     "name": "stderr",
     "output_type": "stream",
     "text": [
      "c:\\Program Files\\Python310\\lib\\site-packages\\lightgbm\\engine.py:177: UserWarning: Found `num_boost_round` in params. Will use it instead of argument\n",
      "  _log_warning(f\"Found `{alias}` in params. Will use it instead of argument\")\n",
      "\n"
     ]
    },
    {
     "name": "stdout",
     "output_type": "stream",
     "text": [
      "[LightGBM] [Warning] num_iterations is set=500, num_boost_round=500 will be ignored. Current value: num_iterations=500\n",
      "Training until validation scores don't improve for 20 rounds\n",
      "Early stopping, best iteration is:                    \n",
      "[18]\tTrain's binary_error: 0.0532188\tTrain's auc: 0.895557\tVal's binary_error: 0.0554583\tVal's auc: 0.882279\n",
      "  0%|          | 0/50 [00:39<?, ?trial/s, best loss=?]"
     ]
    },
    {
     "name": "stderr",
     "output_type": "stream",
     "text": [
      "c:\\Program Files\\Python310\\lib\\site-packages\\lightgbm\\engine.py:177: UserWarning: Found `num_boost_round` in params. Will use it instead of argument\n",
      "  _log_warning(f\"Found `{alias}` in params. Will use it instead of argument\")\n",
      "\n"
     ]
    },
    {
     "name": "stdout",
     "output_type": "stream",
     "text": [
      "[LightGBM] [Warning] num_iterations is set=500, num_boost_round=500 will be ignored. Current value: num_iterations=500\n",
      "Training until validation scores don't improve for 20 rounds\n",
      "Early stopping, best iteration is:                    \n",
      "[18]\tTrain's binary_error: 0.0536354\tTrain's auc: 0.896468\tVal's binary_error: 0.0556667\tVal's auc: 0.880924\n",
      "total Accuracy train=                                 \n",
      "0.9461229166666667                                    \n",
      "total Accuracy val=                                   \n",
      "0.9442833333333335                                    \n",
      "AUC 0.942 params {'learning_rate': 0.038, 'max_depth': 5, 'num_leaves': 60}\n",
      "  2%|▏         | 1/50 [00:50<41:30, 50.83s/trial, best loss: -0.9424437500000002]"
     ]
    },
    {
     "name": "stderr",
     "output_type": "stream",
     "text": [
      "c:\\Program Files\\Python310\\lib\\site-packages\\lightgbm\\engine.py:177: UserWarning: Found `num_boost_round` in params. Will use it instead of argument\n",
      "  _log_warning(f\"Found `{alias}` in params. Will use it instead of argument\")\n",
      "\n"
     ]
    },
    {
     "name": "stdout",
     "output_type": "stream",
     "text": [
      "[LightGBM] [Warning] num_iterations is set=500, num_boost_round=500 will be ignored. Current value: num_iterations=500\n",
      "Training until validation scores don't improve for 20 rounds                     \n",
      "Early stopping, best iteration is:                                               \n",
      "[1]\tTrain's binary_error: 0.0643229\tTrain's auc: 0.837167\tVal's binary_error: 0.062125\tVal's auc: 0.838127\n",
      "  2%|▏         | 1/50 [00:58<41:30, 50.83s/trial, best loss: -0.9424437500000002]"
     ]
    },
    {
     "name": "stderr",
     "output_type": "stream",
     "text": [
      "c:\\Program Files\\Python310\\lib\\site-packages\\lightgbm\\engine.py:177: UserWarning: Found `num_boost_round` in params. Will use it instead of argument\n",
      "  _log_warning(f\"Found `{alias}` in params. Will use it instead of argument\")\n",
      "\n"
     ]
    },
    {
     "name": "stdout",
     "output_type": "stream",
     "text": [
      "[LightGBM] [Warning] num_iterations is set=500, num_boost_round=500 will be ignored. Current value: num_iterations=500\n",
      "Training until validation scores don't improve for 20 rounds                     \n",
      "Early stopping, best iteration is:                                               \n",
      "[1]\tTrain's binary_error: 0.0644792\tTrain's auc: 0.838433\tVal's binary_error: 0.0615\tVal's auc: 0.831177\n",
      "  2%|▏         | 1/50 [01:06<41:30, 50.83s/trial, best loss: -0.9424437500000002]"
     ]
    },
    {
     "name": "stderr",
     "output_type": "stream",
     "text": [
      "c:\\Program Files\\Python310\\lib\\site-packages\\lightgbm\\engine.py:177: UserWarning: Found `num_boost_round` in params. Will use it instead of argument\n",
      "  _log_warning(f\"Found `{alias}` in params. Will use it instead of argument\")\n",
      "\n"
     ]
    },
    {
     "name": "stdout",
     "output_type": "stream",
     "text": [
      "[LightGBM] [Warning] num_iterations is set=500, num_boost_round=500 will be ignored. Current value: num_iterations=500\n",
      "Training until validation scores don't improve for 20 rounds                     \n",
      "Early stopping, best iteration is:                                               \n",
      "[1]\tTrain's binary_error: 0.0632812\tTrain's auc: 0.833947\tVal's binary_error: 0.0662917\tVal's auc: 0.839833\n",
      "  2%|▏         | 1/50 [01:14<41:30, 50.83s/trial, best loss: -0.9424437500000002]"
     ]
    },
    {
     "name": "stderr",
     "output_type": "stream",
     "text": [
      "c:\\Program Files\\Python310\\lib\\site-packages\\lightgbm\\engine.py:177: UserWarning: Found `num_boost_round` in params. Will use it instead of argument\n",
      "  _log_warning(f\"Found `{alias}` in params. Will use it instead of argument\")\n",
      "\n"
     ]
    },
    {
     "name": "stdout",
     "output_type": "stream",
     "text": [
      "[LightGBM] [Warning] num_iterations is set=500, num_boost_round=500 will be ignored. Current value: num_iterations=500\n",
      "Training until validation scores don't improve for 20 rounds                     \n",
      "Early stopping, best iteration is:                                               \n",
      "[1]\tTrain's binary_error: 0.063375\tTrain's auc: 0.836211\tVal's binary_error: 0.0659167\tVal's auc: 0.836728\n",
      "  2%|▏         | 1/50 [01:22<41:30, 50.83s/trial, best loss: -0.9424437500000002]"
     ]
    },
    {
     "name": "stderr",
     "output_type": "stream",
     "text": [
      "c:\\Program Files\\Python310\\lib\\site-packages\\lightgbm\\engine.py:177: UserWarning: Found `num_boost_round` in params. Will use it instead of argument\n",
      "  _log_warning(f\"Found `{alias}` in params. Will use it instead of argument\")\n",
      "\n"
     ]
    },
    {
     "name": "stdout",
     "output_type": "stream",
     "text": [
      "[LightGBM] [Warning] num_iterations is set=500, num_boost_round=500 will be ignored. Current value: num_iterations=500\n",
      "Training until validation scores don't improve for 20 rounds                     \n",
      "Early stopping, best iteration is:                                               \n",
      "[1]\tTrain's binary_error: 0.0639583\tTrain's auc: 0.837365\tVal's binary_error: 0.0635833\tVal's auc: 0.831946\n",
      "total Accuracy train=                                                            \n",
      "0.9361166666666666                                                               \n",
      "total Accuracy val=                                                              \n",
      "0.9361166666666666                                                               \n",
      "AUC 0.936 params {'learning_rate': 0.003, 'max_depth': 3, 'num_leaves': 80}      \n",
      "  4%|▍         | 2/50 [01:32<36:14, 45.29s/trial, best loss: -0.9424437500000002]"
     ]
    },
    {
     "name": "stderr",
     "output_type": "stream",
     "text": [
      "c:\\Program Files\\Python310\\lib\\site-packages\\lightgbm\\engine.py:177: UserWarning: Found `num_boost_round` in params. Will use it instead of argument\n",
      "  _log_warning(f\"Found `{alias}` in params. Will use it instead of argument\")\n",
      "\n"
     ]
    },
    {
     "name": "stdout",
     "output_type": "stream",
     "text": [
      "[LightGBM] [Warning] num_iterations is set=500, num_boost_round=500 will be ignored. Current value: num_iterations=500\n",
      "Training until validation scores don't improve for 20 rounds                     \n",
      "Early stopping, best iteration is:                                               \n",
      "[1]\tTrain's binary_error: 0.0643229\tTrain's auc: 0.837167\tVal's binary_error: 0.062125\tVal's auc: 0.838127\n",
      "  4%|▍         | 2/50 [01:39<36:14, 45.29s/trial, best loss: -0.9424437500000002]"
     ]
    },
    {
     "name": "stderr",
     "output_type": "stream",
     "text": [
      "c:\\Program Files\\Python310\\lib\\site-packages\\lightgbm\\engine.py:177: UserWarning: Found `num_boost_round` in params. Will use it instead of argument\n",
      "  _log_warning(f\"Found `{alias}` in params. Will use it instead of argument\")\n",
      "\n"
     ]
    },
    {
     "name": "stdout",
     "output_type": "stream",
     "text": [
      "[LightGBM] [Warning] num_iterations is set=500, num_boost_round=500 will be ignored. Current value: num_iterations=500\n",
      "Training until validation scores don't improve for 20 rounds                     \n",
      "Early stopping, best iteration is:                                               \n",
      "[1]\tTrain's binary_error: 0.0644792\tTrain's auc: 0.838433\tVal's binary_error: 0.0615\tVal's auc: 0.831177\n",
      "  4%|▍         | 2/50 [01:47<36:14, 45.29s/trial, best loss: -0.9424437500000002]"
     ]
    },
    {
     "name": "stderr",
     "output_type": "stream",
     "text": [
      "c:\\Program Files\\Python310\\lib\\site-packages\\lightgbm\\engine.py:177: UserWarning: Found `num_boost_round` in params. Will use it instead of argument\n",
      "  _log_warning(f\"Found `{alias}` in params. Will use it instead of argument\")\n",
      "\n"
     ]
    },
    {
     "name": "stdout",
     "output_type": "stream",
     "text": [
      "[LightGBM] [Warning] num_iterations is set=500, num_boost_round=500 will be ignored. Current value: num_iterations=500\n",
      "Training until validation scores don't improve for 20 rounds                     \n",
      "Early stopping, best iteration is:                                               \n",
      "[1]\tTrain's binary_error: 0.0632812\tTrain's auc: 0.833947\tVal's binary_error: 0.0662917\tVal's auc: 0.839833\n",
      "  4%|▍         | 2/50 [01:56<36:14, 45.29s/trial, best loss: -0.9424437500000002]"
     ]
    },
    {
     "name": "stderr",
     "output_type": "stream",
     "text": [
      "c:\\Program Files\\Python310\\lib\\site-packages\\lightgbm\\engine.py:177: UserWarning: Found `num_boost_round` in params. Will use it instead of argument\n",
      "  _log_warning(f\"Found `{alias}` in params. Will use it instead of argument\")\n",
      "\n"
     ]
    },
    {
     "name": "stdout",
     "output_type": "stream",
     "text": [
      "[LightGBM] [Warning] num_iterations is set=500, num_boost_round=500 will be ignored. Current value: num_iterations=500\n",
      "Training until validation scores don't improve for 20 rounds                     \n",
      "Early stopping, best iteration is:                                               \n",
      "[1]\tTrain's binary_error: 0.063375\tTrain's auc: 0.836211\tVal's binary_error: 0.0659167\tVal's auc: 0.836728\n",
      "  4%|▍         | 2/50 [02:04<36:14, 45.29s/trial, best loss: -0.9424437500000002]"
     ]
    },
    {
     "name": "stderr",
     "output_type": "stream",
     "text": [
      "c:\\Program Files\\Python310\\lib\\site-packages\\lightgbm\\engine.py:177: UserWarning: Found `num_boost_round` in params. Will use it instead of argument\n",
      "  _log_warning(f\"Found `{alias}` in params. Will use it instead of argument\")\n",
      "\n"
     ]
    },
    {
     "name": "stdout",
     "output_type": "stream",
     "text": [
      "[LightGBM] [Warning] num_iterations is set=500, num_boost_round=500 will be ignored. Current value: num_iterations=500\n",
      "Training until validation scores don't improve for 20 rounds                     \n",
      "Early stopping, best iteration is:                                               \n",
      "[1]\tTrain's binary_error: 0.0639583\tTrain's auc: 0.837365\tVal's binary_error: 0.0635833\tVal's auc: 0.831946\n",
      "total Accuracy train=                                                            \n",
      "0.9361166666666666                                                               \n",
      "total Accuracy val=                                                              \n",
      "0.9361166666666666                                                               \n",
      "AUC 0.936 params {'learning_rate': 0.022000000000000002, 'max_depth': 3, 'num_leaves': 70}\n",
      "  6%|▌         | 3/50 [02:14<34:19, 43.83s/trial, best loss: -0.9424437500000002]"
     ]
    },
    {
     "name": "stderr",
     "output_type": "stream",
     "text": [
      "c:\\Program Files\\Python310\\lib\\site-packages\\lightgbm\\engine.py:177: UserWarning: Found `num_boost_round` in params. Will use it instead of argument\n",
      "  _log_warning(f\"Found `{alias}` in params. Will use it instead of argument\")\n",
      "\n"
     ]
    },
    {
     "name": "stdout",
     "output_type": "stream",
     "text": [
      "[LightGBM] [Warning] num_iterations is set=500, num_boost_round=500 will be ignored. Current value: num_iterations=500\n",
      "Training until validation scores don't improve for 20 rounds                     \n",
      "Early stopping, best iteration is:                                               \n",
      "[15]\tTrain's binary_error: 0.0526771\tTrain's auc: 0.913069\tVal's binary_error: 0.0559167\tVal's auc: 0.888156\n",
      "  6%|▌         | 3/50 [02:23<34:19, 43.83s/trial, best loss: -0.9424437500000002]"
     ]
    },
    {
     "name": "stderr",
     "output_type": "stream",
     "text": [
      "c:\\Program Files\\Python310\\lib\\site-packages\\lightgbm\\engine.py:177: UserWarning: Found `num_boost_round` in params. Will use it instead of argument\n",
      "  _log_warning(f\"Found `{alias}` in params. Will use it instead of argument\")\n",
      "\n"
     ]
    },
    {
     "name": "stdout",
     "output_type": "stream",
     "text": [
      "[LightGBM] [Warning] num_iterations is set=500, num_boost_round=500 will be ignored. Current value: num_iterations=500\n",
      "Training until validation scores don't improve for 20 rounds                     \n",
      "Early stopping, best iteration is:                                               \n",
      "[15]\tTrain's binary_error: 0.0527396\tTrain's auc: 0.912208\tVal's binary_error: 0.053125\tVal's auc: 0.878682\n",
      "  6%|▌         | 3/50 [02:34<34:19, 43.83s/trial, best loss: -0.9424437500000002]"
     ]
    },
    {
     "name": "stderr",
     "output_type": "stream",
     "text": [
      "c:\\Program Files\\Python310\\lib\\site-packages\\lightgbm\\engine.py:177: UserWarning: Found `num_boost_round` in params. Will use it instead of argument\n",
      "  _log_warning(f\"Found `{alias}` in params. Will use it instead of argument\")\n",
      "\n"
     ]
    },
    {
     "name": "stdout",
     "output_type": "stream",
     "text": [
      "[LightGBM] [Warning] num_iterations is set=500, num_boost_round=500 will be ignored. Current value: num_iterations=500\n",
      "Training until validation scores don't improve for 20 rounds                     \n",
      "Early stopping, best iteration is:                                               \n",
      "[15]\tTrain's binary_error: 0.0521146\tTrain's auc: 0.911867\tVal's binary_error: 0.0577083\tVal's auc: 0.888221\n",
      "  6%|▌         | 3/50 [02:45<34:19, 43.83s/trial, best loss: -0.9424437500000002]"
     ]
    },
    {
     "name": "stderr",
     "output_type": "stream",
     "text": [
      "c:\\Program Files\\Python310\\lib\\site-packages\\lightgbm\\engine.py:177: UserWarning: Found `num_boost_round` in params. Will use it instead of argument\n",
      "  _log_warning(f\"Found `{alias}` in params. Will use it instead of argument\")\n",
      "\n"
     ]
    },
    {
     "name": "stdout",
     "output_type": "stream",
     "text": [
      "[LightGBM] [Warning] num_iterations is set=500, num_boost_round=500 will be ignored. Current value: num_iterations=500\n",
      "Training until validation scores don't improve for 20 rounds                     \n",
      "Early stopping, best iteration is:                                               \n",
      "[15]\tTrain's binary_error: 0.0525313\tTrain's auc: 0.909101\tVal's binary_error: 0.0559583\tVal's auc: 0.884446\n",
      "  6%|▌         | 3/50 [02:56<34:19, 43.83s/trial, best loss: -0.9424437500000002]"
     ]
    },
    {
     "name": "stderr",
     "output_type": "stream",
     "text": [
      "c:\\Program Files\\Python310\\lib\\site-packages\\lightgbm\\engine.py:177: UserWarning: Found `num_boost_round` in params. Will use it instead of argument\n",
      "  _log_warning(f\"Found `{alias}` in params. Will use it instead of argument\")\n",
      "\n"
     ]
    },
    {
     "name": "stdout",
     "output_type": "stream",
     "text": [
      "[LightGBM] [Warning] num_iterations is set=500, num_boost_round=500 will be ignored. Current value: num_iterations=500\n",
      "Training until validation scores don't improve for 20 rounds                     \n",
      "Early stopping, best iteration is:                                               \n",
      "[15]\tTrain's binary_error: 0.0529375\tTrain's auc: 0.911595\tVal's binary_error: 0.0561667\tVal's auc: 0.885612\n",
      "total Accuracy train=                                                            \n",
      "0.9474                                                                           \n",
      "total Accuracy val=                                                              \n",
      "0.944225                                                                         \n",
      "AUC 0.941 params {'learning_rate': 0.043000000000000003, 'max_depth': 6, 'num_leaves': 90}\n",
      "  8%|▊         | 4/50 [03:08<36:35, 47.72s/trial, best loss: -0.9424437500000002]"
     ]
    },
    {
     "name": "stderr",
     "output_type": "stream",
     "text": [
      "c:\\Program Files\\Python310\\lib\\site-packages\\lightgbm\\engine.py:177: UserWarning: Found `num_boost_round` in params. Will use it instead of argument\n",
      "  _log_warning(f\"Found `{alias}` in params. Will use it instead of argument\")\n",
      "\n"
     ]
    },
    {
     "name": "stdout",
     "output_type": "stream",
     "text": [
      "[LightGBM] [Warning] num_iterations is set=500, num_boost_round=500 will be ignored. Current value: num_iterations=500\n",
      "Training until validation scores don't improve for 20 rounds                     \n",
      "Early stopping, best iteration is:                                               \n",
      "[1]\tTrain's binary_error: 0.0643229\tTrain's auc: 0.872821\tVal's binary_error: 0.062125\tVal's auc: 0.857697\n",
      "  8%|▊         | 4/50 [03:16<36:35, 47.72s/trial, best loss: -0.9424437500000002]"
     ]
    },
    {
     "name": "stderr",
     "output_type": "stream",
     "text": [
      "c:\\Program Files\\Python310\\lib\\site-packages\\lightgbm\\engine.py:177: UserWarning: Found `num_boost_round` in params. Will use it instead of argument\n",
      "  _log_warning(f\"Found `{alias}` in params. Will use it instead of argument\")\n",
      "\n"
     ]
    },
    {
     "name": "stdout",
     "output_type": "stream",
     "text": [
      "[LightGBM] [Warning] num_iterations is set=500, num_boost_round=500 will be ignored. Current value: num_iterations=500\n",
      "Training until validation scores don't improve for 20 rounds                     \n",
      "Early stopping, best iteration is:                                               \n",
      "[1]\tTrain's binary_error: 0.0644792\tTrain's auc: 0.873609\tVal's binary_error: 0.0615\tVal's auc: 0.849457\n",
      "  8%|▊         | 4/50 [03:25<36:35, 47.72s/trial, best loss: -0.9424437500000002]"
     ]
    },
    {
     "name": "stderr",
     "output_type": "stream",
     "text": [
      "c:\\Program Files\\Python310\\lib\\site-packages\\lightgbm\\engine.py:177: UserWarning: Found `num_boost_round` in params. Will use it instead of argument\n",
      "  _log_warning(f\"Found `{alias}` in params. Will use it instead of argument\")\n",
      "\n"
     ]
    },
    {
     "name": "stdout",
     "output_type": "stream",
     "text": [
      "[LightGBM] [Warning] num_iterations is set=500, num_boost_round=500 will be ignored. Current value: num_iterations=500\n",
      "Training until validation scores don't improve for 20 rounds                     \n",
      "Early stopping, best iteration is:                                               \n",
      "[1]\tTrain's binary_error: 0.0632812\tTrain's auc: 0.872233\tVal's binary_error: 0.0662917\tVal's auc: 0.857918\n",
      "  8%|▊         | 4/50 [03:35<36:35, 47.72s/trial, best loss: -0.9424437500000002]"
     ]
    },
    {
     "name": "stderr",
     "output_type": "stream",
     "text": [
      "c:\\Program Files\\Python310\\lib\\site-packages\\lightgbm\\engine.py:177: UserWarning: Found `num_boost_round` in params. Will use it instead of argument\n",
      "  _log_warning(f\"Found `{alias}` in params. Will use it instead of argument\")\n",
      "\n"
     ]
    },
    {
     "name": "stdout",
     "output_type": "stream",
     "text": [
      "[LightGBM] [Warning] num_iterations is set=500, num_boost_round=500 will be ignored. Current value: num_iterations=500\n",
      "Training until validation scores don't improve for 20 rounds                     \n",
      "Early stopping, best iteration is:                                               \n",
      "[1]\tTrain's binary_error: 0.063375\tTrain's auc: 0.873038\tVal's binary_error: 0.0659167\tVal's auc: 0.857479\n",
      "  8%|▊         | 4/50 [03:44<36:35, 47.72s/trial, best loss: -0.9424437500000002]"
     ]
    },
    {
     "name": "stderr",
     "output_type": "stream",
     "text": [
      "c:\\Program Files\\Python310\\lib\\site-packages\\lightgbm\\engine.py:177: UserWarning: Found `num_boost_round` in params. Will use it instead of argument\n",
      "  _log_warning(f\"Found `{alias}` in params. Will use it instead of argument\")\n",
      "\n"
     ]
    },
    {
     "name": "stdout",
     "output_type": "stream",
     "text": [
      "[LightGBM] [Warning] num_iterations is set=500, num_boost_round=500 will be ignored. Current value: num_iterations=500\n",
      "Training until validation scores don't improve for 20 rounds                     \n",
      "Early stopping, best iteration is:                                               \n",
      "[1]\tTrain's binary_error: 0.0639583\tTrain's auc: 0.874068\tVal's binary_error: 0.0635833\tVal's auc: 0.859192\n",
      "total Accuracy train=                                                            \n",
      "0.9361166666666666                                                               \n",
      "total Accuracy val=                                                              \n",
      "0.9361166666666666                                                               \n",
      "AUC 0.936 params {'learning_rate': 0.006, 'max_depth': 6, 'num_leaves': 60}      \n",
      " 10%|█         | 5/50 [03:55<35:44, 47.65s/trial, best loss: -0.9424437500000002]"
     ]
    },
    {
     "name": "stderr",
     "output_type": "stream",
     "text": [
      "c:\\Program Files\\Python310\\lib\\site-packages\\lightgbm\\engine.py:177: UserWarning: Found `num_boost_round` in params. Will use it instead of argument\n",
      "  _log_warning(f\"Found `{alias}` in params. Will use it instead of argument\")\n",
      "\n"
     ]
    },
    {
     "name": "stdout",
     "output_type": "stream",
     "text": [
      "[LightGBM] [Warning] num_iterations is set=500, num_boost_round=500 will be ignored. Current value: num_iterations=500\n",
      "Training until validation scores don't improve for 20 rounds                     \n",
      "Early stopping, best iteration is:                                               \n",
      "[5]\tTrain's binary_error: 0.0598854\tTrain's auc: 0.868599\tVal's binary_error: 0.0594167\tVal's auc: 0.867056\n",
      " 10%|█         | 5/50 [04:02<35:44, 47.65s/trial, best loss: -0.9424437500000002]"
     ]
    },
    {
     "name": "stderr",
     "output_type": "stream",
     "text": [
      "c:\\Program Files\\Python310\\lib\\site-packages\\lightgbm\\engine.py:177: UserWarning: Found `num_boost_round` in params. Will use it instead of argument\n",
      "  _log_warning(f\"Found `{alias}` in params. Will use it instead of argument\")\n",
      "\n"
     ]
    },
    {
     "name": "stdout",
     "output_type": "stream",
     "text": [
      "[LightGBM] [Warning] num_iterations is set=500, num_boost_round=500 will be ignored. Current value: num_iterations=500\n",
      "Training until validation scores don't improve for 20 rounds                     \n",
      "Early stopping, best iteration is:                                               \n",
      "[5]\tTrain's binary_error: 0.0604167\tTrain's auc: 0.870326\tVal's binary_error: 0.057125\tVal's auc: 0.863265\n",
      " 10%|█         | 5/50 [04:11<35:44, 47.65s/trial, best loss: -0.9424437500000002]"
     ]
    },
    {
     "name": "stderr",
     "output_type": "stream",
     "text": [
      "c:\\Program Files\\Python310\\lib\\site-packages\\lightgbm\\engine.py:177: UserWarning: Found `num_boost_round` in params. Will use it instead of argument\n",
      "  _log_warning(f\"Found `{alias}` in params. Will use it instead of argument\")\n",
      "\n"
     ]
    },
    {
     "name": "stdout",
     "output_type": "stream",
     "text": [
      "[LightGBM] [Warning] num_iterations is set=500, num_boost_round=500 will be ignored. Current value: num_iterations=500\n",
      "Training until validation scores don't improve for 20 rounds                     \n",
      "Early stopping, best iteration is:                                               \n",
      "[6]\tTrain's binary_error: 0.0588542\tTrain's auc: 0.870863\tVal's binary_error: 0.0605833\tVal's auc: 0.870682\n",
      " 10%|█         | 5/50 [04:20<35:44, 47.65s/trial, best loss: -0.9424437500000002]"
     ]
    },
    {
     "name": "stderr",
     "output_type": "stream",
     "text": [
      "c:\\Program Files\\Python310\\lib\\site-packages\\lightgbm\\engine.py:177: UserWarning: Found `num_boost_round` in params. Will use it instead of argument\n",
      "  _log_warning(f\"Found `{alias}` in params. Will use it instead of argument\")\n",
      "\n"
     ]
    },
    {
     "name": "stdout",
     "output_type": "stream",
     "text": [
      "[LightGBM] [Warning] num_iterations is set=500, num_boost_round=500 will be ignored. Current value: num_iterations=500\n",
      "Training until validation scores don't improve for 20 rounds                     \n",
      "Early stopping, best iteration is:                                               \n",
      "[6]\tTrain's binary_error: 0.0586771\tTrain's auc: 0.869939\tVal's binary_error: 0.0597083\tVal's auc: 0.865535\n",
      " 10%|█         | 5/50 [04:28<35:44, 47.65s/trial, best loss: -0.9424437500000002]"
     ]
    },
    {
     "name": "stderr",
     "output_type": "stream",
     "text": [
      "c:\\Program Files\\Python310\\lib\\site-packages\\lightgbm\\engine.py:177: UserWarning: Found `num_boost_round` in params. Will use it instead of argument\n",
      "  _log_warning(f\"Found `{alias}` in params. Will use it instead of argument\")\n",
      "\n"
     ]
    },
    {
     "name": "stdout",
     "output_type": "stream",
     "text": [
      "[LightGBM] [Warning] num_iterations is set=500, num_boost_round=500 will be ignored. Current value: num_iterations=500\n",
      "Training until validation scores don't improve for 20 rounds                     \n",
      "Early stopping, best iteration is:                                               \n",
      "[6]\tTrain's binary_error: 0.0587083\tTrain's auc: 0.87113\tVal's binary_error: 0.058625\tVal's auc: 0.863784\n",
      "total Accuracy train=                                                            \n",
      "0.9406916666666666                                                               \n",
      "total Accuracy val=                                                              \n",
      "0.9409083333333333                                                               \n",
      "AUC 0.941 params {'learning_rate': 0.099, 'max_depth': 3, 'num_leaves': 120}     \n",
      " 12%|█▏        | 6/50 [04:38<33:43, 45.98s/trial, best loss: -0.9424437500000002]"
     ]
    },
    {
     "name": "stderr",
     "output_type": "stream",
     "text": [
      "c:\\Program Files\\Python310\\lib\\site-packages\\lightgbm\\engine.py:177: UserWarning: Found `num_boost_round` in params. Will use it instead of argument\n",
      "  _log_warning(f\"Found `{alias}` in params. Will use it instead of argument\")\n",
      "\n"
     ]
    },
    {
     "name": "stdout",
     "output_type": "stream",
     "text": [
      "[LightGBM] [Warning] num_iterations is set=500, num_boost_round=500 will be ignored. Current value: num_iterations=500\n",
      "Training until validation scores don't improve for 20 rounds                     \n",
      "Early stopping, best iteration is:                                               \n",
      "[18]\tTrain's binary_error: 0.0593333\tTrain's auc: 0.861337\tVal's binary_error: 0.058375\tVal's auc: 0.860656\n",
      " 12%|█▏        | 6/50 [04:46<33:43, 45.98s/trial, best loss: -0.9424437500000002]"
     ]
    },
    {
     "name": "stderr",
     "output_type": "stream",
     "text": [
      "c:\\Program Files\\Python310\\lib\\site-packages\\lightgbm\\engine.py:177: UserWarning: Found `num_boost_round` in params. Will use it instead of argument\n",
      "  _log_warning(f\"Found `{alias}` in params. Will use it instead of argument\")\n",
      "\n"
     ]
    },
    {
     "name": "stdout",
     "output_type": "stream",
     "text": [
      "[LightGBM] [Warning] num_iterations is set=500, num_boost_round=500 will be ignored. Current value: num_iterations=500\n",
      "Training until validation scores don't improve for 20 rounds                     \n",
      "Early stopping, best iteration is:                                               \n",
      "[19]\tTrain's binary_error: 0.0592396\tTrain's auc: 0.862447\tVal's binary_error: 0.05625\tVal's auc: 0.856283\n",
      " 12%|█▏        | 6/50 [04:54<33:43, 45.98s/trial, best loss: -0.9424437500000002]"
     ]
    },
    {
     "name": "stderr",
     "output_type": "stream",
     "text": [
      "c:\\Program Files\\Python310\\lib\\site-packages\\lightgbm\\engine.py:177: UserWarning: Found `num_boost_round` in params. Will use it instead of argument\n",
      "  _log_warning(f\"Found `{alias}` in params. Will use it instead of argument\")\n",
      "\n"
     ]
    },
    {
     "name": "stdout",
     "output_type": "stream",
     "text": [
      "[LightGBM] [Warning] num_iterations is set=500, num_boost_round=500 will be ignored. Current value: num_iterations=500\n",
      "Training until validation scores don't improve for 20 rounds                     \n",
      "Early stopping, best iteration is:                                               \n",
      "[18]\tTrain's binary_error: 0.0583646\tTrain's auc: 0.860581\tVal's binary_error: 0.0607917\tVal's auc: 0.864272\n",
      " 12%|█▏        | 6/50 [05:03<33:43, 45.98s/trial, best loss: -0.9424437500000002]"
     ]
    },
    {
     "name": "stderr",
     "output_type": "stream",
     "text": [
      "c:\\Program Files\\Python310\\lib\\site-packages\\lightgbm\\engine.py:177: UserWarning: Found `num_boost_round` in params. Will use it instead of argument\n",
      "  _log_warning(f\"Found `{alias}` in params. Will use it instead of argument\")\n",
      "\n"
     ]
    },
    {
     "name": "stdout",
     "output_type": "stream",
     "text": [
      "[LightGBM] [Warning] num_iterations is set=500, num_boost_round=500 will be ignored. Current value: num_iterations=500\n",
      "Training until validation scores don't improve for 20 rounds                     \n",
      "Early stopping, best iteration is:                                               \n",
      "[19]\tTrain's binary_error: 0.0588958\tTrain's auc: 0.861671\tVal's binary_error: 0.0602083\tVal's auc: 0.858517\n",
      " 12%|█▏        | 6/50 [05:12<33:43, 45.98s/trial, best loss: -0.9424437500000002]"
     ]
    },
    {
     "name": "stderr",
     "output_type": "stream",
     "text": [
      "c:\\Program Files\\Python310\\lib\\site-packages\\lightgbm\\engine.py:177: UserWarning: Found `num_boost_round` in params. Will use it instead of argument\n",
      "  _log_warning(f\"Found `{alias}` in params. Will use it instead of argument\")\n",
      "\n"
     ]
    },
    {
     "name": "stdout",
     "output_type": "stream",
     "text": [
      "[LightGBM] [Warning] num_iterations is set=500, num_boost_round=500 will be ignored. Current value: num_iterations=500\n",
      "Training until validation scores don't improve for 20 rounds                     \n",
      "Early stopping, best iteration is:                                               \n",
      "[19]\tTrain's binary_error: 0.0586042\tTrain's auc: 0.862697\tVal's binary_error: 0.0585417\tVal's auc: 0.856289\n",
      "total Accuracy train=                                                            \n",
      "0.9411124999999998                                                               \n",
      "total Accuracy val=                                                              \n",
      "0.9411666666666667                                                               \n",
      "AUC 0.941 params {'learning_rate': 0.036000000000000004, 'max_depth': 2, 'num_leaves': 10}\n",
      " 14%|█▍        | 7/50 [05:22<32:29, 45.33s/trial, best loss: -0.9424437500000002]"
     ]
    },
    {
     "name": "stderr",
     "output_type": "stream",
     "text": [
      "c:\\Program Files\\Python310\\lib\\site-packages\\lightgbm\\engine.py:177: UserWarning: Found `num_boost_round` in params. Will use it instead of argument\n",
      "  _log_warning(f\"Found `{alias}` in params. Will use it instead of argument\")\n",
      "\n"
     ]
    },
    {
     "name": "stdout",
     "output_type": "stream",
     "text": [
      "[LightGBM] [Warning] num_iterations is set=500, num_boost_round=500 will be ignored. Current value: num_iterations=500\n",
      "Training until validation scores don't improve for 20 rounds                     \n",
      "Early stopping, best iteration is:                                               \n",
      "[18]\tTrain's binary_error: 0.0587396\tTrain's auc: 0.884786\tVal's binary_error: 0.0589583\tVal's auc: 0.880222\n",
      " 14%|█▍        | 7/50 [05:30<32:29, 45.33s/trial, best loss: -0.9424437500000002]"
     ]
    },
    {
     "name": "stderr",
     "output_type": "stream",
     "text": [
      "c:\\Program Files\\Python310\\lib\\site-packages\\lightgbm\\engine.py:177: UserWarning: Found `num_boost_round` in params. Will use it instead of argument\n",
      "  _log_warning(f\"Found `{alias}` in params. Will use it instead of argument\")\n",
      "\n"
     ]
    },
    {
     "name": "stdout",
     "output_type": "stream",
     "text": [
      "[LightGBM] [Warning] num_iterations is set=500, num_boost_round=500 will be ignored. Current value: num_iterations=500\n",
      "Training until validation scores don't improve for 20 rounds                     \n",
      "Early stopping, best iteration is:                                               \n",
      "[18]\tTrain's binary_error: 0.0600313\tTrain's auc: 0.883866\tVal's binary_error: 0.056625\tVal's auc: 0.872897\n",
      " 14%|█▍        | 7/50 [05:40<32:29, 45.33s/trial, best loss: -0.9424437500000002]"
     ]
    },
    {
     "name": "stderr",
     "output_type": "stream",
     "text": [
      "c:\\Program Files\\Python310\\lib\\site-packages\\lightgbm\\engine.py:177: UserWarning: Found `num_boost_round` in params. Will use it instead of argument\n",
      "  _log_warning(f\"Found `{alias}` in params. Will use it instead of argument\")\n",
      "\n"
     ]
    },
    {
     "name": "stdout",
     "output_type": "stream",
     "text": [
      "[LightGBM] [Warning] num_iterations is set=500, num_boost_round=500 will be ignored. Current value: num_iterations=500\n",
      "Training until validation scores don't improve for 20 rounds                     \n",
      "Early stopping, best iteration is:                                               \n",
      "[19]\tTrain's binary_error: 0.05975\tTrain's auc: 0.88137\tVal's binary_error: 0.0607917\tVal's auc: 0.879696\n",
      " 14%|█▍        | 7/50 [05:50<32:29, 45.33s/trial, best loss: -0.9424437500000002]"
     ]
    },
    {
     "name": "stderr",
     "output_type": "stream",
     "text": [
      "c:\\Program Files\\Python310\\lib\\site-packages\\lightgbm\\engine.py:177: UserWarning: Found `num_boost_round` in params. Will use it instead of argument\n",
      "  _log_warning(f\"Found `{alias}` in params. Will use it instead of argument\")\n",
      "\n"
     ]
    },
    {
     "name": "stdout",
     "output_type": "stream",
     "text": [
      "[LightGBM] [Warning] num_iterations is set=500, num_boost_round=500 will be ignored. Current value: num_iterations=500\n",
      "Training until validation scores don't improve for 20 rounds                     \n",
      "Early stopping, best iteration is:                                               \n",
      "[18]\tTrain's binary_error: 0.0586979\tTrain's auc: 0.879902\tVal's binary_error: 0.06025\tVal's auc: 0.873908\n",
      " 14%|█▍        | 7/50 [05:59<32:29, 45.33s/trial, best loss: -0.9424437500000002]"
     ]
    },
    {
     "name": "stderr",
     "output_type": "stream",
     "text": [
      "c:\\Program Files\\Python310\\lib\\site-packages\\lightgbm\\engine.py:177: UserWarning: Found `num_boost_round` in params. Will use it instead of argument\n",
      "  _log_warning(f\"Found `{alias}` in params. Will use it instead of argument\")\n",
      "\n"
     ]
    },
    {
     "name": "stdout",
     "output_type": "stream",
     "text": [
      "[LightGBM] [Warning] num_iterations is set=500, num_boost_round=500 will be ignored. Current value: num_iterations=500\n",
      "Training until validation scores don't improve for 20 rounds                     \n",
      "Early stopping, best iteration is:                                               \n",
      "[18]\tTrain's binary_error: 0.0586563\tTrain's auc: 0.880494\tVal's binary_error: 0.0591667\tVal's auc: 0.87331\n",
      "total Accuracy train=                                                            \n",
      "0.940825                                                                         \n",
      "total Accuracy val=                                                              \n",
      "0.9408416666666666                                                               \n",
      "AUC 0.941 params {'learning_rate': 0.037000000000000005, 'max_depth': 6, 'num_leaves': 10}\n",
      " 16%|█▌        | 8/50 [06:10<32:24, 46.30s/trial, best loss: -0.9424437500000002]"
     ]
    },
    {
     "name": "stderr",
     "output_type": "stream",
     "text": [
      "c:\\Program Files\\Python310\\lib\\site-packages\\lightgbm\\engine.py:177: UserWarning: Found `num_boost_round` in params. Will use it instead of argument\n",
      "  _log_warning(f\"Found `{alias}` in params. Will use it instead of argument\")\n",
      "\n"
     ]
    },
    {
     "name": "stdout",
     "output_type": "stream",
     "text": [
      "[LightGBM] [Warning] num_iterations is set=500, num_boost_round=500 will be ignored. Current value: num_iterations=500\n",
      "Training until validation scores don't improve for 20 rounds                     \n",
      "Early stopping, best iteration is:                                               \n",
      "[1]\tTrain's binary_error: 0.0643229\tTrain's auc: 0.837167\tVal's binary_error: 0.062125\tVal's auc: 0.838127\n",
      " 16%|█▌        | 8/50 [06:18<32:24, 46.30s/trial, best loss: -0.9424437500000002]"
     ]
    },
    {
     "name": "stderr",
     "output_type": "stream",
     "text": [
      "c:\\Program Files\\Python310\\lib\\site-packages\\lightgbm\\engine.py:177: UserWarning: Found `num_boost_round` in params. Will use it instead of argument\n",
      "  _log_warning(f\"Found `{alias}` in params. Will use it instead of argument\")\n",
      "\n"
     ]
    },
    {
     "name": "stdout",
     "output_type": "stream",
     "text": [
      "[LightGBM] [Warning] num_iterations is set=500, num_boost_round=500 will be ignored. Current value: num_iterations=500\n",
      "Training until validation scores don't improve for 20 rounds                     \n",
      "Early stopping, best iteration is:                                               \n",
      "[1]\tTrain's binary_error: 0.0644792\tTrain's auc: 0.838433\tVal's binary_error: 0.0615\tVal's auc: 0.831177\n",
      " 16%|█▌        | 8/50 [06:26<32:24, 46.30s/trial, best loss: -0.9424437500000002]"
     ]
    },
    {
     "name": "stderr",
     "output_type": "stream",
     "text": [
      "c:\\Program Files\\Python310\\lib\\site-packages\\lightgbm\\engine.py:177: UserWarning: Found `num_boost_round` in params. Will use it instead of argument\n",
      "  _log_warning(f\"Found `{alias}` in params. Will use it instead of argument\")\n",
      "\n"
     ]
    },
    {
     "name": "stdout",
     "output_type": "stream",
     "text": [
      "[LightGBM] [Warning] num_iterations is set=500, num_boost_round=500 will be ignored. Current value: num_iterations=500\n",
      "Training until validation scores don't improve for 20 rounds                     \n",
      "Early stopping, best iteration is:                                               \n",
      "[1]\tTrain's binary_error: 0.0632812\tTrain's auc: 0.833947\tVal's binary_error: 0.0662917\tVal's auc: 0.839833\n",
      " 16%|█▌        | 8/50 [06:34<32:24, 46.30s/trial, best loss: -0.9424437500000002]"
     ]
    },
    {
     "name": "stderr",
     "output_type": "stream",
     "text": [
      "c:\\Program Files\\Python310\\lib\\site-packages\\lightgbm\\engine.py:177: UserWarning: Found `num_boost_round` in params. Will use it instead of argument\n",
      "  _log_warning(f\"Found `{alias}` in params. Will use it instead of argument\")\n",
      "\n"
     ]
    },
    {
     "name": "stdout",
     "output_type": "stream",
     "text": [
      "[LightGBM] [Warning] num_iterations is set=500, num_boost_round=500 will be ignored. Current value: num_iterations=500\n",
      "Training until validation scores don't improve for 20 rounds                     \n",
      "Early stopping, best iteration is:                                               \n",
      "[1]\tTrain's binary_error: 0.063375\tTrain's auc: 0.836211\tVal's binary_error: 0.0659167\tVal's auc: 0.836728\n",
      " 16%|█▌        | 8/50 [06:43<32:24, 46.30s/trial, best loss: -0.9424437500000002]"
     ]
    },
    {
     "name": "stderr",
     "output_type": "stream",
     "text": [
      "c:\\Program Files\\Python310\\lib\\site-packages\\lightgbm\\engine.py:177: UserWarning: Found `num_boost_round` in params. Will use it instead of argument\n",
      "  _log_warning(f\"Found `{alias}` in params. Will use it instead of argument\")\n",
      "\n"
     ]
    },
    {
     "name": "stdout",
     "output_type": "stream",
     "text": [
      "[LightGBM] [Warning] num_iterations is set=500, num_boost_round=500 will be ignored. Current value: num_iterations=500\n",
      "Training until validation scores don't improve for 20 rounds                     \n",
      "Early stopping, best iteration is:                                               \n",
      "[1]\tTrain's binary_error: 0.0639583\tTrain's auc: 0.837365\tVal's binary_error: 0.0635833\tVal's auc: 0.831946\n",
      "total Accuracy train=                                                            \n",
      "0.9361166666666666                                                               \n",
      "total Accuracy val=                                                              \n",
      "0.9361166666666666                                                               \n",
      "AUC 0.936 params {'learning_rate': 0.027000000000000003, 'max_depth': 3, 'num_leaves': 30}\n",
      " 18%|█▊        | 9/50 [06:52<30:45, 45.02s/trial, best loss: -0.9424437500000002]"
     ]
    },
    {
     "name": "stderr",
     "output_type": "stream",
     "text": [
      "c:\\Program Files\\Python310\\lib\\site-packages\\lightgbm\\engine.py:177: UserWarning: Found `num_boost_round` in params. Will use it instead of argument\n",
      "  _log_warning(f\"Found `{alias}` in params. Will use it instead of argument\")\n",
      "\n"
     ]
    },
    {
     "name": "stdout",
     "output_type": "stream",
     "text": [
      "[LightGBM] [Warning] num_iterations is set=500, num_boost_round=500 will be ignored. Current value: num_iterations=500\n",
      "Training until validation scores don't improve for 20 rounds                     \n",
      "Early stopping, best iteration is:                                               \n",
      "[5]\tTrain's binary_error: 0.0606458\tTrain's auc: 0.879914\tVal's binary_error: 0.059375\tVal's auc: 0.873714\n",
      " 18%|█▊        | 9/50 [07:00<30:45, 45.02s/trial, best loss: -0.9424437500000002]"
     ]
    },
    {
     "name": "stderr",
     "output_type": "stream",
     "text": [
      "c:\\Program Files\\Python310\\lib\\site-packages\\lightgbm\\engine.py:177: UserWarning: Found `num_boost_round` in params. Will use it instead of argument\n",
      "  _log_warning(f\"Found `{alias}` in params. Will use it instead of argument\")\n",
      "\n"
     ]
    },
    {
     "name": "stdout",
     "output_type": "stream",
     "text": [
      "[LightGBM] [Warning] num_iterations is set=500, num_boost_round=500 will be ignored. Current value: num_iterations=500\n",
      "Training until validation scores don't improve for 20 rounds                     \n",
      "Early stopping, best iteration is:                                               \n",
      "[6]\tTrain's binary_error: 0.0583125\tTrain's auc: 0.882444\tVal's binary_error: 0.0568333\tVal's auc: 0.871123\n",
      " 18%|█▊        | 9/50 [07:09<30:45, 45.02s/trial, best loss: -0.9424437500000002]"
     ]
    },
    {
     "name": "stderr",
     "output_type": "stream",
     "text": [
      "c:\\Program Files\\Python310\\lib\\site-packages\\lightgbm\\engine.py:177: UserWarning: Found `num_boost_round` in params. Will use it instead of argument\n",
      "  _log_warning(f\"Found `{alias}` in params. Will use it instead of argument\")\n",
      "\n"
     ]
    },
    {
     "name": "stdout",
     "output_type": "stream",
     "text": [
      "[LightGBM] [Warning] num_iterations is set=500, num_boost_round=500 will be ignored. Current value: num_iterations=500\n",
      "Training until validation scores don't improve for 20 rounds                     \n",
      "Early stopping, best iteration is:                                               \n",
      "[6]\tTrain's binary_error: 0.0597813\tTrain's auc: 0.880917\tVal's binary_error: 0.0619167\tVal's auc: 0.87716\n",
      " 18%|█▊        | 9/50 [07:18<30:45, 45.02s/trial, best loss: -0.9424437500000002]"
     ]
    },
    {
     "name": "stderr",
     "output_type": "stream",
     "text": [
      "c:\\Program Files\\Python310\\lib\\site-packages\\lightgbm\\engine.py:177: UserWarning: Found `num_boost_round` in params. Will use it instead of argument\n",
      "  _log_warning(f\"Found `{alias}` in params. Will use it instead of argument\")\n",
      "\n"
     ]
    },
    {
     "name": "stdout",
     "output_type": "stream",
     "text": [
      "[LightGBM] [Warning] num_iterations is set=500, num_boost_round=500 will be ignored. Current value: num_iterations=500\n",
      "Training until validation scores don't improve for 20 rounds                     \n",
      "Early stopping, best iteration is:                                               \n",
      "[6]\tTrain's binary_error: 0.0582083\tTrain's auc: 0.878918\tVal's binary_error: 0.0600417\tVal's auc: 0.872485\n",
      " 18%|█▊        | 9/50 [07:27<30:45, 45.02s/trial, best loss: -0.9424437500000002]"
     ]
    },
    {
     "name": "stderr",
     "output_type": "stream",
     "text": [
      "c:\\Program Files\\Python310\\lib\\site-packages\\lightgbm\\engine.py:177: UserWarning: Found `num_boost_round` in params. Will use it instead of argument\n",
      "  _log_warning(f\"Found `{alias}` in params. Will use it instead of argument\")\n",
      "\n"
     ]
    },
    {
     "name": "stdout",
     "output_type": "stream",
     "text": [
      "[LightGBM] [Warning] num_iterations is set=500, num_boost_round=500 will be ignored. Current value: num_iterations=500\n",
      "Training until validation scores don't improve for 20 rounds                     \n",
      "Early stopping, best iteration is:                                               \n",
      "[6]\tTrain's binary_error: 0.0580208\tTrain's auc: 0.881535\tVal's binary_error: 0.0588333\tVal's auc: 0.872046\n",
      "total Accuracy train=                                                            \n",
      "0.94100625                                                                       \n",
      "total Accuracy val=                                                              \n",
      "0.9406000000000001                                                               \n",
      "AUC 0.940 params {'learning_rate': 0.099, 'max_depth': 4, 'num_leaves': 110}     \n",
      " 20%|██        | 10/50 [07:37<29:52, 44.81s/trial, best loss: -0.9424437500000002]"
     ]
    },
    {
     "name": "stderr",
     "output_type": "stream",
     "text": [
      "c:\\Program Files\\Python310\\lib\\site-packages\\lightgbm\\engine.py:177: UserWarning: Found `num_boost_round` in params. Will use it instead of argument\n",
      "  _log_warning(f\"Found `{alias}` in params. Will use it instead of argument\")\n",
      "\n"
     ]
    },
    {
     "name": "stdout",
     "output_type": "stream",
     "text": [
      "[LightGBM] [Warning] num_iterations is set=500, num_boost_round=500 will be ignored. Current value: num_iterations=500\n",
      "Training until validation scores don't improve for 20 rounds                      \n",
      "Early stopping, best iteration is:                                                \n",
      "[14]\tTrain's binary_error: 0.0531979\tTrain's auc: 0.898471\tVal's binary_error: 0.0565833\tVal's auc: 0.885391\n",
      " 20%|██        | 10/50 [07:46<29:52, 44.81s/trial, best loss: -0.9424437500000002]"
     ]
    },
    {
     "name": "stderr",
     "output_type": "stream",
     "text": [
      "c:\\Program Files\\Python310\\lib\\site-packages\\lightgbm\\engine.py:177: UserWarning: Found `num_boost_round` in params. Will use it instead of argument\n",
      "  _log_warning(f\"Found `{alias}` in params. Will use it instead of argument\")\n",
      "\n"
     ]
    },
    {
     "name": "stdout",
     "output_type": "stream",
     "text": [
      "[LightGBM] [Warning] num_iterations is set=500, num_boost_round=500 will be ignored. Current value: num_iterations=500\n",
      "Training until validation scores don't improve for 20 rounds                      \n",
      "Early stopping, best iteration is:                                                \n",
      "[14]\tTrain's binary_error: 0.054375\tTrain's auc: 0.897833\tVal's binary_error: 0.0534167\tVal's auc: 0.878377\n",
      " 20%|██        | 10/50 [07:56<29:52, 44.81s/trial, best loss: -0.9424437500000002]"
     ]
    },
    {
     "name": "stderr",
     "output_type": "stream",
     "text": [
      "c:\\Program Files\\Python310\\lib\\site-packages\\lightgbm\\engine.py:177: UserWarning: Found `num_boost_round` in params. Will use it instead of argument\n",
      "  _log_warning(f\"Found `{alias}` in params. Will use it instead of argument\")\n",
      "\n"
     ]
    },
    {
     "name": "stdout",
     "output_type": "stream",
     "text": [
      "[LightGBM] [Warning] num_iterations is set=500, num_boost_round=500 will be ignored. Current value: num_iterations=500\n",
      "Training until validation scores don't improve for 20 rounds                      \n",
      "Early stopping, best iteration is:                                                \n",
      "[14]\tTrain's binary_error: 0.0535104\tTrain's auc: 0.897807\tVal's binary_error: 0.0577917\tVal's auc: 0.885795\n",
      " 20%|██        | 10/50 [08:05<29:52, 44.81s/trial, best loss: -0.9424437500000002]"
     ]
    },
    {
     "name": "stderr",
     "output_type": "stream",
     "text": [
      "c:\\Program Files\\Python310\\lib\\site-packages\\lightgbm\\engine.py:177: UserWarning: Found `num_boost_round` in params. Will use it instead of argument\n",
      "  _log_warning(f\"Found `{alias}` in params. Will use it instead of argument\")\n",
      "\n"
     ]
    },
    {
     "name": "stdout",
     "output_type": "stream",
     "text": [
      "[LightGBM] [Warning] num_iterations is set=500, num_boost_round=500 will be ignored. Current value: num_iterations=500\n",
      "Training until validation scores don't improve for 20 rounds                      \n",
      "Early stopping, best iteration is:                                                \n",
      "[14]\tTrain's binary_error: 0.0538333\tTrain's auc: 0.893231\tVal's binary_error: 0.0555\tVal's auc: 0.879824\n",
      " 20%|██        | 10/50 [08:15<29:52, 44.81s/trial, best loss: -0.9424437500000002]"
     ]
    },
    {
     "name": "stderr",
     "output_type": "stream",
     "text": [
      "c:\\Program Files\\Python310\\lib\\site-packages\\lightgbm\\engine.py:177: UserWarning: Found `num_boost_round` in params. Will use it instead of argument\n",
      "  _log_warning(f\"Found `{alias}` in params. Will use it instead of argument\")\n",
      "\n"
     ]
    },
    {
     "name": "stdout",
     "output_type": "stream",
     "text": [
      "[LightGBM] [Warning] num_iterations is set=500, num_boost_round=500 will be ignored. Current value: num_iterations=500\n",
      "Training until validation scores don't improve for 20 rounds                      \n",
      "Early stopping, best iteration is:                                                \n",
      "[14]\tTrain's binary_error: 0.0536563\tTrain's auc: 0.896602\tVal's binary_error: 0.055875\tVal's auc: 0.881356\n",
      "total Accuracy train=                                                             \n",
      "0.9462854166666667                                                                \n",
      "total Accuracy val=                                                               \n",
      "0.9441666666666666                                                                \n",
      "AUC 0.942 params {'learning_rate': 0.047, 'max_depth': 5, 'num_leaves': 110}      \n",
      " 22%|██▏       | 11/50 [08:26<30:01, 46.19s/trial, best loss: -0.9424437500000002]"
     ]
    },
    {
     "name": "stderr",
     "output_type": "stream",
     "text": [
      "c:\\Program Files\\Python310\\lib\\site-packages\\lightgbm\\engine.py:177: UserWarning: Found `num_boost_round` in params. Will use it instead of argument\n",
      "  _log_warning(f\"Found `{alias}` in params. Will use it instead of argument\")\n",
      "\n"
     ]
    },
    {
     "name": "stdout",
     "output_type": "stream",
     "text": [
      "[LightGBM] [Warning] num_iterations is set=500, num_boost_round=500 will be ignored. Current value: num_iterations=500\n",
      "Training until validation scores don't improve for 20 rounds                      \n",
      "Early stopping, best iteration is:                                                \n",
      "[14]\tTrain's binary_error: 0.0589167\tTrain's auc: 0.861353\tVal's binary_error: 0.0588333\tVal's auc: 0.86092\n",
      " 22%|██▏       | 11/50 [08:34<30:01, 46.19s/trial, best loss: -0.9424437500000002]"
     ]
    },
    {
     "name": "stderr",
     "output_type": "stream",
     "text": [
      "c:\\Program Files\\Python310\\lib\\site-packages\\lightgbm\\engine.py:177: UserWarning: Found `num_boost_round` in params. Will use it instead of argument\n",
      "  _log_warning(f\"Found `{alias}` in params. Will use it instead of argument\")\n",
      "\n"
     ]
    },
    {
     "name": "stdout",
     "output_type": "stream",
     "text": [
      "[LightGBM] [Warning] num_iterations is set=500, num_boost_round=500 will be ignored. Current value: num_iterations=500\n",
      "Training until validation scores don't improve for 20 rounds                      \n",
      "Early stopping, best iteration is:                                                \n",
      "[14]\tTrain's binary_error: 0.05925\tTrain's auc: 0.863156\tVal's binary_error: 0.056125\tVal's auc: 0.857019\n",
      " 22%|██▏       | 11/50 [08:42<30:01, 46.19s/trial, best loss: -0.9424437500000002]"
     ]
    },
    {
     "name": "stderr",
     "output_type": "stream",
     "text": [
      "c:\\Program Files\\Python310\\lib\\site-packages\\lightgbm\\engine.py:177: UserWarning: Found `num_boost_round` in params. Will use it instead of argument\n",
      "  _log_warning(f\"Found `{alias}` in params. Will use it instead of argument\")\n",
      "\n"
     ]
    },
    {
     "name": "stdout",
     "output_type": "stream",
     "text": [
      "[LightGBM] [Warning] num_iterations is set=500, num_boost_round=500 will be ignored. Current value: num_iterations=500\n",
      "Training until validation scores don't improve for 20 rounds                      \n",
      "Early stopping, best iteration is:                                                \n",
      "[14]\tTrain's binary_error: 0.0582917\tTrain's auc: 0.860533\tVal's binary_error: 0.0604167\tVal's auc: 0.863978\n",
      " 22%|██▏       | 11/50 [08:51<30:01, 46.19s/trial, best loss: -0.9424437500000002]"
     ]
    },
    {
     "name": "stderr",
     "output_type": "stream",
     "text": [
      "c:\\Program Files\\Python310\\lib\\site-packages\\lightgbm\\engine.py:177: UserWarning: Found `num_boost_round` in params. Will use it instead of argument\n",
      "  _log_warning(f\"Found `{alias}` in params. Will use it instead of argument\")\n",
      "\n"
     ]
    },
    {
     "name": "stdout",
     "output_type": "stream",
     "text": [
      "[LightGBM] [Warning] num_iterations is set=500, num_boost_round=500 will be ignored. Current value: num_iterations=500\n",
      "Training until validation scores don't improve for 20 rounds                      \n",
      "Early stopping, best iteration is:                                                \n",
      "[14]\tTrain's binary_error: 0.0586979\tTrain's auc: 0.861414\tVal's binary_error: 0.0599583\tVal's auc: 0.858746\n",
      " 22%|██▏       | 11/50 [08:59<30:01, 46.19s/trial, best loss: -0.9424437500000002]"
     ]
    },
    {
     "name": "stderr",
     "output_type": "stream",
     "text": [
      "c:\\Program Files\\Python310\\lib\\site-packages\\lightgbm\\engine.py:177: UserWarning: Found `num_boost_round` in params. Will use it instead of argument\n",
      "  _log_warning(f\"Found `{alias}` in params. Will use it instead of argument\")\n",
      "\n"
     ]
    },
    {
     "name": "stdout",
     "output_type": "stream",
     "text": [
      "[LightGBM] [Warning] num_iterations is set=500, num_boost_round=500 will be ignored. Current value: num_iterations=500\n",
      "Training until validation scores don't improve for 20 rounds                      \n",
      "Early stopping, best iteration is:                                                \n",
      "[14]\tTrain's binary_error: 0.0585417\tTrain's auc: 0.862236\tVal's binary_error: 0.0583333\tVal's auc: 0.855941\n",
      "total Accuracy train=                                                             \n",
      "0.9412604166666666                                                                \n",
      "total Accuracy val=                                                               \n",
      "0.9412666666666667                                                                \n",
      "AUC 0.941 params {'learning_rate': 0.047, 'max_depth': 2, 'num_leaves': 30}       \n",
      " 24%|██▍       | 12/50 [09:09<28:41, 45.31s/trial, best loss: -0.9424437500000002]"
     ]
    },
    {
     "name": "stderr",
     "output_type": "stream",
     "text": [
      "c:\\Program Files\\Python310\\lib\\site-packages\\lightgbm\\engine.py:177: UserWarning: Found `num_boost_round` in params. Will use it instead of argument\n",
      "  _log_warning(f\"Found `{alias}` in params. Will use it instead of argument\")\n",
      "\n"
     ]
    },
    {
     "name": "stdout",
     "output_type": "stream",
     "text": [
      "[LightGBM] [Warning] num_iterations is set=500, num_boost_round=500 will be ignored. Current value: num_iterations=500\n",
      "Training until validation scores don't improve for 20 rounds                      \n",
      "Early stopping, best iteration is:                                                \n",
      "[1]\tTrain's binary_error: 0.0643229\tTrain's auc: 0.86869\tVal's binary_error: 0.062125\tVal's auc: 0.862227\n",
      " 24%|██▍       | 12/50 [09:17<28:41, 45.31s/trial, best loss: -0.9424437500000002]"
     ]
    },
    {
     "name": "stderr",
     "output_type": "stream",
     "text": [
      "c:\\Program Files\\Python310\\lib\\site-packages\\lightgbm\\engine.py:177: UserWarning: Found `num_boost_round` in params. Will use it instead of argument\n",
      "  _log_warning(f\"Found `{alias}` in params. Will use it instead of argument\")\n",
      "\n"
     ]
    },
    {
     "name": "stdout",
     "output_type": "stream",
     "text": [
      "[LightGBM] [Warning] num_iterations is set=500, num_boost_round=500 will be ignored. Current value: num_iterations=500\n",
      "Training until validation scores don't improve for 20 rounds                      \n",
      "Early stopping, best iteration is:                                                \n",
      "[1]\tTrain's binary_error: 0.0644792\tTrain's auc: 0.870031\tVal's binary_error: 0.0615\tVal's auc: 0.851065\n",
      " 24%|██▍       | 12/50 [09:27<28:41, 45.31s/trial, best loss: -0.9424437500000002]"
     ]
    },
    {
     "name": "stderr",
     "output_type": "stream",
     "text": [
      "c:\\Program Files\\Python310\\lib\\site-packages\\lightgbm\\engine.py:177: UserWarning: Found `num_boost_round` in params. Will use it instead of argument\n",
      "  _log_warning(f\"Found `{alias}` in params. Will use it instead of argument\")\n",
      "\n"
     ]
    },
    {
     "name": "stdout",
     "output_type": "stream",
     "text": [
      "[LightGBM] [Warning] num_iterations is set=500, num_boost_round=500 will be ignored. Current value: num_iterations=500\n",
      "Training until validation scores don't improve for 20 rounds                      \n",
      "Early stopping, best iteration is:                                                \n",
      "[1]\tTrain's binary_error: 0.0632812\tTrain's auc: 0.868341\tVal's binary_error: 0.0662917\tVal's auc: 0.86163\n",
      " 24%|██▍       | 12/50 [09:36<28:41, 45.31s/trial, best loss: -0.9424437500000002]"
     ]
    },
    {
     "name": "stderr",
     "output_type": "stream",
     "text": [
      "c:\\Program Files\\Python310\\lib\\site-packages\\lightgbm\\engine.py:177: UserWarning: Found `num_boost_round` in params. Will use it instead of argument\n",
      "  _log_warning(f\"Found `{alias}` in params. Will use it instead of argument\")\n",
      "\n"
     ]
    },
    {
     "name": "stdout",
     "output_type": "stream",
     "text": [
      "[LightGBM] [Warning] num_iterations is set=500, num_boost_round=500 will be ignored. Current value: num_iterations=500\n",
      "Training until validation scores don't improve for 20 rounds                      \n",
      "Early stopping, best iteration is:                                                \n",
      "[1]\tTrain's binary_error: 0.063375\tTrain's auc: 0.869266\tVal's binary_error: 0.0659167\tVal's auc: 0.861828\n",
      " 24%|██▍       | 12/50 [09:45<28:41, 45.31s/trial, best loss: -0.9424437500000002]"
     ]
    },
    {
     "name": "stderr",
     "output_type": "stream",
     "text": [
      "c:\\Program Files\\Python310\\lib\\site-packages\\lightgbm\\engine.py:177: UserWarning: Found `num_boost_round` in params. Will use it instead of argument\n",
      "  _log_warning(f\"Found `{alias}` in params. Will use it instead of argument\")\n",
      "\n"
     ]
    },
    {
     "name": "stdout",
     "output_type": "stream",
     "text": [
      "[LightGBM] [Warning] num_iterations is set=500, num_boost_round=500 will be ignored. Current value: num_iterations=500\n",
      "Training until validation scores don't improve for 20 rounds                      \n",
      "Early stopping, best iteration is:                                                \n",
      "[1]\tTrain's binary_error: 0.0639583\tTrain's auc: 0.870593\tVal's binary_error: 0.0635833\tVal's auc: 0.861418\n",
      "total Accuracy train=                                                             \n",
      "0.9361166666666666                                                                \n",
      "total Accuracy val=                                                               \n",
      "0.9361166666666666                                                                \n",
      "AUC 0.936 params {'learning_rate': 0.026000000000000002, 'max_depth': 6, 'num_leaves': 30}\n",
      " 26%|██▌       | 13/50 [09:55<28:06, 45.57s/trial, best loss: -0.9424437500000002]"
     ]
    },
    {
     "name": "stderr",
     "output_type": "stream",
     "text": [
      "c:\\Program Files\\Python310\\lib\\site-packages\\lightgbm\\engine.py:177: UserWarning: Found `num_boost_round` in params. Will use it instead of argument\n",
      "  _log_warning(f\"Found `{alias}` in params. Will use it instead of argument\")\n",
      "\n"
     ]
    },
    {
     "name": "stdout",
     "output_type": "stream",
     "text": [
      "[LightGBM] [Warning] num_iterations is set=500, num_boost_round=500 will be ignored. Current value: num_iterations=500\n",
      "Training until validation scores don't improve for 20 rounds                      \n",
      "Early stopping, best iteration is:                                                \n",
      "[9]\tTrain's binary_error: 0.0555104\tTrain's auc: 0.884073\tVal's binary_error: 0.0584583\tVal's auc: 0.877407\n",
      " 26%|██▌       | 13/50 [10:04<28:06, 45.57s/trial, best loss: -0.9424437500000002]"
     ]
    },
    {
     "name": "stderr",
     "output_type": "stream",
     "text": [
      "c:\\Program Files\\Python310\\lib\\site-packages\\lightgbm\\engine.py:177: UserWarning: Found `num_boost_round` in params. Will use it instead of argument\n",
      "  _log_warning(f\"Found `{alias}` in params. Will use it instead of argument\")\n",
      "\n"
     ]
    },
    {
     "name": "stdout",
     "output_type": "stream",
     "text": [
      "[LightGBM] [Warning] num_iterations is set=500, num_boost_round=500 will be ignored. Current value: num_iterations=500\n",
      "Training until validation scores don't improve for 20 rounds                      \n",
      "Early stopping, best iteration is:                                                \n",
      "[9]\tTrain's binary_error: 0.0567187\tTrain's auc: 0.885961\tVal's binary_error: 0.055\tVal's auc: 0.874828\n",
      " 26%|██▌       | 13/50 [10:12<28:06, 45.57s/trial, best loss: -0.9424437500000002]"
     ]
    },
    {
     "name": "stderr",
     "output_type": "stream",
     "text": [
      "c:\\Program Files\\Python310\\lib\\site-packages\\lightgbm\\engine.py:177: UserWarning: Found `num_boost_round` in params. Will use it instead of argument\n",
      "  _log_warning(f\"Found `{alias}` in params. Will use it instead of argument\")\n",
      "\n"
     ]
    },
    {
     "name": "stdout",
     "output_type": "stream",
     "text": [
      "[LightGBM] [Warning] num_iterations is set=500, num_boost_round=500 will be ignored. Current value: num_iterations=500\n",
      "Training until validation scores don't improve for 20 rounds                      \n",
      "Early stopping, best iteration is:                                                \n",
      "[9]\tTrain's binary_error: 0.0556562\tTrain's auc: 0.881606\tVal's binary_error: 0.058\tVal's auc: 0.877299\n",
      " 26%|██▌       | 13/50 [10:22<28:06, 45.57s/trial, best loss: -0.9424437500000002]"
     ]
    },
    {
     "name": "stderr",
     "output_type": "stream",
     "text": [
      "c:\\Program Files\\Python310\\lib\\site-packages\\lightgbm\\engine.py:177: UserWarning: Found `num_boost_round` in params. Will use it instead of argument\n",
      "  _log_warning(f\"Found `{alias}` in params. Will use it instead of argument\")\n",
      "\n"
     ]
    },
    {
     "name": "stdout",
     "output_type": "stream",
     "text": [
      "[LightGBM] [Warning] num_iterations is set=500, num_boost_round=500 will be ignored. Current value: num_iterations=500\n",
      "Training until validation scores don't improve for 20 rounds                      \n",
      "Early stopping, best iteration is:                                                \n",
      "[9]\tTrain's binary_error: 0.0559375\tTrain's auc: 0.881933\tVal's binary_error: 0.057875\tVal's auc: 0.875086\n",
      " 26%|██▌       | 13/50 [10:30<28:06, 45.57s/trial, best loss: -0.9424437500000002]"
     ]
    },
    {
     "name": "stderr",
     "output_type": "stream",
     "text": [
      "c:\\Program Files\\Python310\\lib\\site-packages\\lightgbm\\engine.py:177: UserWarning: Found `num_boost_round` in params. Will use it instead of argument\n",
      "  _log_warning(f\"Found `{alias}` in params. Will use it instead of argument\")\n",
      "\n"
     ]
    },
    {
     "name": "stdout",
     "output_type": "stream",
     "text": [
      "[LightGBM] [Warning] num_iterations is set=500, num_boost_round=500 will be ignored. Current value: num_iterations=500\n",
      "Training until validation scores don't improve for 20 rounds                      \n",
      "Early stopping, best iteration is:                                                \n",
      "[9]\tTrain's binary_error: 0.0555833\tTrain's auc: 0.88144\tVal's binary_error: 0.0567917\tVal's auc: 0.872599\n",
      "total Accuracy train=                                                             \n",
      "0.9441187500000001                                                                \n",
      "total Accuracy val=                                                               \n",
      "0.9427749999999999                                                                \n",
      "AUC 0.941 params {'learning_rate': 0.07, 'max_depth': 4, 'num_leaves': 60}        \n",
      " 28%|██▊       | 14/50 [10:41<27:16, 45.45s/trial, best loss: -0.9424437500000002]"
     ]
    },
    {
     "name": "stderr",
     "output_type": "stream",
     "text": [
      "c:\\Program Files\\Python310\\lib\\site-packages\\lightgbm\\engine.py:177: UserWarning: Found `num_boost_round` in params. Will use it instead of argument\n",
      "  _log_warning(f\"Found `{alias}` in params. Will use it instead of argument\")\n",
      "\n"
     ]
    },
    {
     "name": "stdout",
     "output_type": "stream",
     "text": [
      "[LightGBM] [Warning] num_iterations is set=500, num_boost_round=500 will be ignored. Current value: num_iterations=500\n",
      "Training until validation scores don't improve for 20 rounds                      \n",
      "Early stopping, best iteration is:                                                \n",
      "[7]\tTrain's binary_error: 0.0547708\tTrain's auc: 0.907871\tVal's binary_error: 0.0579167\tVal's auc: 0.881589\n",
      " 28%|██▊       | 14/50 [10:49<27:16, 45.45s/trial, best loss: -0.9424437500000002]"
     ]
    },
    {
     "name": "stderr",
     "output_type": "stream",
     "text": [
      "c:\\Program Files\\Python310\\lib\\site-packages\\lightgbm\\engine.py:177: UserWarning: Found `num_boost_round` in params. Will use it instead of argument\n",
      "  _log_warning(f\"Found `{alias}` in params. Will use it instead of argument\")\n",
      "\n"
     ]
    },
    {
     "name": "stdout",
     "output_type": "stream",
     "text": [
      "[LightGBM] [Warning] num_iterations is set=500, num_boost_round=500 will be ignored. Current value: num_iterations=500\n",
      "Training until validation scores don't improve for 20 rounds                      \n",
      "Early stopping, best iteration is:                                                \n",
      "[7]\tTrain's binary_error: 0.0547083\tTrain's auc: 0.908554\tVal's binary_error: 0.0543333\tVal's auc: 0.875788\n",
      " 28%|██▊       | 14/50 [10:59<27:16, 45.45s/trial, best loss: -0.9424437500000002]"
     ]
    },
    {
     "name": "stderr",
     "output_type": "stream",
     "text": [
      "c:\\Program Files\\Python310\\lib\\site-packages\\lightgbm\\engine.py:177: UserWarning: Found `num_boost_round` in params. Will use it instead of argument\n",
      "  _log_warning(f\"Found `{alias}` in params. Will use it instead of argument\")\n",
      "\n"
     ]
    },
    {
     "name": "stdout",
     "output_type": "stream",
     "text": [
      "[LightGBM] [Warning] num_iterations is set=500, num_boost_round=500 will be ignored. Current value: num_iterations=500\n",
      "Training until validation scores don't improve for 20 rounds                      \n",
      "Early stopping, best iteration is:                                                \n",
      "[7]\tTrain's binary_error: 0.0539896\tTrain's auc: 0.906818\tVal's binary_error: 0.0585833\tVal's auc: 0.882536\n",
      " 28%|██▊       | 14/50 [11:09<27:16, 45.45s/trial, best loss: -0.9424437500000002]"
     ]
    },
    {
     "name": "stderr",
     "output_type": "stream",
     "text": [
      "c:\\Program Files\\Python310\\lib\\site-packages\\lightgbm\\engine.py:177: UserWarning: Found `num_boost_round` in params. Will use it instead of argument\n",
      "  _log_warning(f\"Found `{alias}` in params. Will use it instead of argument\")\n",
      "\n"
     ]
    },
    {
     "name": "stdout",
     "output_type": "stream",
     "text": [
      "[LightGBM] [Warning] num_iterations is set=500, num_boost_round=500 will be ignored. Current value: num_iterations=500\n",
      "Training until validation scores don't improve for 20 rounds                      \n",
      "Early stopping, best iteration is:                                                \n",
      "[7]\tTrain's binary_error: 0.0540208\tTrain's auc: 0.905485\tVal's binary_error: 0.0565\tVal's auc: 0.881892\n",
      " 28%|██▊       | 14/50 [11:19<27:16, 45.45s/trial, best loss: -0.9424437500000002]"
     ]
    },
    {
     "name": "stderr",
     "output_type": "stream",
     "text": [
      "c:\\Program Files\\Python310\\lib\\site-packages\\lightgbm\\engine.py:177: UserWarning: Found `num_boost_round` in params. Will use it instead of argument\n",
      "  _log_warning(f\"Found `{alias}` in params. Will use it instead of argument\")\n",
      "\n"
     ]
    },
    {
     "name": "stdout",
     "output_type": "stream",
     "text": [
      "[LightGBM] [Warning] num_iterations is set=500, num_boost_round=500 will be ignored. Current value: num_iterations=500\n",
      "Training until validation scores don't improve for 20 rounds                      \n",
      "Early stopping, best iteration is:                                                \n",
      "[7]\tTrain's binary_error: 0.0541771\tTrain's auc: 0.908454\tVal's binary_error: 0.0550417\tVal's auc: 0.882596\n",
      "total Accuracy train=                                                             \n",
      "0.9456666666666667                                                                \n",
      "total Accuracy val=                                                               \n",
      "0.943525                                                                          \n",
      "AUC 0.941 params {'learning_rate': 0.084, 'max_depth': 6, 'num_leaves': 50}       \n",
      " 30%|███       | 15/50 [11:30<27:15, 46.72s/trial, best loss: -0.9424437500000002]"
     ]
    },
    {
     "name": "stderr",
     "output_type": "stream",
     "text": [
      "c:\\Program Files\\Python310\\lib\\site-packages\\lightgbm\\engine.py:177: UserWarning: Found `num_boost_round` in params. Will use it instead of argument\n",
      "  _log_warning(f\"Found `{alias}` in params. Will use it instead of argument\")\n",
      "\n"
     ]
    },
    {
     "name": "stdout",
     "output_type": "stream",
     "text": [
      "[LightGBM] [Warning] num_iterations is set=500, num_boost_round=500 will be ignored. Current value: num_iterations=500\n",
      "Training until validation scores don't improve for 20 rounds                      \n",
      "Early stopping, best iteration is:                                                \n",
      "[8]\tTrain's binary_error: 0.0582083\tTrain's auc: 0.884061\tVal's binary_error: 0.0584583\tVal's auc: 0.876052\n",
      " 30%|███       | 15/50 [11:38<27:15, 46.72s/trial, best loss: -0.9424437500000002]"
     ]
    },
    {
     "name": "stderr",
     "output_type": "stream",
     "text": [
      "c:\\Program Files\\Python310\\lib\\site-packages\\lightgbm\\engine.py:177: UserWarning: Found `num_boost_round` in params. Will use it instead of argument\n",
      "  _log_warning(f\"Found `{alias}` in params. Will use it instead of argument\")\n",
      "\n"
     ]
    },
    {
     "name": "stdout",
     "output_type": "stream",
     "text": [
      "[LightGBM] [Warning] num_iterations is set=500, num_boost_round=500 will be ignored. Current value: num_iterations=500\n",
      "Training until validation scores don't improve for 20 rounds                      \n",
      "Early stopping, best iteration is:                                                \n",
      "[8]\tTrain's binary_error: 0.0583437\tTrain's auc: 0.885082\tVal's binary_error: 0.0554583\tVal's auc: 0.874108\n",
      " 30%|███       | 15/50 [11:47<27:15, 46.72s/trial, best loss: -0.9424437500000002]"
     ]
    },
    {
     "name": "stderr",
     "output_type": "stream",
     "text": [
      "c:\\Program Files\\Python310\\lib\\site-packages\\lightgbm\\engine.py:177: UserWarning: Found `num_boost_round` in params. Will use it instead of argument\n",
      "  _log_warning(f\"Found `{alias}` in params. Will use it instead of argument\")\n",
      "\n"
     ]
    },
    {
     "name": "stdout",
     "output_type": "stream",
     "text": [
      "[LightGBM] [Warning] num_iterations is set=500, num_boost_round=500 will be ignored. Current value: num_iterations=500\n",
      "Training until validation scores don't improve for 20 rounds                      \n",
      "Early stopping, best iteration is:                                                \n",
      "[8]\tTrain's binary_error: 0.0575\tTrain's auc: 0.881579\tVal's binary_error: 0.0602083\tVal's auc: 0.877149\n",
      " 30%|███       | 15/50 [11:57<27:15, 46.72s/trial, best loss: -0.9424437500000002]"
     ]
    },
    {
     "name": "stderr",
     "output_type": "stream",
     "text": [
      "c:\\Program Files\\Python310\\lib\\site-packages\\lightgbm\\engine.py:177: UserWarning: Found `num_boost_round` in params. Will use it instead of argument\n",
      "  _log_warning(f\"Found `{alias}` in params. Will use it instead of argument\")\n",
      "\n"
     ]
    },
    {
     "name": "stdout",
     "output_type": "stream",
     "text": [
      "[LightGBM] [Warning] num_iterations is set=500, num_boost_round=500 will be ignored. Current value: num_iterations=500\n",
      "Training until validation scores don't improve for 20 rounds                      \n",
      "Early stopping, best iteration is:                                                \n",
      "[8]\tTrain's binary_error: 0.0574167\tTrain's auc: 0.880979\tVal's binary_error: 0.059125\tVal's auc: 0.872973\n",
      " 30%|███       | 15/50 [12:05<27:15, 46.72s/trial, best loss: -0.9424437500000002]"
     ]
    },
    {
     "name": "stderr",
     "output_type": "stream",
     "text": [
      "c:\\Program Files\\Python310\\lib\\site-packages\\lightgbm\\engine.py:177: UserWarning: Found `num_boost_round` in params. Will use it instead of argument\n",
      "  _log_warning(f\"Found `{alias}` in params. Will use it instead of argument\")\n",
      "\n"
     ]
    },
    {
     "name": "stdout",
     "output_type": "stream",
     "text": [
      "[LightGBM] [Warning] num_iterations is set=500, num_boost_round=500 will be ignored. Current value: num_iterations=500\n",
      "Training until validation scores don't improve for 20 rounds                      \n",
      "Early stopping, best iteration is:                                                \n",
      "[8]\tTrain's binary_error: 0.0581979\tTrain's auc: 0.880793\tVal's binary_error: 0.058375\tVal's auc: 0.871834\n",
      "total Accuracy train=                                                             \n",
      "0.9420666666666667                                                                \n",
      "total Accuracy val=                                                               \n",
      "0.941675                                                                          \n",
      "AUC 0.941 params {'learning_rate': 0.07300000000000001, 'max_depth': 4, 'num_leaves': 120}\n",
      " 32%|███▏      | 16/50 [12:16<26:12, 46.26s/trial, best loss: -0.9424437500000002]"
     ]
    },
    {
     "name": "stderr",
     "output_type": "stream",
     "text": [
      "c:\\Program Files\\Python310\\lib\\site-packages\\lightgbm\\engine.py:177: UserWarning: Found `num_boost_round` in params. Will use it instead of argument\n",
      "  _log_warning(f\"Found `{alias}` in params. Will use it instead of argument\")\n",
      "\n"
     ]
    },
    {
     "name": "stdout",
     "output_type": "stream",
     "text": [
      "[LightGBM] [Warning] num_iterations is set=500, num_boost_round=500 will be ignored. Current value: num_iterations=500\n",
      "Training until validation scores don't improve for 20 rounds                      \n",
      "Early stopping, best iteration is:                                                \n",
      "[15]\tTrain's binary_error: 0.0578125\tTrain's auc: 0.894387\tVal's binary_error: 0.0573333\tVal's auc: 0.88376\n",
      " 32%|███▏      | 16/50 [12:24<26:12, 46.26s/trial, best loss: -0.9424437500000002]"
     ]
    },
    {
     "name": "stderr",
     "output_type": "stream",
     "text": [
      "c:\\Program Files\\Python310\\lib\\site-packages\\lightgbm\\engine.py:177: UserWarning: Found `num_boost_round` in params. Will use it instead of argument\n",
      "  _log_warning(f\"Found `{alias}` in params. Will use it instead of argument\")\n",
      "\n"
     ]
    },
    {
     "name": "stdout",
     "output_type": "stream",
     "text": [
      "[LightGBM] [Warning] num_iterations is set=500, num_boost_round=500 will be ignored. Current value: num_iterations=500\n",
      "Training until validation scores don't improve for 20 rounds                      \n",
      "Early stopping, best iteration is:                                                \n",
      "[15]\tTrain's binary_error: 0.0580937\tTrain's auc: 0.893777\tVal's binary_error: 0.0553333\tVal's auc: 0.877313\n",
      " 32%|███▏      | 16/50 [12:34<26:12, 46.26s/trial, best loss: -0.9424437500000002]"
     ]
    },
    {
     "name": "stderr",
     "output_type": "stream",
     "text": [
      "c:\\Program Files\\Python310\\lib\\site-packages\\lightgbm\\engine.py:177: UserWarning: Found `num_boost_round` in params. Will use it instead of argument\n",
      "  _log_warning(f\"Found `{alias}` in params. Will use it instead of argument\")\n",
      "\n"
     ]
    },
    {
     "name": "stdout",
     "output_type": "stream",
     "text": [
      "[LightGBM] [Warning] num_iterations is set=500, num_boost_round=500 will be ignored. Current value: num_iterations=500\n",
      "Training until validation scores don't improve for 20 rounds                      \n",
      "Early stopping, best iteration is:                                                \n",
      "[15]\tTrain's binary_error: 0.0566667\tTrain's auc: 0.893812\tVal's binary_error: 0.0586667\tVal's auc: 0.885428\n",
      " 32%|███▏      | 16/50 [12:44<26:12, 46.26s/trial, best loss: -0.9424437500000002]"
     ]
    },
    {
     "name": "stderr",
     "output_type": "stream",
     "text": [
      "c:\\Program Files\\Python310\\lib\\site-packages\\lightgbm\\engine.py:177: UserWarning: Found `num_boost_round` in params. Will use it instead of argument\n",
      "  _log_warning(f\"Found `{alias}` in params. Will use it instead of argument\")\n",
      "\n"
     ]
    },
    {
     "name": "stdout",
     "output_type": "stream",
     "text": [
      "[LightGBM] [Warning] num_iterations is set=500, num_boost_round=500 will be ignored. Current value: num_iterations=500\n",
      "Training until validation scores don't improve for 20 rounds                      \n",
      "Early stopping, best iteration is:                                                \n",
      "[15]\tTrain's binary_error: 0.0570417\tTrain's auc: 0.889582\tVal's binary_error: 0.0581667\tVal's auc: 0.878876\n",
      " 32%|███▏      | 16/50 [12:54<26:12, 46.26s/trial, best loss: -0.9424437500000002]"
     ]
    },
    {
     "name": "stderr",
     "output_type": "stream",
     "text": [
      "c:\\Program Files\\Python310\\lib\\site-packages\\lightgbm\\engine.py:177: UserWarning: Found `num_boost_round` in params. Will use it instead of argument\n",
      "  _log_warning(f\"Found `{alias}` in params. Will use it instead of argument\")\n",
      "\n"
     ]
    },
    {
     "name": "stdout",
     "output_type": "stream",
     "text": [
      "[LightGBM] [Warning] num_iterations is set=500, num_boost_round=500 will be ignored. Current value: num_iterations=500\n",
      "Training until validation scores don't improve for 20 rounds                      \n",
      "Early stopping, best iteration is:                                                \n",
      "[15]\tTrain's binary_error: 0.0577396\tTrain's auc: 0.891714\tVal's binary_error: 0.0581667\tVal's auc: 0.879022\n",
      "total Accuracy train=                                                             \n",
      "0.9425291666666666                                                                \n",
      "total Accuracy val=                                                               \n",
      "0.9424666666666667                                                                \n",
      "AUC 0.942 params {'learning_rate': 0.043000000000000003, 'max_depth': 5, 'num_leaves': 20}\n",
      " 34%|███▍      | 17/50 [13:04<25:52, 47.06s/trial, best loss: -0.9424437500000002]"
     ]
    },
    {
     "name": "stderr",
     "output_type": "stream",
     "text": [
      "c:\\Program Files\\Python310\\lib\\site-packages\\lightgbm\\engine.py:177: UserWarning: Found `num_boost_round` in params. Will use it instead of argument\n",
      "  _log_warning(f\"Found `{alias}` in params. Will use it instead of argument\")\n",
      "\n"
     ]
    },
    {
     "name": "stdout",
     "output_type": "stream",
     "text": [
      "[LightGBM] [Warning] num_iterations is set=500, num_boost_round=500 will be ignored. Current value: num_iterations=500\n",
      "Training until validation scores don't improve for 20 rounds                      \n",
      "Early stopping, best iteration is:                                                \n",
      "[15]\tTrain's binary_error: 0.0577708\tTrain's auc: 0.872395\tVal's binary_error: 0.0577917\tVal's auc: 0.868871\n",
      " 34%|███▍      | 17/50 [13:12<25:52, 47.06s/trial, best loss: -0.9424437500000002]"
     ]
    },
    {
     "name": "stderr",
     "output_type": "stream",
     "text": [
      "c:\\Program Files\\Python310\\lib\\site-packages\\lightgbm\\engine.py:177: UserWarning: Found `num_boost_round` in params. Will use it instead of argument\n",
      "  _log_warning(f\"Found `{alias}` in params. Will use it instead of argument\")\n",
      "\n"
     ]
    },
    {
     "name": "stdout",
     "output_type": "stream",
     "text": [
      "[LightGBM] [Warning] num_iterations is set=500, num_boost_round=500 will be ignored. Current value: num_iterations=500\n",
      "Training until validation scores don't improve for 20 rounds                      \n",
      "Early stopping, best iteration is:                                                \n",
      "[16]\tTrain's binary_error: 0.0573646\tTrain's auc: 0.873196\tVal's binary_error: 0.055625\tVal's auc: 0.865971\n",
      " 34%|███▍      | 17/50 [13:21<25:52, 47.06s/trial, best loss: -0.9424437500000002]"
     ]
    },
    {
     "name": "stderr",
     "output_type": "stream",
     "text": [
      "c:\\Program Files\\Python310\\lib\\site-packages\\lightgbm\\engine.py:177: UserWarning: Found `num_boost_round` in params. Will use it instead of argument\n",
      "  _log_warning(f\"Found `{alias}` in params. Will use it instead of argument\")\n",
      "\n"
     ]
    },
    {
     "name": "stdout",
     "output_type": "stream",
     "text": [
      "[LightGBM] [Warning] num_iterations is set=500, num_boost_round=500 will be ignored. Current value: num_iterations=500\n",
      "Training until validation scores don't improve for 20 rounds                      \n",
      "Early stopping, best iteration is:                                                \n",
      "[16]\tTrain's binary_error: 0.0572708\tTrain's auc: 0.872337\tVal's binary_error: 0.0593333\tVal's auc: 0.872558\n",
      " 34%|███▍      | 17/50 [13:30<25:52, 47.06s/trial, best loss: -0.9424437500000002]"
     ]
    },
    {
     "name": "stderr",
     "output_type": "stream",
     "text": [
      "c:\\Program Files\\Python310\\lib\\site-packages\\lightgbm\\engine.py:177: UserWarning: Found `num_boost_round` in params. Will use it instead of argument\n",
      "  _log_warning(f\"Found `{alias}` in params. Will use it instead of argument\")\n",
      "\n"
     ]
    },
    {
     "name": "stdout",
     "output_type": "stream",
     "text": [
      "[LightGBM] [Warning] num_iterations is set=500, num_boost_round=500 will be ignored. Current value: num_iterations=500\n",
      "Training until validation scores don't improve for 20 rounds                      \n",
      "Early stopping, best iteration is:                                                \n",
      "[15]\tTrain's binary_error: 0.0575833\tTrain's auc: 0.871963\tVal's binary_error: 0.058625\tVal's auc: 0.867521\n",
      " 34%|███▍      | 17/50 [13:39<25:52, 47.06s/trial, best loss: -0.9424437500000002]"
     ]
    },
    {
     "name": "stderr",
     "output_type": "stream",
     "text": [
      "c:\\Program Files\\Python310\\lib\\site-packages\\lightgbm\\engine.py:177: UserWarning: Found `num_boost_round` in params. Will use it instead of argument\n",
      "  _log_warning(f\"Found `{alias}` in params. Will use it instead of argument\")\n",
      "\n"
     ]
    },
    {
     "name": "stdout",
     "output_type": "stream",
     "text": [
      "[LightGBM] [Warning] num_iterations is set=500, num_boost_round=500 will be ignored. Current value: num_iterations=500\n",
      "Training until validation scores don't improve for 20 rounds                      \n",
      "Early stopping, best iteration is:                                                \n",
      "[16]\tTrain's binary_error: 0.0576979\tTrain's auc: 0.873129\tVal's binary_error: 0.05775\tVal's auc: 0.865954\n",
      "total Accuracy train=                                                             \n",
      "0.9424624999999999                                                                \n",
      "total Accuracy val=                                                               \n",
      "0.942175                                                                          \n",
      "AUC 0.942 params {'learning_rate': 0.043000000000000003, 'max_depth': 3, 'num_leaves': 50}\n",
      " 36%|███▌      | 18/50 [13:50<24:47, 46.48s/trial, best loss: -0.9424437500000002]"
     ]
    },
    {
     "name": "stderr",
     "output_type": "stream",
     "text": [
      "c:\\Program Files\\Python310\\lib\\site-packages\\lightgbm\\engine.py:177: UserWarning: Found `num_boost_round` in params. Will use it instead of argument\n",
      "  _log_warning(f\"Found `{alias}` in params. Will use it instead of argument\")\n",
      "\n"
     ]
    },
    {
     "name": "stdout",
     "output_type": "stream",
     "text": [
      "[LightGBM] [Warning] num_iterations is set=500, num_boost_round=500 will be ignored. Current value: num_iterations=500\n",
      "Training until validation scores don't improve for 20 rounds                      \n",
      "Early stopping, best iteration is:                                                \n",
      "[1]\tTrain's binary_error: 0.0643229\tTrain's auc: 0.850717\tVal's binary_error: 0.062125\tVal's auc: 0.850184\n",
      " 36%|███▌      | 18/50 [13:57<24:47, 46.48s/trial, best loss: -0.9424437500000002]"
     ]
    },
    {
     "name": "stderr",
     "output_type": "stream",
     "text": [
      "c:\\Program Files\\Python310\\lib\\site-packages\\lightgbm\\engine.py:177: UserWarning: Found `num_boost_round` in params. Will use it instead of argument\n",
      "  _log_warning(f\"Found `{alias}` in params. Will use it instead of argument\")\n",
      "\n"
     ]
    },
    {
     "name": "stdout",
     "output_type": "stream",
     "text": [
      "[LightGBM] [Warning] num_iterations is set=500, num_boost_round=500 will be ignored. Current value: num_iterations=500\n",
      "Training until validation scores don't improve for 20 rounds                      \n",
      "Early stopping, best iteration is:                                                \n",
      "[1]\tTrain's binary_error: 0.0644792\tTrain's auc: 0.852022\tVal's binary_error: 0.0615\tVal's auc: 0.843486\n",
      " 36%|███▌      | 18/50 [14:06<24:47, 46.48s/trial, best loss: -0.9424437500000002]"
     ]
    },
    {
     "name": "stderr",
     "output_type": "stream",
     "text": [
      "c:\\Program Files\\Python310\\lib\\site-packages\\lightgbm\\engine.py:177: UserWarning: Found `num_boost_round` in params. Will use it instead of argument\n",
      "  _log_warning(f\"Found `{alias}` in params. Will use it instead of argument\")\n",
      "\n"
     ]
    },
    {
     "name": "stdout",
     "output_type": "stream",
     "text": [
      "[LightGBM] [Warning] num_iterations is set=500, num_boost_round=500 will be ignored. Current value: num_iterations=500\n",
      "Training until validation scores don't improve for 20 rounds                      \n",
      "Early stopping, best iteration is:                                                \n",
      "[1]\tTrain's binary_error: 0.0632812\tTrain's auc: 0.846648\tVal's binary_error: 0.0662917\tVal's auc: 0.847709\n",
      " 36%|███▌      | 18/50 [14:14<24:47, 46.48s/trial, best loss: -0.9424437500000002]"
     ]
    },
    {
     "name": "stderr",
     "output_type": "stream",
     "text": [
      "c:\\Program Files\\Python310\\lib\\site-packages\\lightgbm\\engine.py:177: UserWarning: Found `num_boost_round` in params. Will use it instead of argument\n",
      "  _log_warning(f\"Found `{alias}` in params. Will use it instead of argument\")\n",
      "\n"
     ]
    },
    {
     "name": "stdout",
     "output_type": "stream",
     "text": [
      "[LightGBM] [Warning] num_iterations is set=500, num_boost_round=500 will be ignored. Current value: num_iterations=500\n",
      "Training until validation scores don't improve for 20 rounds                      \n",
      "Early stopping, best iteration is:                                                \n",
      "[1]\tTrain's binary_error: 0.063375\tTrain's auc: 0.848916\tVal's binary_error: 0.0659167\tVal's auc: 0.844782\n",
      " 36%|███▌      | 18/50 [14:24<24:47, 46.48s/trial, best loss: -0.9424437500000002]"
     ]
    },
    {
     "name": "stderr",
     "output_type": "stream",
     "text": [
      "c:\\Program Files\\Python310\\lib\\site-packages\\lightgbm\\engine.py:177: UserWarning: Found `num_boost_round` in params. Will use it instead of argument\n",
      "  _log_warning(f\"Found `{alias}` in params. Will use it instead of argument\")\n",
      "\n"
     ]
    },
    {
     "name": "stdout",
     "output_type": "stream",
     "text": [
      "[LightGBM] [Warning] num_iterations is set=500, num_boost_round=500 will be ignored. Current value: num_iterations=500\n",
      "Training until validation scores don't improve for 20 rounds                      \n",
      "Early stopping, best iteration is:                                                \n",
      "[1]\tTrain's binary_error: 0.0639583\tTrain's auc: 0.85039\tVal's binary_error: 0.0635833\tVal's auc: 0.846991\n",
      "total Accuracy train=                                                             \n",
      "0.9361166666666666                                                                \n",
      "total Accuracy val=                                                               \n",
      "0.9361166666666666                                                                \n",
      "AUC 0.936 params {'learning_rate': 0.005, 'max_depth': 6, 'num_leaves': 10}       \n",
      " 38%|███▊      | 19/50 [14:34<23:40, 45.82s/trial, best loss: -0.9424437500000002]"
     ]
    },
    {
     "name": "stderr",
     "output_type": "stream",
     "text": [
      "c:\\Program Files\\Python310\\lib\\site-packages\\lightgbm\\engine.py:177: UserWarning: Found `num_boost_round` in params. Will use it instead of argument\n",
      "  _log_warning(f\"Found `{alias}` in params. Will use it instead of argument\")\n",
      "\n"
     ]
    },
    {
     "name": "stdout",
     "output_type": "stream",
     "text": [
      "[LightGBM] [Warning] num_iterations is set=500, num_boost_round=500 will be ignored. Current value: num_iterations=500\n",
      "Training until validation scores don't improve for 20 rounds                      \n",
      "Early stopping, best iteration is:                                                \n",
      "[1]\tTrain's binary_error: 0.0643229\tTrain's auc: 0.863638\tVal's binary_error: 0.062125\tVal's auc: 0.858537\n",
      " 38%|███▊      | 19/50 [14:42<23:40, 45.82s/trial, best loss: -0.9424437500000002]"
     ]
    },
    {
     "name": "stderr",
     "output_type": "stream",
     "text": [
      "c:\\Program Files\\Python310\\lib\\site-packages\\lightgbm\\engine.py:177: UserWarning: Found `num_boost_round` in params. Will use it instead of argument\n",
      "  _log_warning(f\"Found `{alias}` in params. Will use it instead of argument\")\n",
      "\n"
     ]
    },
    {
     "name": "stdout",
     "output_type": "stream",
     "text": [
      "[LightGBM] [Warning] num_iterations is set=500, num_boost_round=500 will be ignored. Current value: num_iterations=500\n",
      "Training until validation scores don't improve for 20 rounds                      \n",
      "Early stopping, best iteration is:                                                \n",
      "[1]\tTrain's binary_error: 0.0644792\tTrain's auc: 0.863005\tVal's binary_error: 0.0615\tVal's auc: 0.846314\n",
      " 38%|███▊      | 19/50 [14:51<23:40, 45.82s/trial, best loss: -0.9424437500000002]"
     ]
    },
    {
     "name": "stderr",
     "output_type": "stream",
     "text": [
      "c:\\Program Files\\Python310\\lib\\site-packages\\lightgbm\\engine.py:177: UserWarning: Found `num_boost_round` in params. Will use it instead of argument\n",
      "  _log_warning(f\"Found `{alias}` in params. Will use it instead of argument\")\n",
      "\n"
     ]
    },
    {
     "name": "stdout",
     "output_type": "stream",
     "text": [
      "[LightGBM] [Warning] num_iterations is set=500, num_boost_round=500 will be ignored. Current value: num_iterations=500\n",
      "Training until validation scores don't improve for 20 rounds                      \n",
      "Early stopping, best iteration is:                                                \n",
      "[1]\tTrain's binary_error: 0.0632812\tTrain's auc: 0.862222\tVal's binary_error: 0.0662917\tVal's auc: 0.855163\n",
      " 38%|███▊      | 19/50 [15:00<23:40, 45.82s/trial, best loss: -0.9424437500000002]"
     ]
    },
    {
     "name": "stderr",
     "output_type": "stream",
     "text": [
      "c:\\Program Files\\Python310\\lib\\site-packages\\lightgbm\\engine.py:177: UserWarning: Found `num_boost_round` in params. Will use it instead of argument\n",
      "  _log_warning(f\"Found `{alias}` in params. Will use it instead of argument\")\n",
      "\n"
     ]
    },
    {
     "name": "stdout",
     "output_type": "stream",
     "text": [
      "[LightGBM] [Warning] num_iterations is set=500, num_boost_round=500 will be ignored. Current value: num_iterations=500\n",
      "Training until validation scores don't improve for 20 rounds                      \n",
      "Early stopping, best iteration is:                                                \n",
      "[1]\tTrain's binary_error: 0.063375\tTrain's auc: 0.862354\tVal's binary_error: 0.0659167\tVal's auc: 0.857529\n",
      " 38%|███▊      | 19/50 [15:09<23:40, 45.82s/trial, best loss: -0.9424437500000002]"
     ]
    },
    {
     "name": "stderr",
     "output_type": "stream",
     "text": [
      "c:\\Program Files\\Python310\\lib\\site-packages\\lightgbm\\engine.py:177: UserWarning: Found `num_boost_round` in params. Will use it instead of argument\n",
      "  _log_warning(f\"Found `{alias}` in params. Will use it instead of argument\")\n",
      "\n"
     ]
    },
    {
     "name": "stdout",
     "output_type": "stream",
     "text": [
      "[LightGBM] [Warning] num_iterations is set=500, num_boost_round=500 will be ignored. Current value: num_iterations=500\n",
      "Training until validation scores don't improve for 20 rounds                      \n",
      "Early stopping, best iteration is:                                                \n",
      "[1]\tTrain's binary_error: 0.0639583\tTrain's auc: 0.862357\tVal's binary_error: 0.0635833\tVal's auc: 0.851896\n",
      "total Accuracy train=                                                             \n",
      "0.9361166666666666                                                                \n",
      "total Accuracy val=                                                               \n",
      "0.9361166666666666                                                                \n",
      "AUC 0.936 params {'learning_rate': 0.003, 'max_depth': 5, 'num_leaves': 30}       \n",
      " 40%|████      | 20/50 [15:19<22:45, 45.50s/trial, best loss: -0.9424437500000002]"
     ]
    },
    {
     "name": "stderr",
     "output_type": "stream",
     "text": [
      "c:\\Program Files\\Python310\\lib\\site-packages\\lightgbm\\engine.py:177: UserWarning: Found `num_boost_round` in params. Will use it instead of argument\n",
      "  _log_warning(f\"Found `{alias}` in params. Will use it instead of argument\")\n",
      "\n"
     ]
    },
    {
     "name": "stdout",
     "output_type": "stream",
     "text": [
      "[LightGBM] [Warning] num_iterations is set=500, num_boost_round=500 will be ignored. Current value: num_iterations=500\n",
      "Training until validation scores don't improve for 20 rounds                      \n",
      "Early stopping, best iteration is:                                                \n",
      "[9]\tTrain's binary_error: 0.0568854\tTrain's auc: 0.893374\tVal's binary_error: 0.0577917\tVal's auc: 0.881789\n",
      " 40%|████      | 20/50 [15:27<22:45, 45.50s/trial, best loss: -0.9424437500000002]"
     ]
    },
    {
     "name": "stderr",
     "output_type": "stream",
     "text": [
      "c:\\Program Files\\Python310\\lib\\site-packages\\lightgbm\\engine.py:177: UserWarning: Found `num_boost_round` in params. Will use it instead of argument\n",
      "  _log_warning(f\"Found `{alias}` in params. Will use it instead of argument\")\n",
      "\n"
     ]
    },
    {
     "name": "stdout",
     "output_type": "stream",
     "text": [
      "[LightGBM] [Warning] num_iterations is set=500, num_boost_round=500 will be ignored. Current value: num_iterations=500\n",
      "Training until validation scores don't improve for 20 rounds                      \n",
      "Early stopping, best iteration is:                                                \n",
      "[9]\tTrain's binary_error: 0.0573437\tTrain's auc: 0.890991\tVal's binary_error: 0.0548333\tVal's auc: 0.874607\n",
      " 40%|████      | 20/50 [15:36<22:45, 45.50s/trial, best loss: -0.9424437500000002]"
     ]
    },
    {
     "name": "stderr",
     "output_type": "stream",
     "text": [
      "c:\\Program Files\\Python310\\lib\\site-packages\\lightgbm\\engine.py:177: UserWarning: Found `num_boost_round` in params. Will use it instead of argument\n",
      "  _log_warning(f\"Found `{alias}` in params. Will use it instead of argument\")\n",
      "\n"
     ]
    },
    {
     "name": "stdout",
     "output_type": "stream",
     "text": [
      "[LightGBM] [Warning] num_iterations is set=500, num_boost_round=500 will be ignored. Current value: num_iterations=500\n",
      "Training until validation scores don't improve for 20 rounds                      \n",
      "Early stopping, best iteration is:                                                \n",
      "[9]\tTrain's binary_error: 0.0564792\tTrain's auc: 0.890845\tVal's binary_error: 0.05825\tVal's auc: 0.880921\n",
      " 40%|████      | 20/50 [15:46<22:45, 45.50s/trial, best loss: -0.9424437500000002]"
     ]
    },
    {
     "name": "stderr",
     "output_type": "stream",
     "text": [
      "c:\\Program Files\\Python310\\lib\\site-packages\\lightgbm\\engine.py:177: UserWarning: Found `num_boost_round` in params. Will use it instead of argument\n",
      "  _log_warning(f\"Found `{alias}` in params. Will use it instead of argument\")\n",
      "\n"
     ]
    },
    {
     "name": "stdout",
     "output_type": "stream",
     "text": [
      "[LightGBM] [Warning] num_iterations is set=500, num_boost_round=500 will be ignored. Current value: num_iterations=500\n",
      "Training until validation scores don't improve for 20 rounds                      \n",
      "Early stopping, best iteration is:                                                \n",
      "[9]\tTrain's binary_error: 0.0577083\tTrain's auc: 0.888894\tVal's binary_error: 0.0580417\tVal's auc: 0.879064\n",
      " 40%|████      | 20/50 [15:55<22:45, 45.50s/trial, best loss: -0.9424437500000002]"
     ]
    },
    {
     "name": "stderr",
     "output_type": "stream",
     "text": [
      "c:\\Program Files\\Python310\\lib\\site-packages\\lightgbm\\engine.py:177: UserWarning: Found `num_boost_round` in params. Will use it instead of argument\n",
      "  _log_warning(f\"Found `{alias}` in params. Will use it instead of argument\")\n",
      "\n"
     ]
    },
    {
     "name": "stdout",
     "output_type": "stream",
     "text": [
      "[LightGBM] [Warning] num_iterations is set=500, num_boost_round=500 will be ignored. Current value: num_iterations=500\n",
      "Training until validation scores don't improve for 20 rounds                      \n",
      "Early stopping, best iteration is:                                                \n",
      "[9]\tTrain's binary_error: 0.0567396\tTrain's auc: 0.891837\tVal's binary_error: 0.05875\tVal's auc: 0.879694\n",
      "total Accuracy train=                                                             \n",
      "0.94296875                                                                        \n",
      "total Accuracy val=                                                               \n",
      "0.9424666666666667                                                                \n",
      "AUC 0.942 params {'learning_rate': 0.069, 'max_depth': 5, 'num_leaves': 20}       \n",
      " 42%|████▏     | 21/50 [16:06<22:12, 45.96s/trial, best loss: -0.9424437500000002]"
     ]
    },
    {
     "name": "stderr",
     "output_type": "stream",
     "text": [
      "c:\\Program Files\\Python310\\lib\\site-packages\\lightgbm\\engine.py:177: UserWarning: Found `num_boost_round` in params. Will use it instead of argument\n",
      "  _log_warning(f\"Found `{alias}` in params. Will use it instead of argument\")\n",
      "\n"
     ]
    },
    {
     "name": "stdout",
     "output_type": "stream",
     "text": [
      "[LightGBM] [Warning] num_iterations is set=500, num_boost_round=500 will be ignored. Current value: num_iterations=500\n",
      "Training until validation scores don't improve for 20 rounds                      \n",
      "Early stopping, best iteration is:                                                \n",
      "[8]\tTrain's binary_error: 0.0574062\tTrain's auc: 0.892883\tVal's binary_error: 0.05725\tVal's auc: 0.882935\n",
      " 42%|████▏     | 21/50 [16:14<22:12, 45.96s/trial, best loss: -0.9424437500000002]"
     ]
    },
    {
     "name": "stderr",
     "output_type": "stream",
     "text": [
      "c:\\Program Files\\Python310\\lib\\site-packages\\lightgbm\\engine.py:177: UserWarning: Found `num_boost_round` in params. Will use it instead of argument\n",
      "  _log_warning(f\"Found `{alias}` in params. Will use it instead of argument\")\n",
      "\n"
     ]
    },
    {
     "name": "stdout",
     "output_type": "stream",
     "text": [
      "[LightGBM] [Warning] num_iterations is set=500, num_boost_round=500 will be ignored. Current value: num_iterations=500\n",
      "Training until validation scores don't improve for 20 rounds                      \n",
      "Early stopping, best iteration is:                                                \n",
      "[8]\tTrain's binary_error: 0.0579583\tTrain's auc: 0.893577\tVal's binary_error: 0.055625\tVal's auc: 0.877067\n",
      " 42%|████▏     | 21/50 [16:23<22:12, 45.96s/trial, best loss: -0.9424437500000002]"
     ]
    },
    {
     "name": "stderr",
     "output_type": "stream",
     "text": [
      "c:\\Program Files\\Python310\\lib\\site-packages\\lightgbm\\engine.py:177: UserWarning: Found `num_boost_round` in params. Will use it instead of argument\n",
      "  _log_warning(f\"Found `{alias}` in params. Will use it instead of argument\")\n",
      "\n"
     ]
    },
    {
     "name": "stdout",
     "output_type": "stream",
     "text": [
      "[LightGBM] [Warning] num_iterations is set=500, num_boost_round=500 will be ignored. Current value: num_iterations=500\n",
      "Training until validation scores don't improve for 20 rounds                      \n",
      "Early stopping, best iteration is:                                                \n",
      "[8]\tTrain's binary_error: 0.0566667\tTrain's auc: 0.89088\tVal's binary_error: 0.05875\tVal's auc: 0.881831\n",
      " 42%|████▏     | 21/50 [16:32<22:12, 45.96s/trial, best loss: -0.9424437500000002]"
     ]
    },
    {
     "name": "stderr",
     "output_type": "stream",
     "text": [
      "c:\\Program Files\\Python310\\lib\\site-packages\\lightgbm\\engine.py:177: UserWarning: Found `num_boost_round` in params. Will use it instead of argument\n",
      "  _log_warning(f\"Found `{alias}` in params. Will use it instead of argument\")\n",
      "\n"
     ]
    },
    {
     "name": "stdout",
     "output_type": "stream",
     "text": [
      "[LightGBM] [Warning] num_iterations is set=500, num_boost_round=500 will be ignored. Current value: num_iterations=500\n",
      "Training until validation scores don't improve for 20 rounds                      \n",
      "Early stopping, best iteration is:                                                \n",
      "[8]\tTrain's binary_error: 0.0575\tTrain's auc: 0.888341\tVal's binary_error: 0.0584167\tVal's auc: 0.878595\n",
      " 42%|████▏     | 21/50 [16:42<22:12, 45.96s/trial, best loss: -0.9424437500000002]"
     ]
    },
    {
     "name": "stderr",
     "output_type": "stream",
     "text": [
      "c:\\Program Files\\Python310\\lib\\site-packages\\lightgbm\\engine.py:177: UserWarning: Found `num_boost_round` in params. Will use it instead of argument\n",
      "  _log_warning(f\"Found `{alias}` in params. Will use it instead of argument\")\n",
      "\n"
     ]
    },
    {
     "name": "stdout",
     "output_type": "stream",
     "text": [
      "[LightGBM] [Warning] num_iterations is set=500, num_boost_round=500 will be ignored. Current value: num_iterations=500\n",
      "Training until validation scores don't improve for 20 rounds                      \n",
      "Early stopping, best iteration is:                                                \n",
      "[8]\tTrain's binary_error: 0.0569583\tTrain's auc: 0.890614\tVal's binary_error: 0.0585417\tVal's auc: 0.877814\n",
      "total Accuracy train=                                                             \n",
      "0.9427020833333334                                                                \n",
      "total Accuracy val=                                                               \n",
      "0.9422833333333334                                                                \n",
      "AUC 0.942 params {'learning_rate': 0.076, 'max_depth': 5, 'num_leaves': 20}       \n",
      " 44%|████▍     | 22/50 [16:52<21:31, 46.13s/trial, best loss: -0.9424437500000002]"
     ]
    },
    {
     "name": "stderr",
     "output_type": "stream",
     "text": [
      "c:\\Program Files\\Python310\\lib\\site-packages\\lightgbm\\engine.py:177: UserWarning: Found `num_boost_round` in params. Will use it instead of argument\n",
      "  _log_warning(f\"Found `{alias}` in params. Will use it instead of argument\")\n",
      "\n"
     ]
    },
    {
     "name": "stdout",
     "output_type": "stream",
     "text": [
      "[LightGBM] [Warning] num_iterations is set=500, num_boost_round=500 will be ignored. Current value: num_iterations=500\n",
      "Training until validation scores don't improve for 20 rounds                      \n",
      "Early stopping, best iteration is:                                                \n",
      "[1]\tTrain's binary_error: 0.0643229\tTrain's auc: 0.863717\tVal's binary_error: 0.062125\tVal's auc: 0.858428\n",
      " 44%|████▍     | 22/50 [17:00<21:31, 46.13s/trial, best loss: -0.9424437500000002]"
     ]
    },
    {
     "name": "stderr",
     "output_type": "stream",
     "text": [
      "c:\\Program Files\\Python310\\lib\\site-packages\\lightgbm\\engine.py:177: UserWarning: Found `num_boost_round` in params. Will use it instead of argument\n",
      "  _log_warning(f\"Found `{alias}` in params. Will use it instead of argument\")\n",
      "\n"
     ]
    },
    {
     "name": "stdout",
     "output_type": "stream",
     "text": [
      "[LightGBM] [Warning] num_iterations is set=500, num_boost_round=500 will be ignored. Current value: num_iterations=500\n",
      "Training until validation scores don't improve for 20 rounds                      \n",
      "Early stopping, best iteration is:                                                \n",
      "[1]\tTrain's binary_error: 0.0644792\tTrain's auc: 0.863028\tVal's binary_error: 0.0615\tVal's auc: 0.846338\n",
      " 44%|████▍     | 22/50 [17:09<21:31, 46.13s/trial, best loss: -0.9424437500000002]"
     ]
    },
    {
     "name": "stderr",
     "output_type": "stream",
     "text": [
      "c:\\Program Files\\Python310\\lib\\site-packages\\lightgbm\\engine.py:177: UserWarning: Found `num_boost_round` in params. Will use it instead of argument\n",
      "  _log_warning(f\"Found `{alias}` in params. Will use it instead of argument\")\n",
      "\n"
     ]
    },
    {
     "name": "stdout",
     "output_type": "stream",
     "text": [
      "[LightGBM] [Warning] num_iterations is set=500, num_boost_round=500 will be ignored. Current value: num_iterations=500\n",
      "Training until validation scores don't improve for 20 rounds                      \n",
      "Early stopping, best iteration is:                                                \n",
      "[1]\tTrain's binary_error: 0.0632812\tTrain's auc: 0.862247\tVal's binary_error: 0.0662917\tVal's auc: 0.85522\n",
      " 44%|████▍     | 22/50 [17:18<21:31, 46.13s/trial, best loss: -0.9424437500000002]"
     ]
    },
    {
     "name": "stderr",
     "output_type": "stream",
     "text": [
      "c:\\Program Files\\Python310\\lib\\site-packages\\lightgbm\\engine.py:177: UserWarning: Found `num_boost_round` in params. Will use it instead of argument\n",
      "  _log_warning(f\"Found `{alias}` in params. Will use it instead of argument\")\n",
      "\n"
     ]
    },
    {
     "name": "stdout",
     "output_type": "stream",
     "text": [
      "[LightGBM] [Warning] num_iterations is set=500, num_boost_round=500 will be ignored. Current value: num_iterations=500\n",
      "Training until validation scores don't improve for 20 rounds                      \n",
      "Early stopping, best iteration is:                                                \n",
      "[1]\tTrain's binary_error: 0.063375\tTrain's auc: 0.862473\tVal's binary_error: 0.0659167\tVal's auc: 0.857724\n",
      " 44%|████▍     | 22/50 [17:27<21:31, 46.13s/trial, best loss: -0.9424437500000002]"
     ]
    },
    {
     "name": "stderr",
     "output_type": "stream",
     "text": [
      "c:\\Program Files\\Python310\\lib\\site-packages\\lightgbm\\engine.py:177: UserWarning: Found `num_boost_round` in params. Will use it instead of argument\n",
      "  _log_warning(f\"Found `{alias}` in params. Will use it instead of argument\")\n",
      "\n"
     ]
    },
    {
     "name": "stdout",
     "output_type": "stream",
     "text": [
      "[LightGBM] [Warning] num_iterations is set=500, num_boost_round=500 will be ignored. Current value: num_iterations=500\n",
      "Training until validation scores don't improve for 20 rounds                      \n",
      "Early stopping, best iteration is:                                                \n",
      "[1]\tTrain's binary_error: 0.0639583\tTrain's auc: 0.862418\tVal's binary_error: 0.0635833\tVal's auc: 0.851897\n",
      "total Accuracy train=                                                             \n",
      "0.9361166666666666                                                                \n",
      "total Accuracy val=                                                               \n",
      "0.9361166666666666                                                                \n",
      "AUC 0.936 params {'learning_rate': 0.015, 'max_depth': 5, 'num_leaves': 40}       \n",
      " 46%|████▌     | 23/50 [17:38<20:40, 45.93s/trial, best loss: -0.9424437500000002]"
     ]
    },
    {
     "name": "stderr",
     "output_type": "stream",
     "text": [
      "c:\\Program Files\\Python310\\lib\\site-packages\\lightgbm\\engine.py:177: UserWarning: Found `num_boost_round` in params. Will use it instead of argument\n",
      "  _log_warning(f\"Found `{alias}` in params. Will use it instead of argument\")\n",
      "\n"
     ]
    },
    {
     "name": "stdout",
     "output_type": "stream",
     "text": [
      "[LightGBM] [Warning] num_iterations is set=500, num_boost_round=500 will be ignored. Current value: num_iterations=500\n",
      "Training until validation scores don't improve for 20 rounds                      \n",
      "Early stopping, best iteration is:                                                \n",
      "[11]\tTrain's binary_error: 0.0545938\tTrain's auc: 0.896773\tVal's binary_error: 0.0565\tVal's auc: 0.88242\n",
      " 46%|████▌     | 23/50 [17:46<20:40, 45.93s/trial, best loss: -0.9424437500000002]"
     ]
    },
    {
     "name": "stderr",
     "output_type": "stream",
     "text": [
      "c:\\Program Files\\Python310\\lib\\site-packages\\lightgbm\\engine.py:177: UserWarning: Found `num_boost_round` in params. Will use it instead of argument\n",
      "  _log_warning(f\"Found `{alias}` in params. Will use it instead of argument\")\n",
      "\n"
     ]
    },
    {
     "name": "stdout",
     "output_type": "stream",
     "text": [
      "[LightGBM] [Warning] num_iterations is set=500, num_boost_round=500 will be ignored. Current value: num_iterations=500\n",
      "Training until validation scores don't improve for 20 rounds                      \n",
      "Early stopping, best iteration is:                                                \n",
      "[11]\tTrain's binary_error: 0.0550521\tTrain's auc: 0.898943\tVal's binary_error: 0.053875\tVal's auc: 0.88015\n",
      " 46%|████▌     | 23/50 [17:56<20:40, 45.93s/trial, best loss: -0.9424437500000002]"
     ]
    },
    {
     "name": "stderr",
     "output_type": "stream",
     "text": [
      "c:\\Program Files\\Python310\\lib\\site-packages\\lightgbm\\engine.py:177: UserWarning: Found `num_boost_round` in params. Will use it instead of argument\n",
      "  _log_warning(f\"Found `{alias}` in params. Will use it instead of argument\")\n",
      "\n"
     ]
    },
    {
     "name": "stdout",
     "output_type": "stream",
     "text": [
      "[LightGBM] [Warning] num_iterations is set=500, num_boost_round=500 will be ignored. Current value: num_iterations=500\n",
      "Training until validation scores don't improve for 20 rounds                      \n",
      "Early stopping, best iteration is:                                                \n",
      "[11]\tTrain's binary_error: 0.0536979\tTrain's auc: 0.896098\tVal's binary_error: 0.0578333\tVal's auc: 0.883431\n",
      " 46%|████▌     | 23/50 [18:06<20:40, 45.93s/trial, best loss: -0.9424437500000002]"
     ]
    },
    {
     "name": "stderr",
     "output_type": "stream",
     "text": [
      "c:\\Program Files\\Python310\\lib\\site-packages\\lightgbm\\engine.py:177: UserWarning: Found `num_boost_round` in params. Will use it instead of argument\n",
      "  _log_warning(f\"Found `{alias}` in params. Will use it instead of argument\")\n",
      "\n"
     ]
    },
    {
     "name": "stdout",
     "output_type": "stream",
     "text": [
      "[LightGBM] [Warning] num_iterations is set=500, num_boost_round=500 will be ignored. Current value: num_iterations=500\n",
      "Training until validation scores don't improve for 20 rounds                      \n",
      "Early stopping, best iteration is:                                                \n",
      "[12]\tTrain's binary_error: 0.0542396\tTrain's auc: 0.89271\tVal's binary_error: 0.0568333\tVal's auc: 0.88054\n",
      " 46%|████▌     | 23/50 [18:15<20:40, 45.93s/trial, best loss: -0.9424437500000002]"
     ]
    },
    {
     "name": "stderr",
     "output_type": "stream",
     "text": [
      "c:\\Program Files\\Python310\\lib\\site-packages\\lightgbm\\engine.py:177: UserWarning: Found `num_boost_round` in params. Will use it instead of argument\n",
      "  _log_warning(f\"Found `{alias}` in params. Will use it instead of argument\")\n",
      "\n"
     ]
    },
    {
     "name": "stdout",
     "output_type": "stream",
     "text": [
      "[LightGBM] [Warning] num_iterations is set=500, num_boost_round=500 will be ignored. Current value: num_iterations=500\n",
      "Training until validation scores don't improve for 20 rounds                      \n",
      "Early stopping, best iteration is:                                                \n",
      "[11]\tTrain's binary_error: 0.0546979\tTrain's auc: 0.895159\tVal's binary_error: 0.0573333\tVal's auc: 0.879186\n",
      "total Accuracy train=                                                             \n",
      "0.9455437499999999                                                                \n",
      "total Accuracy val=                                                               \n",
      "0.943525                                                                          \n",
      "AUC 0.942 params {'learning_rate': 0.057, 'max_depth': 5, 'num_leaves': 100}      \n",
      " 48%|████▊     | 24/50 [18:26<20:15, 46.73s/trial, best loss: -0.9424437500000002]"
     ]
    },
    {
     "name": "stderr",
     "output_type": "stream",
     "text": [
      "c:\\Program Files\\Python310\\lib\\site-packages\\lightgbm\\engine.py:177: UserWarning: Found `num_boost_round` in params. Will use it instead of argument\n",
      "  _log_warning(f\"Found `{alias}` in params. Will use it instead of argument\")\n",
      "\n"
     ]
    },
    {
     "name": "stdout",
     "output_type": "stream",
     "text": [
      "[LightGBM] [Warning] num_iterations is set=500, num_boost_round=500 will be ignored. Current value: num_iterations=500\n",
      "Training until validation scores don't improve for 20 rounds                      \n",
      "Early stopping, best iteration is:                                                \n",
      "[6]\tTrain's binary_error: 0.0588854\tTrain's auc: 0.889136\tVal's binary_error: 0.0582917\tVal's auc: 0.878368\n",
      " 48%|████▊     | 24/50 [18:34<20:15, 46.73s/trial, best loss: -0.9424437500000002]"
     ]
    },
    {
     "name": "stderr",
     "output_type": "stream",
     "text": [
      "c:\\Program Files\\Python310\\lib\\site-packages\\lightgbm\\engine.py:177: UserWarning: Found `num_boost_round` in params. Will use it instead of argument\n",
      "  _log_warning(f\"Found `{alias}` in params. Will use it instead of argument\")\n",
      "\n"
     ]
    },
    {
     "name": "stdout",
     "output_type": "stream",
     "text": [
      "[LightGBM] [Warning] num_iterations is set=500, num_boost_round=500 will be ignored. Current value: num_iterations=500\n",
      "Training until validation scores don't improve for 20 rounds                      \n",
      "Early stopping, best iteration is:                                                \n",
      "[6]\tTrain's binary_error: 0.0579792\tTrain's auc: 0.892031\tVal's binary_error: 0.055\tVal's auc: 0.874104\n",
      " 48%|████▊     | 24/50 [18:43<20:15, 46.73s/trial, best loss: -0.9424437500000002]"
     ]
    },
    {
     "name": "stderr",
     "output_type": "stream",
     "text": [
      "c:\\Program Files\\Python310\\lib\\site-packages\\lightgbm\\engine.py:177: UserWarning: Found `num_boost_round` in params. Will use it instead of argument\n",
      "  _log_warning(f\"Found `{alias}` in params. Will use it instead of argument\")\n",
      "\n"
     ]
    },
    {
     "name": "stdout",
     "output_type": "stream",
     "text": [
      "[LightGBM] [Warning] num_iterations is set=500, num_boost_round=500 will be ignored. Current value: num_iterations=500\n",
      "Training until validation scores don't improve for 20 rounds                      \n",
      "Early stopping, best iteration is:                                                \n",
      "[6]\tTrain's binary_error: 0.0562812\tTrain's auc: 0.888282\tVal's binary_error: 0.0575417\tVal's auc: 0.878956\n",
      " 48%|████▊     | 24/50 [18:53<20:15, 46.73s/trial, best loss: -0.9424437500000002]"
     ]
    },
    {
     "name": "stderr",
     "output_type": "stream",
     "text": [
      "c:\\Program Files\\Python310\\lib\\site-packages\\lightgbm\\engine.py:177: UserWarning: Found `num_boost_round` in params. Will use it instead of argument\n",
      "  _log_warning(f\"Found `{alias}` in params. Will use it instead of argument\")\n",
      "\n"
     ]
    },
    {
     "name": "stdout",
     "output_type": "stream",
     "text": [
      "[LightGBM] [Warning] num_iterations is set=500, num_boost_round=500 will be ignored. Current value: num_iterations=500\n",
      "Training until validation scores don't improve for 20 rounds                      \n",
      "Early stopping, best iteration is:                                                \n",
      "[6]\tTrain's binary_error: 0.0573646\tTrain's auc: 0.888794\tVal's binary_error: 0.0586667\tVal's auc: 0.880267\n",
      " 48%|████▊     | 24/50 [19:02<20:15, 46.73s/trial, best loss: -0.9424437500000002]"
     ]
    },
    {
     "name": "stderr",
     "output_type": "stream",
     "text": [
      "c:\\Program Files\\Python310\\lib\\site-packages\\lightgbm\\engine.py:177: UserWarning: Found `num_boost_round` in params. Will use it instead of argument\n",
      "  _log_warning(f\"Found `{alias}` in params. Will use it instead of argument\")\n",
      "\n"
     ]
    },
    {
     "name": "stdout",
     "output_type": "stream",
     "text": [
      "[LightGBM] [Warning] num_iterations is set=500, num_boost_round=500 will be ignored. Current value: num_iterations=500\n",
      "Training until validation scores don't improve for 20 rounds                      \n",
      "Early stopping, best iteration is:                                                \n",
      "[6]\tTrain's binary_error: 0.0578229\tTrain's auc: 0.888028\tVal's binary_error: 0.0587917\tVal's auc: 0.876145\n",
      "total Accuracy train=                                                             \n",
      "0.9423333333333334                                                                \n",
      "total Accuracy val=                                                               \n",
      "0.9423416666666666                                                                \n",
      "AUC 0.942 params {'learning_rate': 0.093, 'max_depth': 5, 'num_leaves': 20}       \n",
      " 50%|█████     | 25/50 [19:12<19:21, 46.46s/trial, best loss: -0.9424437500000002]"
     ]
    },
    {
     "name": "stderr",
     "output_type": "stream",
     "text": [
      "c:\\Program Files\\Python310\\lib\\site-packages\\lightgbm\\engine.py:177: UserWarning: Found `num_boost_round` in params. Will use it instead of argument\n",
      "  _log_warning(f\"Found `{alias}` in params. Will use it instead of argument\")\n",
      "\n"
     ]
    },
    {
     "name": "stdout",
     "output_type": "stream",
     "text": [
      "[LightGBM] [Warning] num_iterations is set=500, num_boost_round=500 will be ignored. Current value: num_iterations=500\n",
      "Training until validation scores don't improve for 20 rounds                      \n",
      "Early stopping, best iteration is:                                                \n",
      "[1]\tTrain's binary_error: 0.0643229\tTrain's auc: 0.863717\tVal's binary_error: 0.062125\tVal's auc: 0.858428\n",
      " 50%|█████     | 25/50 [19:20<19:21, 46.46s/trial, best loss: -0.9424437500000002]"
     ]
    },
    {
     "name": "stderr",
     "output_type": "stream",
     "text": [
      "c:\\Program Files\\Python310\\lib\\site-packages\\lightgbm\\engine.py:177: UserWarning: Found `num_boost_round` in params. Will use it instead of argument\n",
      "  _log_warning(f\"Found `{alias}` in params. Will use it instead of argument\")\n",
      "\n"
     ]
    },
    {
     "name": "stdout",
     "output_type": "stream",
     "text": [
      "[LightGBM] [Warning] num_iterations is set=500, num_boost_round=500 will be ignored. Current value: num_iterations=500\n",
      "Training until validation scores don't improve for 20 rounds                      \n",
      "Early stopping, best iteration is:                                                \n",
      "[1]\tTrain's binary_error: 0.0644792\tTrain's auc: 0.863028\tVal's binary_error: 0.0615\tVal's auc: 0.846338\n",
      " 50%|█████     | 25/50 [19:29<19:21, 46.46s/trial, best loss: -0.9424437500000002]"
     ]
    },
    {
     "name": "stderr",
     "output_type": "stream",
     "text": [
      "c:\\Program Files\\Python310\\lib\\site-packages\\lightgbm\\engine.py:177: UserWarning: Found `num_boost_round` in params. Will use it instead of argument\n",
      "  _log_warning(f\"Found `{alias}` in params. Will use it instead of argument\")\n",
      "\n"
     ]
    },
    {
     "name": "stdout",
     "output_type": "stream",
     "text": [
      "[LightGBM] [Warning] num_iterations is set=500, num_boost_round=500 will be ignored. Current value: num_iterations=500\n",
      "Training until validation scores don't improve for 20 rounds                      \n",
      "Early stopping, best iteration is:                                                \n",
      "[1]\tTrain's binary_error: 0.0632812\tTrain's auc: 0.862247\tVal's binary_error: 0.0662917\tVal's auc: 0.85522\n",
      " 50%|█████     | 25/50 [19:38<19:21, 46.46s/trial, best loss: -0.9424437500000002]"
     ]
    },
    {
     "name": "stderr",
     "output_type": "stream",
     "text": [
      "c:\\Program Files\\Python310\\lib\\site-packages\\lightgbm\\engine.py:177: UserWarning: Found `num_boost_round` in params. Will use it instead of argument\n",
      "  _log_warning(f\"Found `{alias}` in params. Will use it instead of argument\")\n",
      "\n"
     ]
    },
    {
     "name": "stdout",
     "output_type": "stream",
     "text": [
      "[LightGBM] [Warning] num_iterations is set=500, num_boost_round=500 will be ignored. Current value: num_iterations=500\n",
      "Training until validation scores don't improve for 20 rounds                      \n",
      "Early stopping, best iteration is:                                                \n",
      "[1]\tTrain's binary_error: 0.063375\tTrain's auc: 0.862473\tVal's binary_error: 0.0659167\tVal's auc: 0.857724\n",
      " 50%|█████     | 25/50 [19:47<19:21, 46.46s/trial, best loss: -0.9424437500000002]"
     ]
    },
    {
     "name": "stderr",
     "output_type": "stream",
     "text": [
      "c:\\Program Files\\Python310\\lib\\site-packages\\lightgbm\\engine.py:177: UserWarning: Found `num_boost_round` in params. Will use it instead of argument\n",
      "  _log_warning(f\"Found `{alias}` in params. Will use it instead of argument\")\n",
      "\n"
     ]
    },
    {
     "name": "stdout",
     "output_type": "stream",
     "text": [
      "[LightGBM] [Warning] num_iterations is set=500, num_boost_round=500 will be ignored. Current value: num_iterations=500\n",
      "Training until validation scores don't improve for 20 rounds                      \n",
      "Early stopping, best iteration is:                                                \n",
      "[1]\tTrain's binary_error: 0.0639583\tTrain's auc: 0.862418\tVal's binary_error: 0.0635833\tVal's auc: 0.851897\n",
      "total Accuracy train=                                                             \n",
      "0.9361166666666666                                                                \n",
      "total Accuracy val=                                                               \n",
      "0.9361166666666666                                                                \n",
      "AUC 0.936 params {'learning_rate': 0.025, 'max_depth': 5, 'num_leaves': 60}       \n",
      " 52%|█████▏    | 26/50 [19:58<18:28, 46.19s/trial, best loss: -0.9424437500000002]"
     ]
    },
    {
     "name": "stderr",
     "output_type": "stream",
     "text": [
      "c:\\Program Files\\Python310\\lib\\site-packages\\lightgbm\\engine.py:177: UserWarning: Found `num_boost_round` in params. Will use it instead of argument\n",
      "  _log_warning(f\"Found `{alias}` in params. Will use it instead of argument\")\n",
      "\n"
     ]
    },
    {
     "name": "stdout",
     "output_type": "stream",
     "text": [
      "[LightGBM] [Warning] num_iterations is set=500, num_boost_round=500 will be ignored. Current value: num_iterations=500\n",
      "Training until validation scores don't improve for 20 rounds                      \n",
      "Early stopping, best iteration is:                                                \n",
      "[6]\tTrain's binary_error: 0.0602708\tTrain's auc: 0.894423\tVal's binary_error: 0.059625\tVal's auc: 0.880327\n",
      " 52%|█████▏    | 26/50 [20:06<18:28, 46.19s/trial, best loss: -0.9424437500000002]"
     ]
    },
    {
     "name": "stderr",
     "output_type": "stream",
     "text": [
      "c:\\Program Files\\Python310\\lib\\site-packages\\lightgbm\\engine.py:177: UserWarning: Found `num_boost_round` in params. Will use it instead of argument\n",
      "  _log_warning(f\"Found `{alias}` in params. Will use it instead of argument\")\n",
      "\n"
     ]
    },
    {
     "name": "stdout",
     "output_type": "stream",
     "text": [
      "[LightGBM] [Warning] num_iterations is set=500, num_boost_round=500 will be ignored. Current value: num_iterations=500\n",
      "Training until validation scores don't improve for 20 rounds                      \n",
      "Early stopping, best iteration is:                                                \n",
      "[7]\tTrain's binary_error: 0.0556875\tTrain's auc: 0.897943\tVal's binary_error: 0.0554167\tVal's auc: 0.876934\n",
      " 52%|█████▏    | 26/50 [20:15<18:28, 46.19s/trial, best loss: -0.9424437500000002]"
     ]
    },
    {
     "name": "stderr",
     "output_type": "stream",
     "text": [
      "c:\\Program Files\\Python310\\lib\\site-packages\\lightgbm\\engine.py:177: UserWarning: Found `num_boost_round` in params. Will use it instead of argument\n",
      "  _log_warning(f\"Found `{alias}` in params. Will use it instead of argument\")\n",
      "\n"
     ]
    },
    {
     "name": "stdout",
     "output_type": "stream",
     "text": [
      "[LightGBM] [Warning] num_iterations is set=500, num_boost_round=500 will be ignored. Current value: num_iterations=500\n",
      "Training until validation scores don't improve for 20 rounds                      \n",
      "Early stopping, best iteration is:                                                \n",
      "[7]\tTrain's binary_error: 0.0548542\tTrain's auc: 0.894872\tVal's binary_error: 0.0591667\tVal's auc: 0.881677\n",
      " 52%|█████▏    | 26/50 [20:25<18:28, 46.19s/trial, best loss: -0.9424437500000002]"
     ]
    },
    {
     "name": "stderr",
     "output_type": "stream",
     "text": [
      "c:\\Program Files\\Python310\\lib\\site-packages\\lightgbm\\engine.py:177: UserWarning: Found `num_boost_round` in params. Will use it instead of argument\n",
      "  _log_warning(f\"Found `{alias}` in params. Will use it instead of argument\")\n",
      "\n"
     ]
    },
    {
     "name": "stdout",
     "output_type": "stream",
     "text": [
      "[LightGBM] [Warning] num_iterations is set=500, num_boost_round=500 will be ignored. Current value: num_iterations=500\n",
      "Training until validation scores don't improve for 20 rounds                      \n",
      "Early stopping, best iteration is:                                                \n",
      "[7]\tTrain's binary_error: 0.0547604\tTrain's auc: 0.893597\tVal's binary_error: 0.0577083\tVal's auc: 0.881175\n",
      " 52%|█████▏    | 26/50 [20:34<18:28, 46.19s/trial, best loss: -0.9424437500000002]"
     ]
    },
    {
     "name": "stderr",
     "output_type": "stream",
     "text": [
      "c:\\Program Files\\Python310\\lib\\site-packages\\lightgbm\\engine.py:177: UserWarning: Found `num_boost_round` in params. Will use it instead of argument\n",
      "  _log_warning(f\"Found `{alias}` in params. Will use it instead of argument\")\n",
      "\n"
     ]
    },
    {
     "name": "stdout",
     "output_type": "stream",
     "text": [
      "[LightGBM] [Warning] num_iterations is set=500, num_boost_round=500 will be ignored. Current value: num_iterations=500\n",
      "Training until validation scores don't improve for 20 rounds                      \n",
      "Early stopping, best iteration is:                                                \n",
      "[7]\tTrain's binary_error: 0.0555833\tTrain's auc: 0.894394\tVal's binary_error: 0.0580833\tVal's auc: 0.878274\n",
      "total Accuracy train=                                                             \n",
      "0.9437687499999999                                                                \n",
      "total Accuracy val=                                                               \n",
      "0.942                                                                             \n",
      "AUC 0.940 params {'learning_rate': 0.08700000000000001, 'max_depth': 5, 'num_leaves': 40}\n",
      " 54%|█████▍    | 27/50 [20:45<17:48, 46.44s/trial, best loss: -0.9424437500000002]"
     ]
    },
    {
     "name": "stderr",
     "output_type": "stream",
     "text": [
      "c:\\Program Files\\Python310\\lib\\site-packages\\lightgbm\\engine.py:177: UserWarning: Found `num_boost_round` in params. Will use it instead of argument\n",
      "  _log_warning(f\"Found `{alias}` in params. Will use it instead of argument\")\n",
      "\n"
     ]
    },
    {
     "name": "stdout",
     "output_type": "stream",
     "text": [
      "[LightGBM] [Warning] num_iterations is set=500, num_boost_round=500 will be ignored. Current value: num_iterations=500\n",
      "Training until validation scores don't improve for 20 rounds                      \n",
      "Early stopping, best iteration is:                                                \n",
      "[17]\tTrain's binary_error: 0.0591146\tTrain's auc: 0.861087\tVal's binary_error: 0.0584583\tVal's auc: 0.860461\n",
      " 54%|█████▍    | 27/50 [20:52<17:48, 46.44s/trial, best loss: -0.9424437500000002]"
     ]
    },
    {
     "name": "stderr",
     "output_type": "stream",
     "text": [
      "c:\\Program Files\\Python310\\lib\\site-packages\\lightgbm\\engine.py:177: UserWarning: Found `num_boost_round` in params. Will use it instead of argument\n",
      "  _log_warning(f\"Found `{alias}` in params. Will use it instead of argument\")\n",
      "\n"
     ]
    },
    {
     "name": "stdout",
     "output_type": "stream",
     "text": [
      "[LightGBM] [Warning] num_iterations is set=500, num_boost_round=500 will be ignored. Current value: num_iterations=500\n",
      "Training until validation scores don't improve for 20 rounds                      \n",
      "Early stopping, best iteration is:                                                \n",
      "[17]\tTrain's binary_error: 0.0597083\tTrain's auc: 0.862521\tVal's binary_error: 0.0565417\tVal's auc: 0.856142\n",
      " 54%|█████▍    | 27/50 [21:01<17:48, 46.44s/trial, best loss: -0.9424437500000002]"
     ]
    },
    {
     "name": "stderr",
     "output_type": "stream",
     "text": [
      "c:\\Program Files\\Python310\\lib\\site-packages\\lightgbm\\engine.py:177: UserWarning: Found `num_boost_round` in params. Will use it instead of argument\n",
      "  _log_warning(f\"Found `{alias}` in params. Will use it instead of argument\")\n",
      "\n"
     ]
    },
    {
     "name": "stdout",
     "output_type": "stream",
     "text": [
      "[LightGBM] [Warning] num_iterations is set=500, num_boost_round=500 will be ignored. Current value: num_iterations=500\n",
      "Training until validation scores don't improve for 20 rounds                      \n",
      "Early stopping, best iteration is:                                                \n",
      "[18]\tTrain's binary_error: 0.0584479\tTrain's auc: 0.860636\tVal's binary_error: 0.0605833\tVal's auc: 0.864776\n",
      " 54%|█████▍    | 27/50 [21:10<17:48, 46.44s/trial, best loss: -0.9424437500000002]"
     ]
    },
    {
     "name": "stderr",
     "output_type": "stream",
     "text": [
      "c:\\Program Files\\Python310\\lib\\site-packages\\lightgbm\\engine.py:177: UserWarning: Found `num_boost_round` in params. Will use it instead of argument\n",
      "  _log_warning(f\"Found `{alias}` in params. Will use it instead of argument\")\n",
      "\n"
     ]
    },
    {
     "name": "stdout",
     "output_type": "stream",
     "text": [
      "[LightGBM] [Warning] num_iterations is set=500, num_boost_round=500 will be ignored. Current value: num_iterations=500\n",
      "Training until validation scores don't improve for 20 rounds                      \n",
      "Early stopping, best iteration is:                                                \n",
      "[17]\tTrain's binary_error: 0.05875\tTrain's auc: 0.861188\tVal's binary_error: 0.0599167\tVal's auc: 0.85894\n",
      " 54%|█████▍    | 27/50 [21:19<17:48, 46.44s/trial, best loss: -0.9424437500000002]"
     ]
    },
    {
     "name": "stderr",
     "output_type": "stream",
     "text": [
      "c:\\Program Files\\Python310\\lib\\site-packages\\lightgbm\\engine.py:177: UserWarning: Found `num_boost_round` in params. Will use it instead of argument\n",
      "  _log_warning(f\"Found `{alias}` in params. Will use it instead of argument\")\n",
      "\n"
     ]
    },
    {
     "name": "stdout",
     "output_type": "stream",
     "text": [
      "[LightGBM] [Warning] num_iterations is set=500, num_boost_round=500 will be ignored. Current value: num_iterations=500\n",
      "Training until validation scores don't improve for 20 rounds                      \n",
      "Early stopping, best iteration is:                                                \n",
      "[18]\tTrain's binary_error: 0.0590521\tTrain's auc: 0.862389\tVal's binary_error: 0.0585\tVal's auc: 0.856196\n",
      "total Accuracy train=                                                             \n",
      "0.9409854166666667                                                                \n",
      "total Accuracy val=                                                               \n",
      "0.9411999999999999                                                                \n",
      "AUC 0.941 params {'learning_rate': 0.038, 'max_depth': 2, 'num_leaves': 20}       \n",
      " 56%|█████▌    | 28/50 [21:29<16:45, 45.69s/trial, best loss: -0.9424437500000002]"
     ]
    },
    {
     "name": "stderr",
     "output_type": "stream",
     "text": [
      "c:\\Program Files\\Python310\\lib\\site-packages\\lightgbm\\engine.py:177: UserWarning: Found `num_boost_round` in params. Will use it instead of argument\n",
      "  _log_warning(f\"Found `{alias}` in params. Will use it instead of argument\")\n",
      "\n"
     ]
    },
    {
     "name": "stdout",
     "output_type": "stream",
     "text": [
      "[LightGBM] [Warning] num_iterations is set=500, num_boost_round=500 will be ignored. Current value: num_iterations=500\n",
      "Training until validation scores don't improve for 20 rounds                      \n",
      "Early stopping, best iteration is:                                                \n",
      "[1]\tTrain's binary_error: 0.0643229\tTrain's auc: 0.863717\tVal's binary_error: 0.062125\tVal's auc: 0.858428\n",
      " 56%|█████▌    | 28/50 [21:37<16:45, 45.69s/trial, best loss: -0.9424437500000002]"
     ]
    },
    {
     "name": "stderr",
     "output_type": "stream",
     "text": [
      "c:\\Program Files\\Python310\\lib\\site-packages\\lightgbm\\engine.py:177: UserWarning: Found `num_boost_round` in params. Will use it instead of argument\n",
      "  _log_warning(f\"Found `{alias}` in params. Will use it instead of argument\")\n",
      "\n"
     ]
    },
    {
     "name": "stdout",
     "output_type": "stream",
     "text": [
      "[LightGBM] [Warning] num_iterations is set=500, num_boost_round=500 will be ignored. Current value: num_iterations=500\n",
      "Training until validation scores don't improve for 20 rounds                      \n",
      "Early stopping, best iteration is:                                                \n",
      "[1]\tTrain's binary_error: 0.0644792\tTrain's auc: 0.863028\tVal's binary_error: 0.0615\tVal's auc: 0.846338\n",
      " 56%|█████▌    | 28/50 [21:46<16:45, 45.69s/trial, best loss: -0.9424437500000002]"
     ]
    },
    {
     "name": "stderr",
     "output_type": "stream",
     "text": [
      "c:\\Program Files\\Python310\\lib\\site-packages\\lightgbm\\engine.py:177: UserWarning: Found `num_boost_round` in params. Will use it instead of argument\n",
      "  _log_warning(f\"Found `{alias}` in params. Will use it instead of argument\")\n",
      "\n"
     ]
    },
    {
     "name": "stdout",
     "output_type": "stream",
     "text": [
      "[LightGBM] [Warning] num_iterations is set=500, num_boost_round=500 will be ignored. Current value: num_iterations=500\n",
      "Training until validation scores don't improve for 20 rounds                      \n",
      "Early stopping, best iteration is:                                                \n",
      "[1]\tTrain's binary_error: 0.0632812\tTrain's auc: 0.862247\tVal's binary_error: 0.0662917\tVal's auc: 0.85522\n",
      " 56%|█████▌    | 28/50 [21:55<16:45, 45.69s/trial, best loss: -0.9424437500000002]"
     ]
    },
    {
     "name": "stderr",
     "output_type": "stream",
     "text": [
      "c:\\Program Files\\Python310\\lib\\site-packages\\lightgbm\\engine.py:177: UserWarning: Found `num_boost_round` in params. Will use it instead of argument\n",
      "  _log_warning(f\"Found `{alias}` in params. Will use it instead of argument\")\n",
      "\n"
     ]
    },
    {
     "name": "stdout",
     "output_type": "stream",
     "text": [
      "[LightGBM] [Warning] num_iterations is set=500, num_boost_round=500 will be ignored. Current value: num_iterations=500\n",
      "Training until validation scores don't improve for 20 rounds                      \n",
      "Early stopping, best iteration is:                                                \n",
      "[1]\tTrain's binary_error: 0.063375\tTrain's auc: 0.862473\tVal's binary_error: 0.0659167\tVal's auc: 0.857724\n",
      " 56%|█████▌    | 28/50 [22:04<16:45, 45.69s/trial, best loss: -0.9424437500000002]"
     ]
    },
    {
     "name": "stderr",
     "output_type": "stream",
     "text": [
      "c:\\Program Files\\Python310\\lib\\site-packages\\lightgbm\\engine.py:177: UserWarning: Found `num_boost_round` in params. Will use it instead of argument\n",
      "  _log_warning(f\"Found `{alias}` in params. Will use it instead of argument\")\n",
      "\n"
     ]
    },
    {
     "name": "stdout",
     "output_type": "stream",
     "text": [
      "[LightGBM] [Warning] num_iterations is set=500, num_boost_round=500 will be ignored. Current value: num_iterations=500\n",
      "Training until validation scores don't improve for 20 rounds                      \n",
      "Early stopping, best iteration is:                                                \n",
      "[1]\tTrain's binary_error: 0.0639583\tTrain's auc: 0.862418\tVal's binary_error: 0.0635833\tVal's auc: 0.851897\n",
      "total Accuracy train=                                                             \n",
      "0.9361166666666666                                                                \n",
      "total Accuracy val=                                                               \n",
      "0.9361166666666666                                                                \n",
      "AUC 0.936 params {'learning_rate': 0.012, 'max_depth': 5, 'num_leaves': 80}       \n",
      " 58%|█████▊    | 29/50 [22:14<15:57, 45.61s/trial, best loss: -0.9424437500000002]"
     ]
    },
    {
     "name": "stderr",
     "output_type": "stream",
     "text": [
      "c:\\Program Files\\Python310\\lib\\site-packages\\lightgbm\\engine.py:177: UserWarning: Found `num_boost_round` in params. Will use it instead of argument\n",
      "  _log_warning(f\"Found `{alias}` in params. Will use it instead of argument\")\n",
      "\n"
     ]
    },
    {
     "name": "stdout",
     "output_type": "stream",
     "text": [
      "[LightGBM] [Warning] num_iterations is set=500, num_boost_round=500 will be ignored. Current value: num_iterations=500\n",
      "Training until validation scores don't improve for 20 rounds                      \n",
      "Early stopping, best iteration is:                                                \n",
      "[6]\tTrain's binary_error: 0.0578542\tTrain's auc: 0.894916\tVal's binary_error: 0.0582917\tVal's auc: 0.880406\n",
      " 58%|█████▊    | 29/50 [22:22<15:57, 45.61s/trial, best loss: -0.9424437500000002]"
     ]
    },
    {
     "name": "stderr",
     "output_type": "stream",
     "text": [
      "c:\\Program Files\\Python310\\lib\\site-packages\\lightgbm\\engine.py:177: UserWarning: Found `num_boost_round` in params. Will use it instead of argument\n",
      "  _log_warning(f\"Found `{alias}` in params. Will use it instead of argument\")\n",
      "\n"
     ]
    },
    {
     "name": "stdout",
     "output_type": "stream",
     "text": [
      "[LightGBM] [Warning] num_iterations is set=500, num_boost_round=500 will be ignored. Current value: num_iterations=500\n",
      "Training until validation scores don't improve for 20 rounds                      \n",
      "Early stopping, best iteration is:                                                \n",
      "[6]\tTrain's binary_error: 0.0576979\tTrain's auc: 0.894926\tVal's binary_error: 0.0552083\tVal's auc: 0.874337\n",
      " 58%|█████▊    | 29/50 [22:32<15:57, 45.61s/trial, best loss: -0.9424437500000002]"
     ]
    },
    {
     "name": "stderr",
     "output_type": "stream",
     "text": [
      "c:\\Program Files\\Python310\\lib\\site-packages\\lightgbm\\engine.py:177: UserWarning: Found `num_boost_round` in params. Will use it instead of argument\n",
      "  _log_warning(f\"Found `{alias}` in params. Will use it instead of argument\")\n",
      "\n"
     ]
    },
    {
     "name": "stdout",
     "output_type": "stream",
     "text": [
      "[LightGBM] [Warning] num_iterations is set=500, num_boost_round=500 will be ignored. Current value: num_iterations=500\n",
      "Training until validation scores don't improve for 20 rounds                      \n",
      "Early stopping, best iteration is:                                                \n",
      "[7]\tTrain's binary_error: 0.0565937\tTrain's auc: 0.895598\tVal's binary_error: 0.061125\tVal's auc: 0.882395\n",
      " 58%|█████▊    | 29/50 [22:41<15:57, 45.61s/trial, best loss: -0.9424437500000002]"
     ]
    },
    {
     "name": "stderr",
     "output_type": "stream",
     "text": [
      "c:\\Program Files\\Python310\\lib\\site-packages\\lightgbm\\engine.py:177: UserWarning: Found `num_boost_round` in params. Will use it instead of argument\n",
      "  _log_warning(f\"Found `{alias}` in params. Will use it instead of argument\")\n",
      "\n"
     ]
    },
    {
     "name": "stdout",
     "output_type": "stream",
     "text": [
      "[LightGBM] [Warning] num_iterations is set=500, num_boost_round=500 will be ignored. Current value: num_iterations=500\n",
      "Training until validation scores don't improve for 20 rounds                      \n",
      "Early stopping, best iteration is:                                                \n",
      "[6]\tTrain's binary_error: 0.0570312\tTrain's auc: 0.890479\tVal's binary_error: 0.058625\tVal's auc: 0.878098\n",
      " 58%|█████▊    | 29/50 [22:50<15:57, 45.61s/trial, best loss: -0.9424437500000002]"
     ]
    },
    {
     "name": "stderr",
     "output_type": "stream",
     "text": [
      "c:\\Program Files\\Python310\\lib\\site-packages\\lightgbm\\engine.py:177: UserWarning: Found `num_boost_round` in params. Will use it instead of argument\n",
      "  _log_warning(f\"Found `{alias}` in params. Will use it instead of argument\")\n",
      "\n"
     ]
    },
    {
     "name": "stdout",
     "output_type": "stream",
     "text": [
      "[LightGBM] [Warning] num_iterations is set=500, num_boost_round=500 will be ignored. Current value: num_iterations=500\n",
      "Training until validation scores don't improve for 20 rounds                      \n",
      "Early stopping, best iteration is:                                                \n",
      "[6]\tTrain's binary_error: 0.0575104\tTrain's auc: 0.891273\tVal's binary_error: 0.05875\tVal's auc: 0.876308\n",
      "total Accuracy train=                                                             \n",
      "0.9426625                                                                         \n",
      "total Accuracy val=                                                               \n",
      "0.9416                                                                            \n",
      "AUC 0.941 params {'learning_rate': 0.09, 'max_depth': 5, 'num_leaves': 60}        \n",
      " 60%|██████    | 30/50 [23:01<15:19, 45.97s/trial, best loss: -0.9424437500000002]"
     ]
    },
    {
     "name": "stderr",
     "output_type": "stream",
     "text": [
      "c:\\Program Files\\Python310\\lib\\site-packages\\lightgbm\\engine.py:177: UserWarning: Found `num_boost_round` in params. Will use it instead of argument\n",
      "  _log_warning(f\"Found `{alias}` in params. Will use it instead of argument\")\n",
      "\n"
     ]
    },
    {
     "name": "stdout",
     "output_type": "stream",
     "text": [
      "[LightGBM] [Warning] num_iterations is set=500, num_boost_round=500 will be ignored. Current value: num_iterations=500\n",
      "Training until validation scores don't improve for 20 rounds                      \n",
      "Early stopping, best iteration is:                                                \n",
      "[13]\tTrain's binary_error: 0.0533333\tTrain's auc: 0.897126\tVal's binary_error: 0.0565\tVal's auc: 0.883399\n",
      " 60%|██████    | 30/50 [23:09<15:19, 45.97s/trial, best loss: -0.9424437500000002]"
     ]
    },
    {
     "name": "stderr",
     "output_type": "stream",
     "text": [
      "c:\\Program Files\\Python310\\lib\\site-packages\\lightgbm\\engine.py:177: UserWarning: Found `num_boost_round` in params. Will use it instead of argument\n",
      "  _log_warning(f\"Found `{alias}` in params. Will use it instead of argument\")\n",
      "\n"
     ]
    },
    {
     "name": "stdout",
     "output_type": "stream",
     "text": [
      "[LightGBM] [Warning] num_iterations is set=500, num_boost_round=500 will be ignored. Current value: num_iterations=500\n",
      "Training until validation scores don't improve for 20 rounds                      \n",
      "Early stopping, best iteration is:                                                \n",
      "[13]\tTrain's binary_error: 0.0543125\tTrain's auc: 0.897906\tVal's binary_error: 0.0538333\tVal's auc: 0.878033\n",
      " 60%|██████    | 30/50 [23:19<15:19, 45.97s/trial, best loss: -0.9424437500000002]"
     ]
    },
    {
     "name": "stderr",
     "output_type": "stream",
     "text": [
      "c:\\Program Files\\Python310\\lib\\site-packages\\lightgbm\\engine.py:177: UserWarning: Found `num_boost_round` in params. Will use it instead of argument\n",
      "  _log_warning(f\"Found `{alias}` in params. Will use it instead of argument\")\n",
      "\n"
     ]
    },
    {
     "name": "stdout",
     "output_type": "stream",
     "text": [
      "[LightGBM] [Warning] num_iterations is set=500, num_boost_round=500 will be ignored. Current value: num_iterations=500\n",
      "Training until validation scores don't improve for 20 rounds                      \n",
      "Early stopping, best iteration is:                                                \n",
      "[13]\tTrain's binary_error: 0.0531771\tTrain's auc: 0.896429\tVal's binary_error: 0.057375\tVal's auc: 0.885018\n",
      " 60%|██████    | 30/50 [23:29<15:19, 45.97s/trial, best loss: -0.9424437500000002]"
     ]
    },
    {
     "name": "stderr",
     "output_type": "stream",
     "text": [
      "c:\\Program Files\\Python310\\lib\\site-packages\\lightgbm\\engine.py:177: UserWarning: Found `num_boost_round` in params. Will use it instead of argument\n",
      "  _log_warning(f\"Found `{alias}` in params. Will use it instead of argument\")\n",
      "\n"
     ]
    },
    {
     "name": "stdout",
     "output_type": "stream",
     "text": [
      "[LightGBM] [Warning] num_iterations is set=500, num_boost_round=500 will be ignored. Current value: num_iterations=500\n",
      "Training until validation scores don't improve for 20 rounds                      \n",
      "Early stopping, best iteration is:                                                \n",
      "[13]\tTrain's binary_error: 0.0532708\tTrain's auc: 0.892908\tVal's binary_error: 0.055625\tVal's auc: 0.879238\n",
      " 60%|██████    | 30/50 [23:39<15:19, 45.97s/trial, best loss: -0.9424437500000002]"
     ]
    },
    {
     "name": "stderr",
     "output_type": "stream",
     "text": [
      "c:\\Program Files\\Python310\\lib\\site-packages\\lightgbm\\engine.py:177: UserWarning: Found `num_boost_round` in params. Will use it instead of argument\n",
      "  _log_warning(f\"Found `{alias}` in params. Will use it instead of argument\")\n",
      "\n"
     ]
    },
    {
     "name": "stdout",
     "output_type": "stream",
     "text": [
      "[LightGBM] [Warning] num_iterations is set=500, num_boost_round=500 will be ignored. Current value: num_iterations=500\n",
      "Training until validation scores don't improve for 20 rounds                      \n",
      "Early stopping, best iteration is:                                                \n",
      "[13]\tTrain's binary_error: 0.0537708\tTrain's auc: 0.89572\tVal's binary_error: 0.056125\tVal's auc: 0.880394\n",
      "total Accuracy train=                                                             \n",
      "0.9464270833333334                                                                \n",
      "total Accuracy val=                                                               \n",
      "0.9441083333333333                                                                \n",
      "AUC 0.942 params {'learning_rate': 0.05, 'max_depth': 5, 'num_leaves': 70}        \n",
      " 62%|██████▏   | 31/50 [23:50<14:53, 47.02s/trial, best loss: -0.9424437500000002]"
     ]
    },
    {
     "name": "stderr",
     "output_type": "stream",
     "text": [
      "c:\\Program Files\\Python310\\lib\\site-packages\\lightgbm\\engine.py:177: UserWarning: Found `num_boost_round` in params. Will use it instead of argument\n",
      "  _log_warning(f\"Found `{alias}` in params. Will use it instead of argument\")\n",
      "\n"
     ]
    },
    {
     "name": "stdout",
     "output_type": "stream",
     "text": [
      "[LightGBM] [Warning] num_iterations is set=500, num_boost_round=500 will be ignored. Current value: num_iterations=500\n",
      "Training until validation scores don't improve for 20 rounds                      \n",
      "Early stopping, best iteration is:                                                \n",
      "[14]\tTrain's binary_error: 0.0590104\tTrain's auc: 0.861706\tVal's binary_error: 0.0587083\tVal's auc: 0.860764\n",
      " 62%|██████▏   | 31/50 [23:58<14:53, 47.02s/trial, best loss: -0.9424437500000002]"
     ]
    },
    {
     "name": "stderr",
     "output_type": "stream",
     "text": [
      "c:\\Program Files\\Python310\\lib\\site-packages\\lightgbm\\engine.py:177: UserWarning: Found `num_boost_round` in params. Will use it instead of argument\n",
      "  _log_warning(f\"Found `{alias}` in params. Will use it instead of argument\")\n",
      "\n"
     ]
    },
    {
     "name": "stdout",
     "output_type": "stream",
     "text": [
      "[LightGBM] [Warning] num_iterations is set=500, num_boost_round=500 will be ignored. Current value: num_iterations=500\n",
      "Training until validation scores don't improve for 20 rounds                      \n",
      "Early stopping, best iteration is:                                                \n",
      "[14]\tTrain's binary_error: 0.0592708\tTrain's auc: 0.862055\tVal's binary_error: 0.0564167\tVal's auc: 0.855887\n",
      " 62%|██████▏   | 31/50 [24:06<14:53, 47.02s/trial, best loss: -0.9424437500000002]"
     ]
    },
    {
     "name": "stderr",
     "output_type": "stream",
     "text": [
      "c:\\Program Files\\Python310\\lib\\site-packages\\lightgbm\\engine.py:177: UserWarning: Found `num_boost_round` in params. Will use it instead of argument\n",
      "  _log_warning(f\"Found `{alias}` in params. Will use it instead of argument\")\n",
      "\n"
     ]
    },
    {
     "name": "stdout",
     "output_type": "stream",
     "text": [
      "[LightGBM] [Warning] num_iterations is set=500, num_boost_round=500 will be ignored. Current value: num_iterations=500\n",
      "Training until validation scores don't improve for 20 rounds                      \n",
      "Early stopping, best iteration is:                                                \n",
      "[14]\tTrain's binary_error: 0.0581146\tTrain's auc: 0.859386\tVal's binary_error: 0.060375\tVal's auc: 0.863052\n",
      " 62%|██████▏   | 31/50 [24:15<14:53, 47.02s/trial, best loss: -0.9424437500000002]"
     ]
    },
    {
     "name": "stderr",
     "output_type": "stream",
     "text": [
      "c:\\Program Files\\Python310\\lib\\site-packages\\lightgbm\\engine.py:177: UserWarning: Found `num_boost_round` in params. Will use it instead of argument\n",
      "  _log_warning(f\"Found `{alias}` in params. Will use it instead of argument\")\n",
      "\n"
     ]
    },
    {
     "name": "stdout",
     "output_type": "stream",
     "text": [
      "[LightGBM] [Warning] num_iterations is set=500, num_boost_round=500 will be ignored. Current value: num_iterations=500\n",
      "Training until validation scores don't improve for 20 rounds                      \n",
      "Early stopping, best iteration is:                                                \n",
      "[14]\tTrain's binary_error: 0.058625\tTrain's auc: 0.861239\tVal's binary_error: 0.0599583\tVal's auc: 0.859197\n",
      " 62%|██████▏   | 31/50 [24:24<14:53, 47.02s/trial, best loss: -0.9424437500000002]"
     ]
    },
    {
     "name": "stderr",
     "output_type": "stream",
     "text": [
      "c:\\Program Files\\Python310\\lib\\site-packages\\lightgbm\\engine.py:177: UserWarning: Found `num_boost_round` in params. Will use it instead of argument\n",
      "  _log_warning(f\"Found `{alias}` in params. Will use it instead of argument\")\n",
      "\n"
     ]
    },
    {
     "name": "stdout",
     "output_type": "stream",
     "text": [
      "[LightGBM] [Warning] num_iterations is set=500, num_boost_round=500 will be ignored. Current value: num_iterations=500\n",
      "Training until validation scores don't improve for 20 rounds                      \n",
      "Early stopping, best iteration is:                                                \n",
      "[15]\tTrain's binary_error: 0.0591042\tTrain's auc: 0.862328\tVal's binary_error: 0.0585\tVal's auc: 0.856064\n",
      "total Accuracy train=                                                             \n",
      "0.941175                                                                          \n",
      "total Accuracy val=                                                               \n",
      "0.9412083333333333                                                                \n",
      "AUC 0.941 params {'learning_rate': 0.046, 'max_depth': 2, 'num_leaves': 90}       \n",
      " 64%|██████▍   | 32/50 [24:33<13:45, 45.83s/trial, best loss: -0.9424437500000002]"
     ]
    },
    {
     "name": "stderr",
     "output_type": "stream",
     "text": [
      "c:\\Program Files\\Python310\\lib\\site-packages\\lightgbm\\engine.py:177: UserWarning: Found `num_boost_round` in params. Will use it instead of argument\n",
      "  _log_warning(f\"Found `{alias}` in params. Will use it instead of argument\")\n",
      "\n"
     ]
    },
    {
     "name": "stdout",
     "output_type": "stream",
     "text": [
      "[LightGBM] [Warning] num_iterations is set=500, num_boost_round=500 will be ignored. Current value: num_iterations=500\n",
      "Training until validation scores don't improve for 20 rounds                      \n",
      "Early stopping, best iteration is:                                                \n",
      "[8]\tTrain's binary_error: 0.0574062\tTrain's auc: 0.883704\tVal's binary_error: 0.0576667\tVal's auc: 0.876401\n",
      " 64%|██████▍   | 32/50 [24:41<13:45, 45.83s/trial, best loss: -0.9424437500000002]"
     ]
    },
    {
     "name": "stderr",
     "output_type": "stream",
     "text": [
      "c:\\Program Files\\Python310\\lib\\site-packages\\lightgbm\\engine.py:177: UserWarning: Found `num_boost_round` in params. Will use it instead of argument\n",
      "  _log_warning(f\"Found `{alias}` in params. Will use it instead of argument\")\n",
      "\n"
     ]
    },
    {
     "name": "stdout",
     "output_type": "stream",
     "text": [
      "[LightGBM] [Warning] num_iterations is set=500, num_boost_round=500 will be ignored. Current value: num_iterations=500\n",
      "Training until validation scores don't improve for 20 rounds                      \n",
      "Early stopping, best iteration is:                                                \n",
      "[8]\tTrain's binary_error: 0.0574062\tTrain's auc: 0.88509\tVal's binary_error: 0.055\tVal's auc: 0.874058\n",
      " 64%|██████▍   | 32/50 [24:50<13:45, 45.83s/trial, best loss: -0.9424437500000002]"
     ]
    },
    {
     "name": "stderr",
     "output_type": "stream",
     "text": [
      "c:\\Program Files\\Python310\\lib\\site-packages\\lightgbm\\engine.py:177: UserWarning: Found `num_boost_round` in params. Will use it instead of argument\n",
      "  _log_warning(f\"Found `{alias}` in params. Will use it instead of argument\")\n",
      "\n"
     ]
    },
    {
     "name": "stdout",
     "output_type": "stream",
     "text": [
      "[LightGBM] [Warning] num_iterations is set=500, num_boost_round=500 will be ignored. Current value: num_iterations=500\n",
      "Training until validation scores don't improve for 20 rounds                      \n",
      "Early stopping, best iteration is:                                                \n",
      "[8]\tTrain's binary_error: 0.0568125\tTrain's auc: 0.881554\tVal's binary_error: 0.0595833\tVal's auc: 0.877129\n",
      " 64%|██████▍   | 32/50 [25:00<13:45, 45.83s/trial, best loss: -0.9424437500000002]"
     ]
    },
    {
     "name": "stderr",
     "output_type": "stream",
     "text": [
      "c:\\Program Files\\Python310\\lib\\site-packages\\lightgbm\\engine.py:177: UserWarning: Found `num_boost_round` in params. Will use it instead of argument\n",
      "  _log_warning(f\"Found `{alias}` in params. Will use it instead of argument\")\n",
      "\n"
     ]
    },
    {
     "name": "stdout",
     "output_type": "stream",
     "text": [
      "[LightGBM] [Warning] num_iterations is set=500, num_boost_round=500 will be ignored. Current value: num_iterations=500\n",
      "Training until validation scores don't improve for 20 rounds                      \n",
      "Early stopping, best iteration is:                                                \n",
      "[8]\tTrain's binary_error: 0.0573229\tTrain's auc: 0.881039\tVal's binary_error: 0.0585417\tVal's auc: 0.873781\n",
      " 64%|██████▍   | 32/50 [25:08<13:45, 45.83s/trial, best loss: -0.9424437500000002]"
     ]
    },
    {
     "name": "stderr",
     "output_type": "stream",
     "text": [
      "c:\\Program Files\\Python310\\lib\\site-packages\\lightgbm\\engine.py:177: UserWarning: Found `num_boost_round` in params. Will use it instead of argument\n",
      "  _log_warning(f\"Found `{alias}` in params. Will use it instead of argument\")\n",
      "\n"
     ]
    },
    {
     "name": "stdout",
     "output_type": "stream",
     "text": [
      "[LightGBM] [Warning] num_iterations is set=500, num_boost_round=500 will be ignored. Current value: num_iterations=500\n",
      "Training until validation scores don't improve for 20 rounds                      \n",
      "Early stopping, best iteration is:                                                \n",
      "[8]\tTrain's binary_error: 0.0575312\tTrain's auc: 0.880758\tVal's binary_error: 0.05875\tVal's auc: 0.871765\n",
      "total Accuracy train=                                                             \n",
      "0.9427041666666666                                                                \n",
      "total Accuracy val=                                                               \n",
      "0.9420916666666667                                                                \n",
      "AUC 0.941 params {'learning_rate': 0.074, 'max_depth': 4, 'num_leaves': 100}      \n",
      " 66%|██████▌   | 33/50 [25:19<12:56, 45.69s/trial, best loss: -0.9424437500000002]"
     ]
    },
    {
     "name": "stderr",
     "output_type": "stream",
     "text": [
      "c:\\Program Files\\Python310\\lib\\site-packages\\lightgbm\\engine.py:177: UserWarning: Found `num_boost_round` in params. Will use it instead of argument\n",
      "  _log_warning(f\"Found `{alias}` in params. Will use it instead of argument\")\n",
      "\n"
     ]
    },
    {
     "name": "stdout",
     "output_type": "stream",
     "text": [
      "[LightGBM] [Warning] num_iterations is set=500, num_boost_round=500 will be ignored. Current value: num_iterations=500\n",
      "Training until validation scores don't improve for 20 rounds                      \n",
      "Early stopping, best iteration is:                                                \n",
      "[8]\tTrain's binary_error: 0.0578646\tTrain's auc: 0.871646\tVal's binary_error: 0.05825\tVal's auc: 0.870473\n",
      " 66%|██████▌   | 33/50 [25:26<12:56, 45.69s/trial, best loss: -0.9424437500000002]"
     ]
    },
    {
     "name": "stderr",
     "output_type": "stream",
     "text": [
      "c:\\Program Files\\Python310\\lib\\site-packages\\lightgbm\\engine.py:177: UserWarning: Found `num_boost_round` in params. Will use it instead of argument\n",
      "  _log_warning(f\"Found `{alias}` in params. Will use it instead of argument\")\n",
      "\n"
     ]
    },
    {
     "name": "stdout",
     "output_type": "stream",
     "text": [
      "[LightGBM] [Warning] num_iterations is set=500, num_boost_round=500 will be ignored. Current value: num_iterations=500\n",
      "Training until validation scores don't improve for 20 rounds                      \n",
      "Early stopping, best iteration is:                                                \n",
      "[8]\tTrain's binary_error: 0.0583437\tTrain's auc: 0.872391\tVal's binary_error: 0.0555\tVal's auc: 0.865282\n",
      " 66%|██████▌   | 33/50 [25:35<12:56, 45.69s/trial, best loss: -0.9424437500000002]"
     ]
    },
    {
     "name": "stderr",
     "output_type": "stream",
     "text": [
      "c:\\Program Files\\Python310\\lib\\site-packages\\lightgbm\\engine.py:177: UserWarning: Found `num_boost_round` in params. Will use it instead of argument\n",
      "  _log_warning(f\"Found `{alias}` in params. Will use it instead of argument\")\n",
      "\n"
     ]
    },
    {
     "name": "stdout",
     "output_type": "stream",
     "text": [
      "[LightGBM] [Warning] num_iterations is set=500, num_boost_round=500 will be ignored. Current value: num_iterations=500\n",
      "Training until validation scores don't improve for 20 rounds                      \n",
      "Early stopping, best iteration is:                                                \n",
      "[8]\tTrain's binary_error: 0.0584792\tTrain's auc: 0.872072\tVal's binary_error: 0.0604167\tVal's auc: 0.871848\n",
      " 66%|██████▌   | 33/50 [25:44<12:56, 45.69s/trial, best loss: -0.9424437500000002]"
     ]
    },
    {
     "name": "stderr",
     "output_type": "stream",
     "text": [
      "c:\\Program Files\\Python310\\lib\\site-packages\\lightgbm\\engine.py:177: UserWarning: Found `num_boost_round` in params. Will use it instead of argument\n",
      "  _log_warning(f\"Found `{alias}` in params. Will use it instead of argument\")\n",
      "\n"
     ]
    },
    {
     "name": "stdout",
     "output_type": "stream",
     "text": [
      "[LightGBM] [Warning] num_iterations is set=500, num_boost_round=500 will be ignored. Current value: num_iterations=500\n",
      "Training until validation scores don't improve for 20 rounds                      \n",
      "Early stopping, best iteration is:                                                \n",
      "[8]\tTrain's binary_error: 0.0583437\tTrain's auc: 0.870697\tVal's binary_error: 0.059625\tVal's auc: 0.866233\n",
      " 66%|██████▌   | 33/50 [25:53<12:56, 45.69s/trial, best loss: -0.9424437500000002]"
     ]
    },
    {
     "name": "stderr",
     "output_type": "stream",
     "text": [
      "c:\\Program Files\\Python310\\lib\\site-packages\\lightgbm\\engine.py:177: UserWarning: Found `num_boost_round` in params. Will use it instead of argument\n",
      "  _log_warning(f\"Found `{alias}` in params. Will use it instead of argument\")\n",
      "\n"
     ]
    },
    {
     "name": "stdout",
     "output_type": "stream",
     "text": [
      "[LightGBM] [Warning] num_iterations is set=500, num_boost_round=500 will be ignored. Current value: num_iterations=500\n",
      "Training until validation scores don't improve for 20 rounds                      \n",
      "Early stopping, best iteration is:                                                \n",
      "[8]\tTrain's binary_error: 0.0577708\tTrain's auc: 0.871649\tVal's binary_error: 0.0592917\tVal's auc: 0.863579\n",
      "total Accuracy train=                                                             \n",
      "0.9418395833333333                                                                \n",
      "total Accuracy val=                                                               \n",
      "0.9413833333333332                                                                \n",
      "AUC 0.941 params {'learning_rate': 0.075, 'max_depth': 3, 'num_leaves': 80}       \n",
      " 68%|██████▊   | 34/50 [26:02<12:01, 45.08s/trial, best loss: -0.9424437500000002]"
     ]
    },
    {
     "name": "stderr",
     "output_type": "stream",
     "text": [
      "c:\\Program Files\\Python310\\lib\\site-packages\\lightgbm\\engine.py:177: UserWarning: Found `num_boost_round` in params. Will use it instead of argument\n",
      "  _log_warning(f\"Found `{alias}` in params. Will use it instead of argument\")\n",
      "\n"
     ]
    },
    {
     "name": "stdout",
     "output_type": "stream",
     "text": [
      "[LightGBM] [Warning] num_iterations is set=500, num_boost_round=500 will be ignored. Current value: num_iterations=500\n",
      "Training until validation scores don't improve for 20 rounds                      \n",
      "Early stopping, best iteration is:                                                \n",
      "[16]\tTrain's binary_error: 0.0532083\tTrain's auc: 0.896532\tVal's binary_error: 0.0575417\tVal's auc: 0.882811\n",
      " 68%|██████▊   | 34/50 [26:11<12:01, 45.08s/trial, best loss: -0.9424437500000002]"
     ]
    },
    {
     "name": "stderr",
     "output_type": "stream",
     "text": [
      "c:\\Program Files\\Python310\\lib\\site-packages\\lightgbm\\engine.py:177: UserWarning: Found `num_boost_round` in params. Will use it instead of argument\n",
      "  _log_warning(f\"Found `{alias}` in params. Will use it instead of argument\")\n",
      "\n"
     ]
    },
    {
     "name": "stdout",
     "output_type": "stream",
     "text": [
      "[LightGBM] [Warning] num_iterations is set=500, num_boost_round=500 will be ignored. Current value: num_iterations=500\n",
      "Training until validation scores don't improve for 20 rounds                      \n",
      "Early stopping, best iteration is:                                                \n",
      "[16]\tTrain's binary_error: 0.0545521\tTrain's auc: 0.898506\tVal's binary_error: 0.0534583\tVal's auc: 0.877952\n",
      " 68%|██████▊   | 34/50 [26:21<12:01, 45.08s/trial, best loss: -0.9424437500000002]"
     ]
    },
    {
     "name": "stderr",
     "output_type": "stream",
     "text": [
      "c:\\Program Files\\Python310\\lib\\site-packages\\lightgbm\\engine.py:177: UserWarning: Found `num_boost_round` in params. Will use it instead of argument\n",
      "  _log_warning(f\"Found `{alias}` in params. Will use it instead of argument\")\n",
      "\n"
     ]
    },
    {
     "name": "stdout",
     "output_type": "stream",
     "text": [
      "[LightGBM] [Warning] num_iterations is set=500, num_boost_round=500 will be ignored. Current value: num_iterations=500\n",
      "Training until validation scores don't improve for 20 rounds                      \n",
      "Early stopping, best iteration is:                                                \n",
      "[16]\tTrain's binary_error: 0.0528958\tTrain's auc: 0.898703\tVal's binary_error: 0.0573333\tVal's auc: 0.887441\n",
      " 68%|██████▊   | 34/50 [26:32<12:01, 45.08s/trial, best loss: -0.9424437500000002]"
     ]
    },
    {
     "name": "stderr",
     "output_type": "stream",
     "text": [
      "c:\\Program Files\\Python310\\lib\\site-packages\\lightgbm\\engine.py:177: UserWarning: Found `num_boost_round` in params. Will use it instead of argument\n",
      "  _log_warning(f\"Found `{alias}` in params. Will use it instead of argument\")\n",
      "\n"
     ]
    },
    {
     "name": "stdout",
     "output_type": "stream",
     "text": [
      "[LightGBM] [Warning] num_iterations is set=500, num_boost_round=500 will be ignored. Current value: num_iterations=500\n",
      "Training until validation scores don't improve for 20 rounds                      \n",
      "Early stopping, best iteration is:                                                \n",
      "[16]\tTrain's binary_error: 0.0534479\tTrain's auc: 0.893683\tVal's binary_error: 0.0563333\tVal's auc: 0.88048\n",
      " 68%|██████▊   | 34/50 [26:42<12:01, 45.08s/trial, best loss: -0.9424437500000002]"
     ]
    },
    {
     "name": "stderr",
     "output_type": "stream",
     "text": [
      "c:\\Program Files\\Python310\\lib\\site-packages\\lightgbm\\engine.py:177: UserWarning: Found `num_boost_round` in params. Will use it instead of argument\n",
      "  _log_warning(f\"Found `{alias}` in params. Will use it instead of argument\")\n",
      "\n"
     ]
    },
    {
     "name": "stdout",
     "output_type": "stream",
     "text": [
      "[LightGBM] [Warning] num_iterations is set=500, num_boost_round=500 will be ignored. Current value: num_iterations=500\n",
      "Training until validation scores don't improve for 20 rounds                      \n",
      "Early stopping, best iteration is:                                                \n",
      "[16]\tTrain's binary_error: 0.0535\tTrain's auc: 0.89612\tVal's binary_error: 0.0563333\tVal's auc: 0.879705\n",
      "total Accuracy train=                                                             \n",
      "0.9464791666666666                                                                \n",
      "total Accuracy val=                                                               \n",
      "0.9437999999999999                                                                \n",
      "AUC 0.941 params {'learning_rate': 0.042, 'max_depth': 5, 'num_leaves': 70}       \n",
      " 70%|███████   | 35/50 [26:53<11:41, 46.74s/trial, best loss: -0.9424437500000002]"
     ]
    },
    {
     "name": "stderr",
     "output_type": "stream",
     "text": [
      "c:\\Program Files\\Python310\\lib\\site-packages\\lightgbm\\engine.py:177: UserWarning: Found `num_boost_round` in params. Will use it instead of argument\n",
      "  _log_warning(f\"Found `{alias}` in params. Will use it instead of argument\")\n",
      "\n"
     ]
    },
    {
     "name": "stdout",
     "output_type": "stream",
     "text": [
      "[LightGBM] [Warning] num_iterations is set=500, num_boost_round=500 will be ignored. Current value: num_iterations=500\n",
      "Training until validation scores don't improve for 20 rounds                      \n",
      "Early stopping, best iteration is:                                                \n",
      "[7]\tTrain's binary_error: 0.0563437\tTrain's auc: 0.896012\tVal's binary_error: 0.057375\tVal's auc: 0.882007\n",
      " 70%|███████   | 35/50 [27:01<11:41, 46.74s/trial, best loss: -0.9424437500000002]"
     ]
    },
    {
     "name": "stderr",
     "output_type": "stream",
     "text": [
      "c:\\Program Files\\Python310\\lib\\site-packages\\lightgbm\\engine.py:177: UserWarning: Found `num_boost_round` in params. Will use it instead of argument\n",
      "  _log_warning(f\"Found `{alias}` in params. Will use it instead of argument\")\n",
      "\n"
     ]
    },
    {
     "name": "stdout",
     "output_type": "stream",
     "text": [
      "[LightGBM] [Warning] num_iterations is set=500, num_boost_round=500 will be ignored. Current value: num_iterations=500\n",
      "Training until validation scores don't improve for 20 rounds                      \n",
      "Early stopping, best iteration is:                                                \n",
      "[7]\tTrain's binary_error: 0.0558646\tTrain's auc: 0.896191\tVal's binary_error: 0.0540417\tVal's auc: 0.874207\n",
      " 70%|███████   | 35/50 [27:11<11:41, 46.74s/trial, best loss: -0.9424437500000002]"
     ]
    },
    {
     "name": "stderr",
     "output_type": "stream",
     "text": [
      "c:\\Program Files\\Python310\\lib\\site-packages\\lightgbm\\engine.py:177: UserWarning: Found `num_boost_round` in params. Will use it instead of argument\n",
      "  _log_warning(f\"Found `{alias}` in params. Will use it instead of argument\")\n",
      "\n"
     ]
    },
    {
     "name": "stdout",
     "output_type": "stream",
     "text": [
      "[LightGBM] [Warning] num_iterations is set=500, num_boost_round=500 will be ignored. Current value: num_iterations=500\n",
      "Training until validation scores don't improve for 20 rounds                      \n",
      "Early stopping, best iteration is:                                                \n",
      "[7]\tTrain's binary_error: 0.05475\tTrain's auc: 0.894093\tVal's binary_error: 0.0575417\tVal's auc: 0.880656\n",
      " 70%|███████   | 35/50 [27:20<11:41, 46.74s/trial, best loss: -0.9424437500000002]"
     ]
    },
    {
     "name": "stderr",
     "output_type": "stream",
     "text": [
      "c:\\Program Files\\Python310\\lib\\site-packages\\lightgbm\\engine.py:177: UserWarning: Found `num_boost_round` in params. Will use it instead of argument\n",
      "  _log_warning(f\"Found `{alias}` in params. Will use it instead of argument\")\n",
      "\n"
     ]
    },
    {
     "name": "stdout",
     "output_type": "stream",
     "text": [
      "[LightGBM] [Warning] num_iterations is set=500, num_boost_round=500 will be ignored. Current value: num_iterations=500\n",
      "Training until validation scores don't improve for 20 rounds                      \n",
      "Early stopping, best iteration is:                                                \n",
      "[7]\tTrain's binary_error: 0.0556354\tTrain's auc: 0.892906\tVal's binary_error: 0.0573333\tVal's auc: 0.879098\n",
      " 70%|███████   | 35/50 [27:30<11:41, 46.74s/trial, best loss: -0.9424437500000002]"
     ]
    },
    {
     "name": "stderr",
     "output_type": "stream",
     "text": [
      "c:\\Program Files\\Python310\\lib\\site-packages\\lightgbm\\engine.py:177: UserWarning: Found `num_boost_round` in params. Will use it instead of argument\n",
      "  _log_warning(f\"Found `{alias}` in params. Will use it instead of argument\")\n",
      "\n"
     ]
    },
    {
     "name": "stdout",
     "output_type": "stream",
     "text": [
      "[LightGBM] [Warning] num_iterations is set=500, num_boost_round=500 will be ignored. Current value: num_iterations=500\n",
      "Training until validation scores don't improve for 20 rounds                      \n",
      "Early stopping, best iteration is:                                                \n",
      "[7]\tTrain's binary_error: 0.0562396\tTrain's auc: 0.895762\tVal's binary_error: 0.0579583\tVal's auc: 0.879699\n",
      "total Accuracy train=                                                             \n",
      "0.9442333333333334                                                                \n",
      "total Accuracy val=                                                               \n",
      "0.9431499999999999                                                                \n",
      "AUC 0.942 params {'learning_rate': 0.082, 'max_depth': 5, 'num_leaves': 60}       \n",
      " 72%|███████▏  | 36/50 [27:40<10:56, 46.87s/trial, best loss: -0.9424437500000002]"
     ]
    },
    {
     "name": "stderr",
     "output_type": "stream",
     "text": [
      "c:\\Program Files\\Python310\\lib\\site-packages\\lightgbm\\engine.py:177: UserWarning: Found `num_boost_round` in params. Will use it instead of argument\n",
      "  _log_warning(f\"Found `{alias}` in params. Will use it instead of argument\")\n",
      "\n"
     ]
    },
    {
     "name": "stdout",
     "output_type": "stream",
     "text": [
      "[LightGBM] [Warning] num_iterations is set=500, num_boost_round=500 will be ignored. Current value: num_iterations=500\n",
      "Training until validation scores don't improve for 20 rounds                      \n",
      "Early stopping, best iteration is:                                                \n",
      "[1]\tTrain's binary_error: 0.0643229\tTrain's auc: 0.837167\tVal's binary_error: 0.062125\tVal's auc: 0.838127\n",
      " 72%|███████▏  | 36/50 [27:48<10:56, 46.87s/trial, best loss: -0.9424437500000002]"
     ]
    },
    {
     "name": "stderr",
     "output_type": "stream",
     "text": [
      "c:\\Program Files\\Python310\\lib\\site-packages\\lightgbm\\engine.py:177: UserWarning: Found `num_boost_round` in params. Will use it instead of argument\n",
      "  _log_warning(f\"Found `{alias}` in params. Will use it instead of argument\")\n",
      "\n"
     ]
    },
    {
     "name": "stdout",
     "output_type": "stream",
     "text": [
      "[LightGBM] [Warning] num_iterations is set=500, num_boost_round=500 will be ignored. Current value: num_iterations=500\n",
      "Training until validation scores don't improve for 20 rounds                      \n",
      "Early stopping, best iteration is:                                                \n",
      "[1]\tTrain's binary_error: 0.0644792\tTrain's auc: 0.838433\tVal's binary_error: 0.0615\tVal's auc: 0.831177\n",
      " 72%|███████▏  | 36/50 [27:56<10:56, 46.87s/trial, best loss: -0.9424437500000002]"
     ]
    },
    {
     "name": "stderr",
     "output_type": "stream",
     "text": [
      "c:\\Program Files\\Python310\\lib\\site-packages\\lightgbm\\engine.py:177: UserWarning: Found `num_boost_round` in params. Will use it instead of argument\n",
      "  _log_warning(f\"Found `{alias}` in params. Will use it instead of argument\")\n",
      "\n"
     ]
    },
    {
     "name": "stdout",
     "output_type": "stream",
     "text": [
      "[LightGBM] [Warning] num_iterations is set=500, num_boost_round=500 will be ignored. Current value: num_iterations=500\n",
      "Training until validation scores don't improve for 20 rounds                      \n",
      "Early stopping, best iteration is:                                                \n",
      "[1]\tTrain's binary_error: 0.0632812\tTrain's auc: 0.833947\tVal's binary_error: 0.0662917\tVal's auc: 0.839833\n",
      " 72%|███████▏  | 36/50 [28:05<10:56, 46.87s/trial, best loss: -0.9424437500000002]"
     ]
    },
    {
     "name": "stderr",
     "output_type": "stream",
     "text": [
      "c:\\Program Files\\Python310\\lib\\site-packages\\lightgbm\\engine.py:177: UserWarning: Found `num_boost_round` in params. Will use it instead of argument\n",
      "  _log_warning(f\"Found `{alias}` in params. Will use it instead of argument\")\n",
      "\n"
     ]
    },
    {
     "name": "stdout",
     "output_type": "stream",
     "text": [
      "[LightGBM] [Warning] num_iterations is set=500, num_boost_round=500 will be ignored. Current value: num_iterations=500\n",
      "Training until validation scores don't improve for 20 rounds                      \n",
      "Early stopping, best iteration is:                                                \n",
      "[1]\tTrain's binary_error: 0.063375\tTrain's auc: 0.836211\tVal's binary_error: 0.0659167\tVal's auc: 0.836728\n",
      " 72%|███████▏  | 36/50 [28:13<10:56, 46.87s/trial, best loss: -0.9424437500000002]"
     ]
    },
    {
     "name": "stderr",
     "output_type": "stream",
     "text": [
      "c:\\Program Files\\Python310\\lib\\site-packages\\lightgbm\\engine.py:177: UserWarning: Found `num_boost_round` in params. Will use it instead of argument\n",
      "  _log_warning(f\"Found `{alias}` in params. Will use it instead of argument\")\n",
      "\n"
     ]
    },
    {
     "name": "stdout",
     "output_type": "stream",
     "text": [
      "[LightGBM] [Warning] num_iterations is set=500, num_boost_round=500 will be ignored. Current value: num_iterations=500\n",
      "Training until validation scores don't improve for 20 rounds                      \n",
      "Early stopping, best iteration is:                                                \n",
      "[1]\tTrain's binary_error: 0.0639583\tTrain's auc: 0.837365\tVal's binary_error: 0.0635833\tVal's auc: 0.831946\n",
      "total Accuracy train=                                                             \n",
      "0.9361166666666666                                                                \n",
      "total Accuracy val=                                                               \n",
      "0.9361166666666666                                                                \n",
      "AUC 0.936 params {'learning_rate': 0.007, 'max_depth': 3, 'num_leaves': 90}       \n",
      " 74%|███████▍  | 37/50 [28:23<09:52, 45.56s/trial, best loss: -0.9424437500000002]"
     ]
    },
    {
     "name": "stderr",
     "output_type": "stream",
     "text": [
      "c:\\Program Files\\Python310\\lib\\site-packages\\lightgbm\\engine.py:177: UserWarning: Found `num_boost_round` in params. Will use it instead of argument\n",
      "  _log_warning(f\"Found `{alias}` in params. Will use it instead of argument\")\n",
      "\n"
     ]
    },
    {
     "name": "stdout",
     "output_type": "stream",
     "text": [
      "[LightGBM] [Warning] num_iterations is set=500, num_boost_round=500 will be ignored. Current value: num_iterations=500\n",
      "Training until validation scores don't improve for 20 rounds                      \n",
      "Early stopping, best iteration is:                                                \n",
      "[1]\tTrain's binary_error: 0.0643229\tTrain's auc: 0.799814\tVal's binary_error: 0.062125\tVal's auc: 0.795706\n",
      " 74%|███████▍  | 37/50 [28:30<09:52, 45.56s/trial, best loss: -0.9424437500000002]"
     ]
    },
    {
     "name": "stderr",
     "output_type": "stream",
     "text": [
      "c:\\Program Files\\Python310\\lib\\site-packages\\lightgbm\\engine.py:177: UserWarning: Found `num_boost_round` in params. Will use it instead of argument\n",
      "  _log_warning(f\"Found `{alias}` in params. Will use it instead of argument\")\n",
      "\n"
     ]
    },
    {
     "name": "stdout",
     "output_type": "stream",
     "text": [
      "[LightGBM] [Warning] num_iterations is set=500, num_boost_round=500 will be ignored. Current value: num_iterations=500\n",
      "Training until validation scores don't improve for 20 rounds                      \n",
      "Early stopping, best iteration is:                                                \n",
      "[1]\tTrain's binary_error: 0.0644792\tTrain's auc: 0.80051\tVal's binary_error: 0.0615\tVal's auc: 0.792246\n",
      " 74%|███████▍  | 37/50 [28:38<09:52, 45.56s/trial, best loss: -0.9424437500000002]"
     ]
    },
    {
     "name": "stderr",
     "output_type": "stream",
     "text": [
      "c:\\Program Files\\Python310\\lib\\site-packages\\lightgbm\\engine.py:177: UserWarning: Found `num_boost_round` in params. Will use it instead of argument\n",
      "  _log_warning(f\"Found `{alias}` in params. Will use it instead of argument\")\n",
      "\n"
     ]
    },
    {
     "name": "stdout",
     "output_type": "stream",
     "text": [
      "[LightGBM] [Warning] num_iterations is set=500, num_boost_round=500 will be ignored. Current value: num_iterations=500\n",
      "Training until validation scores don't improve for 20 rounds                      \n",
      "Early stopping, best iteration is:                                                \n",
      "[1]\tTrain's binary_error: 0.0632812\tTrain's auc: 0.801622\tVal's binary_error: 0.0662917\tVal's auc: 0.808623\n",
      " 74%|███████▍  | 37/50 [28:46<09:52, 45.56s/trial, best loss: -0.9424437500000002]"
     ]
    },
    {
     "name": "stderr",
     "output_type": "stream",
     "text": [
      "c:\\Program Files\\Python310\\lib\\site-packages\\lightgbm\\engine.py:177: UserWarning: Found `num_boost_round` in params. Will use it instead of argument\n",
      "  _log_warning(f\"Found `{alias}` in params. Will use it instead of argument\")\n",
      "\n"
     ]
    },
    {
     "name": "stdout",
     "output_type": "stream",
     "text": [
      "[LightGBM] [Warning] num_iterations is set=500, num_boost_round=500 will be ignored. Current value: num_iterations=500\n",
      "Training until validation scores don't improve for 20 rounds                      \n",
      "Early stopping, best iteration is:                                                \n",
      "[1]\tTrain's binary_error: 0.063375\tTrain's auc: 0.80357\tVal's binary_error: 0.0659167\tVal's auc: 0.8006\n",
      " 74%|███████▍  | 37/50 [28:55<09:52, 45.56s/trial, best loss: -0.9424437500000002]"
     ]
    },
    {
     "name": "stderr",
     "output_type": "stream",
     "text": [
      "c:\\Program Files\\Python310\\lib\\site-packages\\lightgbm\\engine.py:177: UserWarning: Found `num_boost_round` in params. Will use it instead of argument\n",
      "  _log_warning(f\"Found `{alias}` in params. Will use it instead of argument\")\n",
      "\n"
     ]
    },
    {
     "name": "stdout",
     "output_type": "stream",
     "text": [
      "[LightGBM] [Warning] num_iterations is set=500, num_boost_round=500 will be ignored. Current value: num_iterations=500\n",
      "Training until validation scores don't improve for 20 rounds                      \n",
      "Early stopping, best iteration is:                                                \n",
      "[1]\tTrain's binary_error: 0.0639583\tTrain's auc: 0.802947\tVal's binary_error: 0.0635833\tVal's auc: 0.802006\n",
      "total Accuracy train=                                                             \n",
      "0.9361166666666666                                                                \n",
      "total Accuracy val=                                                               \n",
      "0.9361166666666666                                                                \n",
      "AUC 0.936 params {'learning_rate': 0.018000000000000002, 'max_depth': 2, 'num_leaves': 120}\n",
      " 76%|███████▌  | 38/50 [29:04<08:52, 44.40s/trial, best loss: -0.9424437500000002]"
     ]
    },
    {
     "name": "stderr",
     "output_type": "stream",
     "text": [
      "c:\\Program Files\\Python310\\lib\\site-packages\\lightgbm\\engine.py:177: UserWarning: Found `num_boost_round` in params. Will use it instead of argument\n",
      "  _log_warning(f\"Found `{alias}` in params. Will use it instead of argument\")\n",
      "\n"
     ]
    },
    {
     "name": "stdout",
     "output_type": "stream",
     "text": [
      "[LightGBM] [Warning] num_iterations is set=500, num_boost_round=500 will be ignored. Current value: num_iterations=500\n",
      "Training until validation scores don't improve for 20 rounds                      \n",
      "Early stopping, best iteration is:                                                \n",
      "[7]\tTrain's binary_error: 0.0566562\tTrain's auc: 0.884885\tVal's binary_error: 0.0593333\tVal's auc: 0.876272\n",
      " 76%|███████▌  | 38/50 [29:12<08:52, 44.40s/trial, best loss: -0.9424437500000002]"
     ]
    },
    {
     "name": "stderr",
     "output_type": "stream",
     "text": [
      "c:\\Program Files\\Python310\\lib\\site-packages\\lightgbm\\engine.py:177: UserWarning: Found `num_boost_round` in params. Will use it instead of argument\n",
      "  _log_warning(f\"Found `{alias}` in params. Will use it instead of argument\")\n",
      "\n"
     ]
    },
    {
     "name": "stdout",
     "output_type": "stream",
     "text": [
      "[LightGBM] [Warning] num_iterations is set=500, num_boost_round=500 will be ignored. Current value: num_iterations=500\n",
      "Training until validation scores don't improve for 20 rounds                      \n",
      "Early stopping, best iteration is:                                                \n",
      "[7]\tTrain's binary_error: 0.0563125\tTrain's auc: 0.883837\tVal's binary_error: 0.055125\tVal's auc: 0.872021\n",
      " 76%|███████▌  | 38/50 [29:21<08:52, 44.40s/trial, best loss: -0.9424437500000002]"
     ]
    },
    {
     "name": "stderr",
     "output_type": "stream",
     "text": [
      "c:\\Program Files\\Python310\\lib\\site-packages\\lightgbm\\engine.py:177: UserWarning: Found `num_boost_round` in params. Will use it instead of argument\n",
      "  _log_warning(f\"Found `{alias}` in params. Will use it instead of argument\")\n",
      "\n"
     ]
    },
    {
     "name": "stdout",
     "output_type": "stream",
     "text": [
      "[LightGBM] [Warning] num_iterations is set=500, num_boost_round=500 will be ignored. Current value: num_iterations=500\n",
      "Training until validation scores don't improve for 20 rounds                      \n",
      "Early stopping, best iteration is:                                                \n",
      "[7]\tTrain's binary_error: 0.0572812\tTrain's auc: 0.883392\tVal's binary_error: 0.0592917\tVal's auc: 0.878418\n",
      " 76%|███████▌  | 38/50 [29:31<08:52, 44.40s/trial, best loss: -0.9424437500000002]"
     ]
    },
    {
     "name": "stderr",
     "output_type": "stream",
     "text": [
      "c:\\Program Files\\Python310\\lib\\site-packages\\lightgbm\\engine.py:177: UserWarning: Found `num_boost_round` in params. Will use it instead of argument\n",
      "  _log_warning(f\"Found `{alias}` in params. Will use it instead of argument\")\n",
      "\n"
     ]
    },
    {
     "name": "stdout",
     "output_type": "stream",
     "text": [
      "[LightGBM] [Warning] num_iterations is set=500, num_boost_round=500 will be ignored. Current value: num_iterations=500\n",
      "Training until validation scores don't improve for 20 rounds                      \n",
      "Early stopping, best iteration is:                                                \n",
      "[7]\tTrain's binary_error: 0.0563958\tTrain's auc: 0.882132\tVal's binary_error: 0.0579583\tVal's auc: 0.875752\n",
      " 76%|███████▌  | 38/50 [29:40<08:52, 44.40s/trial, best loss: -0.9424437500000002]"
     ]
    },
    {
     "name": "stderr",
     "output_type": "stream",
     "text": [
      "c:\\Program Files\\Python310\\lib\\site-packages\\lightgbm\\engine.py:177: UserWarning: Found `num_boost_round` in params. Will use it instead of argument\n",
      "  _log_warning(f\"Found `{alias}` in params. Will use it instead of argument\")\n",
      "\n"
     ]
    },
    {
     "name": "stdout",
     "output_type": "stream",
     "text": [
      "[LightGBM] [Warning] num_iterations is set=500, num_boost_round=500 will be ignored. Current value: num_iterations=500\n",
      "Training until validation scores don't improve for 20 rounds                      \n",
      "Early stopping, best iteration is:                                                \n",
      "[7]\tTrain's binary_error: 0.0558333\tTrain's auc: 0.882743\tVal's binary_error: 0.0565\tVal's auc: 0.873202\n",
      "total Accuracy train=                                                             \n",
      "0.9435041666666667                                                                \n",
      "total Accuracy val=                                                               \n",
      "0.9423583333333333                                                                \n",
      "AUC 0.941 params {'learning_rate': 0.08600000000000001, 'max_depth': 4, 'num_leaves': 20}\n",
      " 78%|███████▊  | 39/50 [29:50<08:11, 44.72s/trial, best loss: -0.9424437500000002]"
     ]
    },
    {
     "name": "stderr",
     "output_type": "stream",
     "text": [
      "c:\\Program Files\\Python310\\lib\\site-packages\\lightgbm\\engine.py:177: UserWarning: Found `num_boost_round` in params. Will use it instead of argument\n",
      "  _log_warning(f\"Found `{alias}` in params. Will use it instead of argument\")\n",
      "\n"
     ]
    },
    {
     "name": "stdout",
     "output_type": "stream",
     "text": [
      "[LightGBM] [Warning] num_iterations is set=500, num_boost_round=500 will be ignored. Current value: num_iterations=500\n",
      "Training until validation scores don't improve for 20 rounds                      \n",
      "Early stopping, best iteration is:                                                \n",
      "[6]\tTrain's binary_error: 0.0604375\tTrain's auc: 0.894754\tVal's binary_error: 0.060125\tVal's auc: 0.880079\n",
      " 78%|███████▊  | 39/50 [29:58<08:11, 44.72s/trial, best loss: -0.9424437500000002]"
     ]
    },
    {
     "name": "stderr",
     "output_type": "stream",
     "text": [
      "c:\\Program Files\\Python310\\lib\\site-packages\\lightgbm\\engine.py:177: UserWarning: Found `num_boost_round` in params. Will use it instead of argument\n",
      "  _log_warning(f\"Found `{alias}` in params. Will use it instead of argument\")\n",
      "\n"
     ]
    },
    {
     "name": "stdout",
     "output_type": "stream",
     "text": [
      "[LightGBM] [Warning] num_iterations is set=500, num_boost_round=500 will be ignored. Current value: num_iterations=500\n",
      "Training until validation scores don't improve for 20 rounds                      \n",
      "Early stopping, best iteration is:                                                \n",
      "[7]\tTrain's binary_error: 0.0563021\tTrain's auc: 0.895921\tVal's binary_error: 0.0555833\tVal's auc: 0.873948\n",
      " 78%|███████▊  | 39/50 [30:07<08:11, 44.72s/trial, best loss: -0.9424437500000002]"
     ]
    },
    {
     "name": "stderr",
     "output_type": "stream",
     "text": [
      "c:\\Program Files\\Python310\\lib\\site-packages\\lightgbm\\engine.py:177: UserWarning: Found `num_boost_round` in params. Will use it instead of argument\n",
      "  _log_warning(f\"Found `{alias}` in params. Will use it instead of argument\")\n",
      "\n"
     ]
    },
    {
     "name": "stdout",
     "output_type": "stream",
     "text": [
      "[LightGBM] [Warning] num_iterations is set=500, num_boost_round=500 will be ignored. Current value: num_iterations=500\n",
      "Training until validation scores don't improve for 20 rounds                      \n",
      "Early stopping, best iteration is:                                                \n",
      "[7]\tTrain's binary_error: 0.0559687\tTrain's auc: 0.894766\tVal's binary_error: 0.06\tVal's auc: 0.881854\n",
      " 78%|███████▊  | 39/50 [30:17<08:11, 44.72s/trial, best loss: -0.9424437500000002]"
     ]
    },
    {
     "name": "stderr",
     "output_type": "stream",
     "text": [
      "c:\\Program Files\\Python310\\lib\\site-packages\\lightgbm\\engine.py:177: UserWarning: Found `num_boost_round` in params. Will use it instead of argument\n",
      "  _log_warning(f\"Found `{alias}` in params. Will use it instead of argument\")\n",
      "\n"
     ]
    },
    {
     "name": "stdout",
     "output_type": "stream",
     "text": [
      "[LightGBM] [Warning] num_iterations is set=500, num_boost_round=500 will be ignored. Current value: num_iterations=500\n",
      "Training until validation scores don't improve for 20 rounds                      \n",
      "Early stopping, best iteration is:                                                \n",
      "[7]\tTrain's binary_error: 0.0550833\tTrain's auc: 0.893725\tVal's binary_error: 0.0574167\tVal's auc: 0.881767\n",
      " 78%|███████▊  | 39/50 [30:26<08:11, 44.72s/trial, best loss: -0.9424437500000002]"
     ]
    },
    {
     "name": "stderr",
     "output_type": "stream",
     "text": [
      "c:\\Program Files\\Python310\\lib\\site-packages\\lightgbm\\engine.py:177: UserWarning: Found `num_boost_round` in params. Will use it instead of argument\n",
      "  _log_warning(f\"Found `{alias}` in params. Will use it instead of argument\")\n",
      "\n"
     ]
    },
    {
     "name": "stdout",
     "output_type": "stream",
     "text": [
      "[LightGBM] [Warning] num_iterations is set=500, num_boost_round=500 will be ignored. Current value: num_iterations=500\n",
      "Training until validation scores don't improve for 20 rounds                      \n",
      "Early stopping, best iteration is:                                                \n",
      "[7]\tTrain's binary_error: 0.056125\tTrain's auc: 0.894392\tVal's binary_error: 0.05775\tVal's auc: 0.878258\n",
      "total Accuracy train=                                                             \n",
      "0.9432166666666667                                                                \n",
      "total Accuracy val=                                                               \n",
      "0.941825                                                                          \n",
      "AUC 0.940 params {'learning_rate': 0.08800000000000001, 'max_depth': 5, 'num_leaves': 60}\n",
      " 80%|████████  | 40/50 [30:37<07:34, 45.44s/trial, best loss: -0.9424437500000002]"
     ]
    },
    {
     "name": "stderr",
     "output_type": "stream",
     "text": [
      "c:\\Program Files\\Python310\\lib\\site-packages\\lightgbm\\engine.py:177: UserWarning: Found `num_boost_round` in params. Will use it instead of argument\n",
      "  _log_warning(f\"Found `{alias}` in params. Will use it instead of argument\")\n",
      "\n"
     ]
    },
    {
     "name": "stdout",
     "output_type": "stream",
     "text": [
      "[LightGBM] [Warning] num_iterations is set=500, num_boost_round=500 will be ignored. Current value: num_iterations=500\n",
      "Training until validation scores don't improve for 20 rounds                      \n",
      "Early stopping, best iteration is:                                                \n",
      "[17]\tTrain's binary_error: 0.0524375\tTrain's auc: 0.912657\tVal's binary_error: 0.055375\tVal's auc: 0.887423\n",
      " 80%|████████  | 40/50 [30:47<07:34, 45.44s/trial, best loss: -0.9424437500000002]"
     ]
    },
    {
     "name": "stderr",
     "output_type": "stream",
     "text": [
      "c:\\Program Files\\Python310\\lib\\site-packages\\lightgbm\\engine.py:177: UserWarning: Found `num_boost_round` in params. Will use it instead of argument\n",
      "  _log_warning(f\"Found `{alias}` in params. Will use it instead of argument\")\n",
      "\n"
     ]
    },
    {
     "name": "stdout",
     "output_type": "stream",
     "text": [
      "[LightGBM] [Warning] num_iterations is set=500, num_boost_round=500 will be ignored. Current value: num_iterations=500\n",
      "Training until validation scores don't improve for 20 rounds                      \n",
      "Early stopping, best iteration is:                                                \n",
      "[17]\tTrain's binary_error: 0.0536042\tTrain's auc: 0.912651\tVal's binary_error: 0.0537083\tVal's auc: 0.878955\n",
      " 80%|████████  | 40/50 [30:58<07:34, 45.44s/trial, best loss: -0.9424437500000002]"
     ]
    },
    {
     "name": "stderr",
     "output_type": "stream",
     "text": [
      "c:\\Program Files\\Python310\\lib\\site-packages\\lightgbm\\engine.py:177: UserWarning: Found `num_boost_round` in params. Will use it instead of argument\n",
      "  _log_warning(f\"Found `{alias}` in params. Will use it instead of argument\")\n",
      "\n"
     ]
    },
    {
     "name": "stdout",
     "output_type": "stream",
     "text": [
      "[LightGBM] [Warning] num_iterations is set=500, num_boost_round=500 will be ignored. Current value: num_iterations=500\n",
      "Training until validation scores don't improve for 20 rounds                      \n",
      "Early stopping, best iteration is:                                                \n",
      "[17]\tTrain's binary_error: 0.0530104\tTrain's auc: 0.911439\tVal's binary_error: 0.0571667\tVal's auc: 0.888306\n",
      " 80%|████████  | 40/50 [31:09<07:34, 45.44s/trial, best loss: -0.9424437500000002]"
     ]
    },
    {
     "name": "stderr",
     "output_type": "stream",
     "text": [
      "c:\\Program Files\\Python310\\lib\\site-packages\\lightgbm\\engine.py:177: UserWarning: Found `num_boost_round` in params. Will use it instead of argument\n",
      "  _log_warning(f\"Found `{alias}` in params. Will use it instead of argument\")\n",
      "\n"
     ]
    },
    {
     "name": "stdout",
     "output_type": "stream",
     "text": [
      "[LightGBM] [Warning] num_iterations is set=500, num_boost_round=500 will be ignored. Current value: num_iterations=500\n",
      "Training until validation scores don't improve for 20 rounds                      \n",
      "Early stopping, best iteration is:                                                \n",
      "[18]\tTrain's binary_error: 0.0512708\tTrain's auc: 0.910162\tVal's binary_error: 0.0554167\tVal's auc: 0.886536\n",
      " 80%|████████  | 40/50 [31:20<07:34, 45.44s/trial, best loss: -0.9424437500000002]"
     ]
    },
    {
     "name": "stderr",
     "output_type": "stream",
     "text": [
      "c:\\Program Files\\Python310\\lib\\site-packages\\lightgbm\\engine.py:177: UserWarning: Found `num_boost_round` in params. Will use it instead of argument\n",
      "  _log_warning(f\"Found `{alias}` in params. Will use it instead of argument\")\n",
      "\n"
     ]
    },
    {
     "name": "stdout",
     "output_type": "stream",
     "text": [
      "[LightGBM] [Warning] num_iterations is set=500, num_boost_round=500 will be ignored. Current value: num_iterations=500\n",
      "Training until validation scores don't improve for 20 rounds                      \n",
      "Early stopping, best iteration is:                                                \n",
      "[18]\tTrain's binary_error: 0.0517708\tTrain's auc: 0.912351\tVal's binary_error: 0.0555417\tVal's auc: 0.884753\n",
      "total Accuracy train=                                                             \n",
      "0.94758125                                                                        \n",
      "total Accuracy val=                                                               \n",
      "0.9445583333333334                                                                \n",
      "AUC 0.942 params {'learning_rate': 0.038, 'max_depth': 6, 'num_leaves': 110}      \n",
      " 82%|████████▏ | 41/50 [31:32<07:15, 48.41s/trial, best loss: -0.9424437500000002]"
     ]
    },
    {
     "name": "stderr",
     "output_type": "stream",
     "text": [
      "c:\\Program Files\\Python310\\lib\\site-packages\\lightgbm\\engine.py:177: UserWarning: Found `num_boost_round` in params. Will use it instead of argument\n",
      "  _log_warning(f\"Found `{alias}` in params. Will use it instead of argument\")\n",
      "\n"
     ]
    },
    {
     "name": "stdout",
     "output_type": "stream",
     "text": [
      "[LightGBM] [Warning] num_iterations is set=500, num_boost_round=500 will be ignored. Current value: num_iterations=500\n",
      "Training until validation scores don't improve for 20 rounds                      \n",
      "Early stopping, best iteration is:                                                \n",
      "[19]\tTrain's binary_error: 0.0581875\tTrain's auc: 0.87234\tVal's binary_error: 0.05825\tVal's auc: 0.869697\n",
      " 82%|████████▏ | 41/50 [31:40<07:15, 48.41s/trial, best loss: -0.9424437500000002]"
     ]
    },
    {
     "name": "stderr",
     "output_type": "stream",
     "text": [
      "c:\\Program Files\\Python310\\lib\\site-packages\\lightgbm\\engine.py:177: UserWarning: Found `num_boost_round` in params. Will use it instead of argument\n",
      "  _log_warning(f\"Found `{alias}` in params. Will use it instead of argument\")\n",
      "\n"
     ]
    },
    {
     "name": "stdout",
     "output_type": "stream",
     "text": [
      "[LightGBM] [Warning] num_iterations is set=500, num_boost_round=500 will be ignored. Current value: num_iterations=500\n",
      "Training until validation scores don't improve for 20 rounds                      \n",
      "Early stopping, best iteration is:                                                \n",
      "[20]\tTrain's binary_error: 0.0574271\tTrain's auc: 0.873634\tVal's binary_error: 0.0550833\tVal's auc: 0.866607\n",
      " 82%|████████▏ | 41/50 [31:50<07:15, 48.41s/trial, best loss: -0.9424437500000002]"
     ]
    },
    {
     "name": "stderr",
     "output_type": "stream",
     "text": [
      "c:\\Program Files\\Python310\\lib\\site-packages\\lightgbm\\engine.py:177: UserWarning: Found `num_boost_round` in params. Will use it instead of argument\n",
      "  _log_warning(f\"Found `{alias}` in params. Will use it instead of argument\")\n",
      "\n"
     ]
    },
    {
     "name": "stdout",
     "output_type": "stream",
     "text": [
      "[LightGBM] [Warning] num_iterations is set=500, num_boost_round=500 will be ignored. Current value: num_iterations=500\n",
      "Training until validation scores don't improve for 20 rounds                      \n",
      "Early stopping, best iteration is:                                                \n",
      "[20]\tTrain's binary_error: 0.056875\tTrain's auc: 0.873443\tVal's binary_error: 0.0594583\tVal's auc: 0.873201\n",
      " 82%|████████▏ | 41/50 [31:59<07:15, 48.41s/trial, best loss: -0.9424437500000002]"
     ]
    },
    {
     "name": "stderr",
     "output_type": "stream",
     "text": [
      "c:\\Program Files\\Python310\\lib\\site-packages\\lightgbm\\engine.py:177: UserWarning: Found `num_boost_round` in params. Will use it instead of argument\n",
      "  _log_warning(f\"Found `{alias}` in params. Will use it instead of argument\")\n",
      "\n"
     ]
    },
    {
     "name": "stdout",
     "output_type": "stream",
     "text": [
      "[LightGBM] [Warning] num_iterations is set=500, num_boost_round=500 will be ignored. Current value: num_iterations=500\n",
      "Training until validation scores don't improve for 20 rounds                      \n",
      "Early stopping, best iteration is:                                                \n",
      "[21]\tTrain's binary_error: 0.0580521\tTrain's auc: 0.871985\tVal's binary_error: 0.0588333\tVal's auc: 0.866834\n",
      " 82%|████████▏ | 41/50 [32:08<07:15, 48.41s/trial, best loss: -0.9424437500000002]"
     ]
    },
    {
     "name": "stderr",
     "output_type": "stream",
     "text": [
      "c:\\Program Files\\Python310\\lib\\site-packages\\lightgbm\\engine.py:177: UserWarning: Found `num_boost_round` in params. Will use it instead of argument\n",
      "  _log_warning(f\"Found `{alias}` in params. Will use it instead of argument\")\n",
      "\n"
     ]
    },
    {
     "name": "stdout",
     "output_type": "stream",
     "text": [
      "[LightGBM] [Warning] num_iterations is set=500, num_boost_round=500 will be ignored. Current value: num_iterations=500\n",
      "Training until validation scores don't improve for 20 rounds                      \n",
      "Early stopping, best iteration is:                                                \n",
      "[20]\tTrain's binary_error: 0.0574896\tTrain's auc: 0.873333\tVal's binary_error: 0.0577917\tVal's auc: 0.866348\n",
      "total Accuracy train=                                                             \n",
      "0.9423937500000001                                                                \n",
      "total Accuracy val=                                                               \n",
      "0.9421166666666668                                                                \n",
      "AUC 0.942 params {'learning_rate': 0.035, 'max_depth': 3, 'num_leaves': 10}       \n",
      " 84%|████████▍ | 42/50 [32:19<06:22, 47.78s/trial, best loss: -0.9424437500000002]"
     ]
    },
    {
     "name": "stderr",
     "output_type": "stream",
     "text": [
      "c:\\Program Files\\Python310\\lib\\site-packages\\lightgbm\\engine.py:177: UserWarning: Found `num_boost_round` in params. Will use it instead of argument\n",
      "  _log_warning(f\"Found `{alias}` in params. Will use it instead of argument\")\n",
      "\n"
     ]
    },
    {
     "name": "stdout",
     "output_type": "stream",
     "text": [
      "[LightGBM] [Warning] num_iterations is set=500, num_boost_round=500 will be ignored. Current value: num_iterations=500\n",
      "Training until validation scores don't improve for 20 rounds                      \n",
      "Early stopping, best iteration is:                                                \n",
      "[6]\tTrain's binary_error: 0.0594063\tTrain's auc: 0.859243\tVal's binary_error: 0.0604167\tVal's auc: 0.860316\n",
      " 84%|████████▍ | 42/50 [32:26<06:22, 47.78s/trial, best loss: -0.9424437500000002]"
     ]
    },
    {
     "name": "stderr",
     "output_type": "stream",
     "text": [
      "c:\\Program Files\\Python310\\lib\\site-packages\\lightgbm\\engine.py:177: UserWarning: Found `num_boost_round` in params. Will use it instead of argument\n",
      "  _log_warning(f\"Found `{alias}` in params. Will use it instead of argument\")\n",
      "\n"
     ]
    },
    {
     "name": "stdout",
     "output_type": "stream",
     "text": [
      "[LightGBM] [Warning] num_iterations is set=500, num_boost_round=500 will be ignored. Current value: num_iterations=500\n",
      "Training until validation scores don't improve for 20 rounds                      \n",
      "Early stopping, best iteration is:                                                \n",
      "[6]\tTrain's binary_error: 0.0598542\tTrain's auc: 0.85908\tVal's binary_error: 0.0565417\tVal's auc: 0.851469\n",
      " 84%|████████▍ | 42/50 [32:34<06:22, 47.78s/trial, best loss: -0.9424437500000002]"
     ]
    },
    {
     "name": "stderr",
     "output_type": "stream",
     "text": [
      "c:\\Program Files\\Python310\\lib\\site-packages\\lightgbm\\engine.py:177: UserWarning: Found `num_boost_round` in params. Will use it instead of argument\n",
      "  _log_warning(f\"Found `{alias}` in params. Will use it instead of argument\")\n",
      "\n"
     ]
    },
    {
     "name": "stdout",
     "output_type": "stream",
     "text": [
      "[LightGBM] [Warning] num_iterations is set=500, num_boost_round=500 will be ignored. Current value: num_iterations=500\n",
      "Training until validation scores don't improve for 20 rounds                      \n",
      "Early stopping, best iteration is:                                                \n",
      "[6]\tTrain's binary_error: 0.0589167\tTrain's auc: 0.857181\tVal's binary_error: 0.0614583\tVal's auc: 0.85873\n",
      " 84%|████████▍ | 42/50 [32:43<06:22, 47.78s/trial, best loss: -0.9424437500000002]"
     ]
    },
    {
     "name": "stderr",
     "output_type": "stream",
     "text": [
      "c:\\Program Files\\Python310\\lib\\site-packages\\lightgbm\\engine.py:177: UserWarning: Found `num_boost_round` in params. Will use it instead of argument\n",
      "  _log_warning(f\"Found `{alias}` in params. Will use it instead of argument\")\n",
      "\n"
     ]
    },
    {
     "name": "stdout",
     "output_type": "stream",
     "text": [
      "[LightGBM] [Warning] num_iterations is set=500, num_boost_round=500 will be ignored. Current value: num_iterations=500\n",
      "Training until validation scores don't improve for 20 rounds                      \n",
      "Early stopping, best iteration is:                                                \n",
      "[6]\tTrain's binary_error: 0.0587708\tTrain's auc: 0.859237\tVal's binary_error: 0.0600833\tVal's auc: 0.857081\n",
      " 84%|████████▍ | 42/50 [32:51<06:22, 47.78s/trial, best loss: -0.9424437500000002]"
     ]
    },
    {
     "name": "stderr",
     "output_type": "stream",
     "text": [
      "c:\\Program Files\\Python310\\lib\\site-packages\\lightgbm\\engine.py:177: UserWarning: Found `num_boost_round` in params. Will use it instead of argument\n",
      "  _log_warning(f\"Found `{alias}` in params. Will use it instead of argument\")\n",
      "\n"
     ]
    },
    {
     "name": "stdout",
     "output_type": "stream",
     "text": [
      "[LightGBM] [Warning] num_iterations is set=500, num_boost_round=500 will be ignored. Current value: num_iterations=500\n",
      "Training until validation scores don't improve for 20 rounds                      \n",
      "Early stopping, best iteration is:                                                \n",
      "[6]\tTrain's binary_error: 0.0593333\tTrain's auc: 0.860307\tVal's binary_error: 0.0590833\tVal's auc: 0.855165\n",
      "total Accuracy train=                                                             \n",
      "0.94074375                                                                        \n",
      "total Accuracy val=                                                               \n",
      "0.9404833333333332                                                                \n",
      "AUC 0.940 params {'learning_rate': 0.092, 'max_depth': 2, 'num_leaves': 50}       \n",
      " 86%|████████▌ | 43/50 [33:01<05:22, 46.09s/trial, best loss: -0.9424437500000002]"
     ]
    },
    {
     "name": "stderr",
     "output_type": "stream",
     "text": [
      "c:\\Program Files\\Python310\\lib\\site-packages\\lightgbm\\engine.py:177: UserWarning: Found `num_boost_round` in params. Will use it instead of argument\n",
      "  _log_warning(f\"Found `{alias}` in params. Will use it instead of argument\")\n",
      "\n"
     ]
    },
    {
     "name": "stdout",
     "output_type": "stream",
     "text": [
      "[LightGBM] [Warning] num_iterations is set=500, num_boost_round=500 will be ignored. Current value: num_iterations=500\n",
      "Training until validation scores don't improve for 20 rounds                      \n",
      "Early stopping, best iteration is:                                                \n",
      "[16]\tTrain's binary_error: 0.0535313\tTrain's auc: 0.8967\tVal's binary_error: 0.0562917\tVal's auc: 0.883523\n",
      " 86%|████████▌ | 43/50 [33:10<05:22, 46.09s/trial, best loss: -0.9424437500000002]"
     ]
    },
    {
     "name": "stderr",
     "output_type": "stream",
     "text": [
      "c:\\Program Files\\Python310\\lib\\site-packages\\lightgbm\\engine.py:177: UserWarning: Found `num_boost_round` in params. Will use it instead of argument\n",
      "  _log_warning(f\"Found `{alias}` in params. Will use it instead of argument\")\n",
      "\n"
     ]
    },
    {
     "name": "stdout",
     "output_type": "stream",
     "text": [
      "[LightGBM] [Warning] num_iterations is set=500, num_boost_round=500 will be ignored. Current value: num_iterations=500\n",
      "Training until validation scores don't improve for 20 rounds                      \n",
      "Early stopping, best iteration is:                                                \n",
      "[16]\tTrain's binary_error: 0.0545729\tTrain's auc: 0.898667\tVal's binary_error: 0.0539583\tVal's auc: 0.878719\n",
      " 86%|████████▌ | 43/50 [33:20<05:22, 46.09s/trial, best loss: -0.9424437500000002]"
     ]
    },
    {
     "name": "stderr",
     "output_type": "stream",
     "text": [
      "c:\\Program Files\\Python310\\lib\\site-packages\\lightgbm\\engine.py:177: UserWarning: Found `num_boost_round` in params. Will use it instead of argument\n",
      "  _log_warning(f\"Found `{alias}` in params. Will use it instead of argument\")\n",
      "\n"
     ]
    },
    {
     "name": "stdout",
     "output_type": "stream",
     "text": [
      "[LightGBM] [Warning] num_iterations is set=500, num_boost_round=500 will be ignored. Current value: num_iterations=500\n",
      "Training until validation scores don't improve for 20 rounds                      \n",
      "Early stopping, best iteration is:                                                \n",
      "[16]\tTrain's binary_error: 0.0535833\tTrain's auc: 0.896204\tVal's binary_error: 0.0573333\tVal's auc: 0.884592\n",
      " 86%|████████▌ | 43/50 [33:30<05:22, 46.09s/trial, best loss: -0.9424437500000002]"
     ]
    },
    {
     "name": "stderr",
     "output_type": "stream",
     "text": [
      "c:\\Program Files\\Python310\\lib\\site-packages\\lightgbm\\engine.py:177: UserWarning: Found `num_boost_round` in params. Will use it instead of argument\n",
      "  _log_warning(f\"Found `{alias}` in params. Will use it instead of argument\")\n",
      "\n"
     ]
    },
    {
     "name": "stdout",
     "output_type": "stream",
     "text": [
      "[LightGBM] [Warning] num_iterations is set=500, num_boost_round=500 will be ignored. Current value: num_iterations=500\n",
      "Training until validation scores don't improve for 20 rounds                      \n",
      "Early stopping, best iteration is:                                                \n",
      "[17]\tTrain's binary_error: 0.0540417\tTrain's auc: 0.893973\tVal's binary_error: 0.0563333\tVal's auc: 0.880867\n",
      " 86%|████████▌ | 43/50 [33:40<05:22, 46.09s/trial, best loss: -0.9424437500000002]"
     ]
    },
    {
     "name": "stderr",
     "output_type": "stream",
     "text": [
      "c:\\Program Files\\Python310\\lib\\site-packages\\lightgbm\\engine.py:177: UserWarning: Found `num_boost_round` in params. Will use it instead of argument\n",
      "  _log_warning(f\"Found `{alias}` in params. Will use it instead of argument\")\n",
      "\n"
     ]
    },
    {
     "name": "stdout",
     "output_type": "stream",
     "text": [
      "[LightGBM] [Warning] num_iterations is set=500, num_boost_round=500 will be ignored. Current value: num_iterations=500\n",
      "Training until validation scores don't improve for 20 rounds                      \n",
      "Early stopping, best iteration is:                                                \n",
      "[16]\tTrain's binary_error: 0.0538958\tTrain's auc: 0.895681\tVal's binary_error: 0.055625\tVal's auc: 0.880805\n",
      "total Accuracy train=                                                             \n",
      "0.9460749999999999                                                                \n",
      "total Accuracy val=                                                               \n",
      "0.9440916666666667                                                                \n",
      "AUC 0.942 params {'learning_rate': 0.041, 'max_depth': 5, 'num_leaves': 100}      \n",
      " 88%|████████▊ | 44/50 [33:51<04:44, 47.46s/trial, best loss: -0.9424437500000002]"
     ]
    },
    {
     "name": "stderr",
     "output_type": "stream",
     "text": [
      "c:\\Program Files\\Python310\\lib\\site-packages\\lightgbm\\engine.py:177: UserWarning: Found `num_boost_round` in params. Will use it instead of argument\n",
      "  _log_warning(f\"Found `{alias}` in params. Will use it instead of argument\")\n",
      "\n"
     ]
    },
    {
     "name": "stdout",
     "output_type": "stream",
     "text": [
      "[LightGBM] [Warning] num_iterations is set=500, num_boost_round=500 will be ignored. Current value: num_iterations=500\n",
      "Training until validation scores don't improve for 20 rounds                      \n",
      "Early stopping, best iteration is:                                                \n",
      "[6]\tTrain's binary_error: 0.0566771\tTrain's auc: 0.882525\tVal's binary_error: 0.0597083\tVal's auc: 0.874589\n",
      " 88%|████████▊ | 44/50 [33:59<04:44, 47.46s/trial, best loss: -0.9424437500000002]"
     ]
    },
    {
     "name": "stderr",
     "output_type": "stream",
     "text": [
      "c:\\Program Files\\Python310\\lib\\site-packages\\lightgbm\\engine.py:177: UserWarning: Found `num_boost_round` in params. Will use it instead of argument\n",
      "  _log_warning(f\"Found `{alias}` in params. Will use it instead of argument\")\n",
      "\n"
     ]
    },
    {
     "name": "stdout",
     "output_type": "stream",
     "text": [
      "[LightGBM] [Warning] num_iterations is set=500, num_boost_round=500 will be ignored. Current value: num_iterations=500\n",
      "Training until validation scores don't improve for 20 rounds                      \n",
      "Early stopping, best iteration is:                                                \n",
      "[6]\tTrain's binary_error: 0.0570833\tTrain's auc: 0.883578\tVal's binary_error: 0.0548333\tVal's auc: 0.873039\n",
      " 88%|████████▊ | 44/50 [34:08<04:44, 47.46s/trial, best loss: -0.9424437500000002]"
     ]
    },
    {
     "name": "stderr",
     "output_type": "stream",
     "text": [
      "c:\\Program Files\\Python310\\lib\\site-packages\\lightgbm\\engine.py:177: UserWarning: Found `num_boost_round` in params. Will use it instead of argument\n",
      "  _log_warning(f\"Found `{alias}` in params. Will use it instead of argument\")\n",
      "\n"
     ]
    },
    {
     "name": "stdout",
     "output_type": "stream",
     "text": [
      "[LightGBM] [Warning] num_iterations is set=500, num_boost_round=500 will be ignored. Current value: num_iterations=500\n",
      "Training until validation scores don't improve for 20 rounds                      \n",
      "Early stopping, best iteration is:                                                \n",
      "[6]\tTrain's binary_error: 0.0578125\tTrain's auc: 0.881152\tVal's binary_error: 0.0585833\tVal's auc: 0.876795\n",
      " 88%|████████▊ | 44/50 [34:17<04:44, 47.46s/trial, best loss: -0.9424437500000002]"
     ]
    },
    {
     "name": "stderr",
     "output_type": "stream",
     "text": [
      "c:\\Program Files\\Python310\\lib\\site-packages\\lightgbm\\engine.py:177: UserWarning: Found `num_boost_round` in params. Will use it instead of argument\n",
      "  _log_warning(f\"Found `{alias}` in params. Will use it instead of argument\")\n",
      "\n"
     ]
    },
    {
     "name": "stdout",
     "output_type": "stream",
     "text": [
      "[LightGBM] [Warning] num_iterations is set=500, num_boost_round=500 will be ignored. Current value: num_iterations=500\n",
      "Training until validation scores don't improve for 20 rounds                      \n",
      "Early stopping, best iteration is:                                                \n",
      "[6]\tTrain's binary_error: 0.0563125\tTrain's auc: 0.878902\tVal's binary_error: 0.0585417\tVal's auc: 0.872442\n",
      " 88%|████████▊ | 44/50 [34:26<04:44, 47.46s/trial, best loss: -0.9424437500000002]"
     ]
    },
    {
     "name": "stderr",
     "output_type": "stream",
     "text": [
      "c:\\Program Files\\Python310\\lib\\site-packages\\lightgbm\\engine.py:177: UserWarning: Found `num_boost_round` in params. Will use it instead of argument\n",
      "  _log_warning(f\"Found `{alias}` in params. Will use it instead of argument\")\n",
      "\n"
     ]
    },
    {
     "name": "stdout",
     "output_type": "stream",
     "text": [
      "[LightGBM] [Warning] num_iterations is set=500, num_boost_round=500 will be ignored. Current value: num_iterations=500\n",
      "Training until validation scores don't improve for 20 rounds                      \n",
      "Early stopping, best iteration is:                                                \n",
      "[6]\tTrain's binary_error: 0.0567708\tTrain's auc: 0.880192\tVal's binary_error: 0.0578333\tVal's auc: 0.870588\n",
      "total Accuracy train=                                                             \n",
      "0.9430687500000001                                                                \n",
      "total Accuracy val=                                                               \n",
      "0.9420999999999999                                                                \n",
      "AUC 0.941 params {'learning_rate': 0.097, 'max_depth': 4, 'num_leaves': 60}       \n",
      " 90%|█████████ | 45/50 [34:36<03:53, 46.70s/trial, best loss: -0.9424437500000002]"
     ]
    },
    {
     "name": "stderr",
     "output_type": "stream",
     "text": [
      "c:\\Program Files\\Python310\\lib\\site-packages\\lightgbm\\engine.py:177: UserWarning: Found `num_boost_round` in params. Will use it instead of argument\n",
      "  _log_warning(f\"Found `{alias}` in params. Will use it instead of argument\")\n",
      "\n"
     ]
    },
    {
     "name": "stdout",
     "output_type": "stream",
     "text": [
      "[LightGBM] [Warning] num_iterations is set=500, num_boost_round=500 will be ignored. Current value: num_iterations=500\n",
      "Training until validation scores don't improve for 20 rounds                      \n",
      "Early stopping, best iteration is:                                                \n",
      "[21]\tTrain's binary_error: 0.0592917\tTrain's auc: 0.897171\tVal's binary_error: 0.0582083\tVal's auc: 0.885786\n",
      " 90%|█████████ | 45/50 [34:46<03:53, 46.70s/trial, best loss: -0.9424437500000002]"
     ]
    },
    {
     "name": "stderr",
     "output_type": "stream",
     "text": [
      "c:\\Program Files\\Python310\\lib\\site-packages\\lightgbm\\engine.py:177: UserWarning: Found `num_boost_round` in params. Will use it instead of argument\n",
      "  _log_warning(f\"Found `{alias}` in params. Will use it instead of argument\")\n",
      "\n"
     ]
    },
    {
     "name": "stdout",
     "output_type": "stream",
     "text": [
      "[LightGBM] [Warning] num_iterations is set=500, num_boost_round=500 will be ignored. Current value: num_iterations=500\n",
      "Training until validation scores don't improve for 20 rounds                      \n",
      "Early stopping, best iteration is:                                                \n",
      "[21]\tTrain's binary_error: 0.0591354\tTrain's auc: 0.896372\tVal's binary_error: 0.0570417\tVal's auc: 0.878616\n",
      " 90%|█████████ | 45/50 [34:56<03:53, 46.70s/trial, best loss: -0.9424437500000002]"
     ]
    },
    {
     "name": "stderr",
     "output_type": "stream",
     "text": [
      "c:\\Program Files\\Python310\\lib\\site-packages\\lightgbm\\engine.py:177: UserWarning: Found `num_boost_round` in params. Will use it instead of argument\n",
      "  _log_warning(f\"Found `{alias}` in params. Will use it instead of argument\")\n",
      "\n"
     ]
    },
    {
     "name": "stdout",
     "output_type": "stream",
     "text": [
      "[LightGBM] [Warning] num_iterations is set=500, num_boost_round=500 will be ignored. Current value: num_iterations=500\n",
      "Training until validation scores don't improve for 20 rounds                      \n",
      "Early stopping, best iteration is:                                                \n",
      "[21]\tTrain's binary_error: 0.0582604\tTrain's auc: 0.894646\tVal's binary_error: 0.0607083\tVal's auc: 0.885731\n",
      " 90%|█████████ | 45/50 [35:07<03:53, 46.70s/trial, best loss: -0.9424437500000002]"
     ]
    },
    {
     "name": "stderr",
     "output_type": "stream",
     "text": [
      "c:\\Program Files\\Python310\\lib\\site-packages\\lightgbm\\engine.py:177: UserWarning: Found `num_boost_round` in params. Will use it instead of argument\n",
      "  _log_warning(f\"Found `{alias}` in params. Will use it instead of argument\")\n",
      "\n"
     ]
    },
    {
     "name": "stdout",
     "output_type": "stream",
     "text": [
      "[LightGBM] [Warning] num_iterations is set=500, num_boost_round=500 will be ignored. Current value: num_iterations=500\n",
      "Training until validation scores don't improve for 20 rounds                      \n",
      "Early stopping, best iteration is:                                                \n",
      "[21]\tTrain's binary_error: 0.0586354\tTrain's auc: 0.892623\tVal's binary_error: 0.0605833\tVal's auc: 0.87993\n",
      " 90%|█████████ | 45/50 [35:17<03:53, 46.70s/trial, best loss: -0.9424437500000002]"
     ]
    },
    {
     "name": "stderr",
     "output_type": "stream",
     "text": [
      "c:\\Program Files\\Python310\\lib\\site-packages\\lightgbm\\engine.py:177: UserWarning: Found `num_boost_round` in params. Will use it instead of argument\n",
      "  _log_warning(f\"Found `{alias}` in params. Will use it instead of argument\")\n",
      "\n"
     ]
    },
    {
     "name": "stdout",
     "output_type": "stream",
     "text": [
      "[LightGBM] [Warning] num_iterations is set=500, num_boost_round=500 will be ignored. Current value: num_iterations=500\n",
      "Training until validation scores don't improve for 20 rounds                      \n",
      "Early stopping, best iteration is:                                                \n",
      "[21]\tTrain's binary_error: 0.0580208\tTrain's auc: 0.895118\tVal's binary_error: 0.0596667\tVal's auc: 0.882473\n",
      "total Accuracy train=                                                             \n",
      "0.94133125                                                                        \n",
      "total Accuracy val=                                                               \n",
      "0.9407583333333334                                                                \n",
      "AUC 0.940 params {'learning_rate': 0.032, 'max_depth': 6, 'num_leaves': 20}       \n",
      " 92%|█████████▏| 46/50 [35:29<03:13, 48.45s/trial, best loss: -0.9424437500000002]"
     ]
    },
    {
     "name": "stderr",
     "output_type": "stream",
     "text": [
      "c:\\Program Files\\Python310\\lib\\site-packages\\lightgbm\\engine.py:177: UserWarning: Found `num_boost_round` in params. Will use it instead of argument\n",
      "  _log_warning(f\"Found `{alias}` in params. Will use it instead of argument\")\n",
      "\n"
     ]
    },
    {
     "name": "stdout",
     "output_type": "stream",
     "text": [
      "[LightGBM] [Warning] num_iterations is set=500, num_boost_round=500 will be ignored. Current value: num_iterations=500\n",
      "Training until validation scores don't improve for 20 rounds                      \n",
      "Early stopping, best iteration is:                                                \n",
      "[15]\tTrain's binary_error: 0.0541458\tTrain's auc: 0.897978\tVal's binary_error: 0.0564583\tVal's auc: 0.884778\n",
      " 92%|█████████▏| 46/50 [35:38<03:13, 48.45s/trial, best loss: -0.9424437500000002]"
     ]
    },
    {
     "name": "stderr",
     "output_type": "stream",
     "text": [
      "c:\\Program Files\\Python310\\lib\\site-packages\\lightgbm\\engine.py:177: UserWarning: Found `num_boost_round` in params. Will use it instead of argument\n",
      "  _log_warning(f\"Found `{alias}` in params. Will use it instead of argument\")\n",
      "\n"
     ]
    },
    {
     "name": "stdout",
     "output_type": "stream",
     "text": [
      "[LightGBM] [Warning] num_iterations is set=500, num_boost_round=500 will be ignored. Current value: num_iterations=500\n",
      "Training until validation scores don't improve for 20 rounds                      \n",
      "Early stopping, best iteration is:                                                \n",
      "[15]\tTrain's binary_error: 0.0549687\tTrain's auc: 0.897149\tVal's binary_error: 0.0537083\tVal's auc: 0.877342\n",
      " 92%|█████████▏| 46/50 [35:48<03:13, 48.45s/trial, best loss: -0.9424437500000002]"
     ]
    },
    {
     "name": "stderr",
     "output_type": "stream",
     "text": [
      "c:\\Program Files\\Python310\\lib\\site-packages\\lightgbm\\engine.py:177: UserWarning: Found `num_boost_round` in params. Will use it instead of argument\n",
      "  _log_warning(f\"Found `{alias}` in params. Will use it instead of argument\")\n",
      "\n"
     ]
    },
    {
     "name": "stdout",
     "output_type": "stream",
     "text": [
      "[LightGBM] [Warning] num_iterations is set=500, num_boost_round=500 will be ignored. Current value: num_iterations=500\n",
      "Training until validation scores don't improve for 20 rounds                      \n",
      "Early stopping, best iteration is:                                                \n",
      "[16]\tTrain's binary_error: 0.0535938\tTrain's auc: 0.897306\tVal's binary_error: 0.0569167\tVal's auc: 0.884897\n",
      " 92%|█████████▏| 46/50 [35:58<03:13, 48.45s/trial, best loss: -0.9424437500000002]"
     ]
    },
    {
     "name": "stderr",
     "output_type": "stream",
     "text": [
      "c:\\Program Files\\Python310\\lib\\site-packages\\lightgbm\\engine.py:177: UserWarning: Found `num_boost_round` in params. Will use it instead of argument\n",
      "  _log_warning(f\"Found `{alias}` in params. Will use it instead of argument\")\n",
      "\n"
     ]
    },
    {
     "name": "stdout",
     "output_type": "stream",
     "text": [
      "[LightGBM] [Warning] num_iterations is set=500, num_boost_round=500 will be ignored. Current value: num_iterations=500\n",
      "Training until validation scores don't improve for 20 rounds                      \n",
      "Early stopping, best iteration is:                                                \n",
      "[16]\tTrain's binary_error: 0.0542813\tTrain's auc: 0.893513\tVal's binary_error: 0.0560833\tVal's auc: 0.879334\n",
      " 92%|█████████▏| 46/50 [36:08<03:13, 48.45s/trial, best loss: -0.9424437500000002]"
     ]
    },
    {
     "name": "stderr",
     "output_type": "stream",
     "text": [
      "c:\\Program Files\\Python310\\lib\\site-packages\\lightgbm\\engine.py:177: UserWarning: Found `num_boost_round` in params. Will use it instead of argument\n",
      "  _log_warning(f\"Found `{alias}` in params. Will use it instead of argument\")\n",
      "\n"
     ]
    },
    {
     "name": "stdout",
     "output_type": "stream",
     "text": [
      "[LightGBM] [Warning] num_iterations is set=500, num_boost_round=500 will be ignored. Current value: num_iterations=500\n",
      "Training until validation scores don't improve for 20 rounds                      \n",
      "Early stopping, best iteration is:                                                \n",
      "[16]\tTrain's binary_error: 0.0541354\tTrain's auc: 0.896356\tVal's binary_error: 0.0565833\tVal's auc: 0.881233\n",
      "total Accuracy train=                                                             \n",
      "0.945775                                                                          \n",
      "total Accuracy val=                                                               \n",
      "0.9440500000000001                                                                \n",
      "AUC 0.942 params {'learning_rate': 0.043000000000000003, 'max_depth': 5, 'num_leaves': 110}\n",
      " 94%|█████████▍| 47/50 [36:19<02:26, 48.98s/trial, best loss: -0.9424437500000002]"
     ]
    },
    {
     "name": "stderr",
     "output_type": "stream",
     "text": [
      "c:\\Program Files\\Python310\\lib\\site-packages\\lightgbm\\engine.py:177: UserWarning: Found `num_boost_round` in params. Will use it instead of argument\n",
      "  _log_warning(f\"Found `{alias}` in params. Will use it instead of argument\")\n",
      "\n"
     ]
    },
    {
     "name": "stdout",
     "output_type": "stream",
     "text": [
      "[LightGBM] [Warning] num_iterations is set=500, num_boost_round=500 will be ignored. Current value: num_iterations=500\n",
      "Training until validation scores don't improve for 20 rounds                      \n",
      "Early stopping, best iteration is:                                                \n",
      "[1]\tTrain's binary_error: 0.0643229\tTrain's auc: 0.837167\tVal's binary_error: 0.062125\tVal's auc: 0.838127\n",
      " 94%|█████████▍| 47/50 [36:26<02:26, 48.98s/trial, best loss: -0.9424437500000002]"
     ]
    },
    {
     "name": "stderr",
     "output_type": "stream",
     "text": [
      "c:\\Program Files\\Python310\\lib\\site-packages\\lightgbm\\engine.py:177: UserWarning: Found `num_boost_round` in params. Will use it instead of argument\n",
      "  _log_warning(f\"Found `{alias}` in params. Will use it instead of argument\")\n",
      "\n"
     ]
    },
    {
     "name": "stdout",
     "output_type": "stream",
     "text": [
      "[LightGBM] [Warning] num_iterations is set=500, num_boost_round=500 will be ignored. Current value: num_iterations=500\n",
      "Training until validation scores don't improve for 20 rounds                      \n",
      "Early stopping, best iteration is:                                                \n",
      "[1]\tTrain's binary_error: 0.0644792\tTrain's auc: 0.838433\tVal's binary_error: 0.0615\tVal's auc: 0.831177\n",
      " 94%|█████████▍| 47/50 [36:35<02:26, 48.98s/trial, best loss: -0.9424437500000002]"
     ]
    },
    {
     "name": "stderr",
     "output_type": "stream",
     "text": [
      "c:\\Program Files\\Python310\\lib\\site-packages\\lightgbm\\engine.py:177: UserWarning: Found `num_boost_round` in params. Will use it instead of argument\n",
      "  _log_warning(f\"Found `{alias}` in params. Will use it instead of argument\")\n",
      "\n"
     ]
    },
    {
     "name": "stdout",
     "output_type": "stream",
     "text": [
      "[LightGBM] [Warning] num_iterations is set=500, num_boost_round=500 will be ignored. Current value: num_iterations=500\n",
      "Training until validation scores don't improve for 20 rounds                      \n",
      "Early stopping, best iteration is:                                                \n",
      "[1]\tTrain's binary_error: 0.0632812\tTrain's auc: 0.833947\tVal's binary_error: 0.0662917\tVal's auc: 0.839833\n",
      " 94%|█████████▍| 47/50 [36:43<02:26, 48.98s/trial, best loss: -0.9424437500000002]"
     ]
    },
    {
     "name": "stderr",
     "output_type": "stream",
     "text": [
      "c:\\Program Files\\Python310\\lib\\site-packages\\lightgbm\\engine.py:177: UserWarning: Found `num_boost_round` in params. Will use it instead of argument\n",
      "  _log_warning(f\"Found `{alias}` in params. Will use it instead of argument\")\n",
      "\n"
     ]
    },
    {
     "name": "stdout",
     "output_type": "stream",
     "text": [
      "[LightGBM] [Warning] num_iterations is set=500, num_boost_round=500 will be ignored. Current value: num_iterations=500\n",
      "Training until validation scores don't improve for 20 rounds                      \n",
      "Early stopping, best iteration is:                                                \n",
      "[1]\tTrain's binary_error: 0.063375\tTrain's auc: 0.836211\tVal's binary_error: 0.0659167\tVal's auc: 0.836728\n",
      " 94%|█████████▍| 47/50 [36:52<02:26, 48.98s/trial, best loss: -0.9424437500000002]"
     ]
    },
    {
     "name": "stderr",
     "output_type": "stream",
     "text": [
      "c:\\Program Files\\Python310\\lib\\site-packages\\lightgbm\\engine.py:177: UserWarning: Found `num_boost_round` in params. Will use it instead of argument\n",
      "  _log_warning(f\"Found `{alias}` in params. Will use it instead of argument\")\n",
      "\n"
     ]
    },
    {
     "name": "stdout",
     "output_type": "stream",
     "text": [
      "[LightGBM] [Warning] num_iterations is set=500, num_boost_round=500 will be ignored. Current value: num_iterations=500\n",
      "Training until validation scores don't improve for 20 rounds                      \n",
      "Early stopping, best iteration is:                                                \n",
      "[1]\tTrain's binary_error: 0.0639583\tTrain's auc: 0.837365\tVal's binary_error: 0.0635833\tVal's auc: 0.831946\n",
      "total Accuracy train=                                                             \n",
      "0.9361166666666666                                                                \n",
      "total Accuracy val=                                                               \n",
      "0.9361166666666666                                                                \n",
      "AUC 0.936 params {'learning_rate': 0.001, 'max_depth': 3, 'num_leaves': 120}      \n",
      " 96%|█████████▌| 48/50 [37:01<01:33, 46.97s/trial, best loss: -0.9424437500000002]"
     ]
    },
    {
     "name": "stderr",
     "output_type": "stream",
     "text": [
      "c:\\Program Files\\Python310\\lib\\site-packages\\lightgbm\\engine.py:177: UserWarning: Found `num_boost_round` in params. Will use it instead of argument\n",
      "  _log_warning(f\"Found `{alias}` in params. Will use it instead of argument\")\n",
      "\n"
     ]
    },
    {
     "name": "stdout",
     "output_type": "stream",
     "text": [
      "[LightGBM] [Warning] num_iterations is set=500, num_boost_round=500 will be ignored. Current value: num_iterations=500\n",
      "Training until validation scores don't improve for 20 rounds                      \n",
      "Early stopping, best iteration is:                                                \n",
      "[7]\tTrain's binary_error: 0.0564583\tTrain's auc: 0.905351\tVal's binary_error: 0.0575417\tVal's auc: 0.881864\n",
      " 96%|█████████▌| 48/50 [37:10<01:33, 46.97s/trial, best loss: -0.9424437500000002]"
     ]
    },
    {
     "name": "stderr",
     "output_type": "stream",
     "text": [
      "c:\\Program Files\\Python310\\lib\\site-packages\\lightgbm\\engine.py:177: UserWarning: Found `num_boost_round` in params. Will use it instead of argument\n",
      "  _log_warning(f\"Found `{alias}` in params. Will use it instead of argument\")\n",
      "\n"
     ]
    },
    {
     "name": "stdout",
     "output_type": "stream",
     "text": [
      "[LightGBM] [Warning] num_iterations is set=500, num_boost_round=500 will be ignored. Current value: num_iterations=500\n",
      "Training until validation scores don't improve for 20 rounds                      \n",
      "Early stopping, best iteration is:                                                \n",
      "[7]\tTrain's binary_error: 0.0565208\tTrain's auc: 0.905914\tVal's binary_error: 0.054625\tVal's auc: 0.875344\n",
      " 96%|█████████▌| 48/50 [37:20<01:33, 46.97s/trial, best loss: -0.9424437500000002]"
     ]
    },
    {
     "name": "stderr",
     "output_type": "stream",
     "text": [
      "c:\\Program Files\\Python310\\lib\\site-packages\\lightgbm\\engine.py:177: UserWarning: Found `num_boost_round` in params. Will use it instead of argument\n",
      "  _log_warning(f\"Found `{alias}` in params. Will use it instead of argument\")\n",
      "\n"
     ]
    },
    {
     "name": "stdout",
     "output_type": "stream",
     "text": [
      "[LightGBM] [Warning] num_iterations is set=500, num_boost_round=500 will be ignored. Current value: num_iterations=500\n",
      "Training until validation scores don't improve for 20 rounds                      \n",
      "Early stopping, best iteration is:                                                \n",
      "[7]\tTrain's binary_error: 0.0558958\tTrain's auc: 0.903823\tVal's binary_error: 0.058625\tVal's auc: 0.883048\n",
      " 96%|█████████▌| 48/50 [37:30<01:33, 46.97s/trial, best loss: -0.9424437500000002]"
     ]
    },
    {
     "name": "stderr",
     "output_type": "stream",
     "text": [
      "c:\\Program Files\\Python310\\lib\\site-packages\\lightgbm\\engine.py:177: UserWarning: Found `num_boost_round` in params. Will use it instead of argument\n",
      "  _log_warning(f\"Found `{alias}` in params. Will use it instead of argument\")\n",
      "\n"
     ]
    },
    {
     "name": "stdout",
     "output_type": "stream",
     "text": [
      "[LightGBM] [Warning] num_iterations is set=500, num_boost_round=500 will be ignored. Current value: num_iterations=500\n",
      "Training until validation scores don't improve for 20 rounds                      \n",
      "Early stopping, best iteration is:                                                \n",
      "[7]\tTrain's binary_error: 0.0559583\tTrain's auc: 0.902402\tVal's binary_error: 0.0569167\tVal's auc: 0.882024\n",
      " 96%|█████████▌| 48/50 [37:40<01:33, 46.97s/trial, best loss: -0.9424437500000002]"
     ]
    },
    {
     "name": "stderr",
     "output_type": "stream",
     "text": [
      "c:\\Program Files\\Python310\\lib\\site-packages\\lightgbm\\engine.py:177: UserWarning: Found `num_boost_round` in params. Will use it instead of argument\n",
      "  _log_warning(f\"Found `{alias}` in params. Will use it instead of argument\")\n",
      "\n"
     ]
    },
    {
     "name": "stdout",
     "output_type": "stream",
     "text": [
      "[LightGBM] [Warning] num_iterations is set=500, num_boost_round=500 will be ignored. Current value: num_iterations=500\n",
      "Training until validation scores don't improve for 20 rounds                      \n",
      "Early stopping, best iteration is:                                                \n",
      "[7]\tTrain's binary_error: 0.0557083\tTrain's auc: 0.905744\tVal's binary_error: 0.05725\tVal's auc: 0.881808\n",
      "total Accuracy train=                                                             \n",
      "0.9438916666666666                                                                \n",
      "total Accuracy val=                                                               \n",
      "0.9430083333333334                                                                \n",
      "AUC 0.942 params {'learning_rate': 0.083, 'max_depth': 6, 'num_leaves': 40}       \n",
      " 98%|█████████▊| 49/50 [37:51<00:47, 47.71s/trial, best loss: -0.9424437500000002]"
     ]
    },
    {
     "name": "stderr",
     "output_type": "stream",
     "text": [
      "c:\\Program Files\\Python310\\lib\\site-packages\\lightgbm\\engine.py:177: UserWarning: Found `num_boost_round` in params. Will use it instead of argument\n",
      "  _log_warning(f\"Found `{alias}` in params. Will use it instead of argument\")\n",
      "\n"
     ]
    },
    {
     "name": "stdout",
     "output_type": "stream",
     "text": [
      "[LightGBM] [Warning] num_iterations is set=500, num_boost_round=500 will be ignored. Current value: num_iterations=500\n",
      "Training until validation scores don't improve for 20 rounds                      \n",
      "Early stopping, best iteration is:                                                \n",
      "[1]\tTrain's binary_error: 0.0643229\tTrain's auc: 0.852555\tVal's binary_error: 0.062125\tVal's auc: 0.851466\n",
      " 98%|█████████▊| 49/50 [37:58<00:47, 47.71s/trial, best loss: -0.9424437500000002]"
     ]
    },
    {
     "name": "stderr",
     "output_type": "stream",
     "text": [
      "c:\\Program Files\\Python310\\lib\\site-packages\\lightgbm\\engine.py:177: UserWarning: Found `num_boost_round` in params. Will use it instead of argument\n",
      "  _log_warning(f\"Found `{alias}` in params. Will use it instead of argument\")\n",
      "\n"
     ]
    },
    {
     "name": "stdout",
     "output_type": "stream",
     "text": [
      "[LightGBM] [Warning] num_iterations is set=500, num_boost_round=500 will be ignored. Current value: num_iterations=500\n",
      "Training until validation scores don't improve for 20 rounds                      \n",
      "Early stopping, best iteration is:                                                \n",
      "[1]\tTrain's binary_error: 0.0644792\tTrain's auc: 0.852639\tVal's binary_error: 0.0615\tVal's auc: 0.843529\n",
      " 98%|█████████▊| 49/50 [38:07<00:47, 47.71s/trial, best loss: -0.9424437500000002]"
     ]
    },
    {
     "name": "stderr",
     "output_type": "stream",
     "text": [
      "c:\\Program Files\\Python310\\lib\\site-packages\\lightgbm\\engine.py:177: UserWarning: Found `num_boost_round` in params. Will use it instead of argument\n",
      "  _log_warning(f\"Found `{alias}` in params. Will use it instead of argument\")\n",
      "\n"
     ]
    },
    {
     "name": "stdout",
     "output_type": "stream",
     "text": [
      "[LightGBM] [Warning] num_iterations is set=500, num_boost_round=500 will be ignored. Current value: num_iterations=500\n",
      "Training until validation scores don't improve for 20 rounds                      \n",
      "Early stopping, best iteration is:                                                \n",
      "[1]\tTrain's binary_error: 0.0632812\tTrain's auc: 0.850298\tVal's binary_error: 0.0662917\tVal's auc: 0.850388\n",
      " 98%|█████████▊| 49/50 [38:16<00:47, 47.71s/trial, best loss: -0.9424437500000002]"
     ]
    },
    {
     "name": "stderr",
     "output_type": "stream",
     "text": [
      "c:\\Program Files\\Python310\\lib\\site-packages\\lightgbm\\engine.py:177: UserWarning: Found `num_boost_round` in params. Will use it instead of argument\n",
      "  _log_warning(f\"Found `{alias}` in params. Will use it instead of argument\")\n",
      "\n"
     ]
    },
    {
     "name": "stdout",
     "output_type": "stream",
     "text": [
      "[LightGBM] [Warning] num_iterations is set=500, num_boost_round=500 will be ignored. Current value: num_iterations=500\n",
      "Training until validation scores don't improve for 20 rounds                      \n",
      "Early stopping, best iteration is:                                                \n",
      "[1]\tTrain's binary_error: 0.063375\tTrain's auc: 0.851203\tVal's binary_error: 0.0659167\tVal's auc: 0.848697\n",
      " 98%|█████████▊| 49/50 [38:25<00:47, 47.71s/trial, best loss: -0.9424437500000002]"
     ]
    },
    {
     "name": "stderr",
     "output_type": "stream",
     "text": [
      "c:\\Program Files\\Python310\\lib\\site-packages\\lightgbm\\engine.py:177: UserWarning: Found `num_boost_round` in params. Will use it instead of argument\n",
      "  _log_warning(f\"Found `{alias}` in params. Will use it instead of argument\")\n",
      "\n"
     ]
    },
    {
     "name": "stdout",
     "output_type": "stream",
     "text": [
      "[LightGBM] [Warning] num_iterations is set=500, num_boost_round=500 will be ignored. Current value: num_iterations=500\n",
      "Training until validation scores don't improve for 20 rounds                      \n",
      "Early stopping, best iteration is:                                                \n",
      "[1]\tTrain's binary_error: 0.0639583\tTrain's auc: 0.850293\tVal's binary_error: 0.0635833\tVal's auc: 0.843965\n",
      "total Accuracy train=                                                             \n",
      "0.9361166666666666                                                                \n",
      "total Accuracy val=                                                               \n",
      "0.9361166666666666                                                                \n",
      "AUC 0.936 params {'learning_rate': 0.004, 'max_depth': 4, 'num_leaves': 80}       \n",
      "100%|██████████| 50/50 [38:34<00:00, 46.29s/trial, best loss: -0.9424437500000002]\n"
     ]
    }
   ],
   "source": [
    "best = fmin(fn=objective, \n",
    "           space = space,\n",
    "           algo=tpe.suggest,\n",
    "           max_evals=50, return_argmin=False)"
   ]
  },
  {
   "cell_type": "code",
   "execution_count": 24,
   "metadata": {},
   "outputs": [],
   "source": [
    "def save_model(model = None, features = []):\n",
    "    name = str(model.__class__).split('.')[-1][:-2] + '_' + datetime.today().strftime(\"%d%m%Y_%H_%M\") + '.pickle'    \n",
    "    if model:\n",
    "        with open(name, 'wb') as file:\n",
    "            pickle.dump((model, features), file)\n",
    "            print('Save', name)"
   ]
  },
  {
   "cell_type": "code",
   "execution_count": 26,
   "metadata": {},
   "outputs": [],
   "source": [
    "param = {\n",
    "    'objective': 'binary',\n",
    "    'metric': 'auc',\n",
    "    'num_boost_round': 500,\n",
    "    'is_unbalance': True\n",
    "}"
   ]
  },
  {
   "cell_type": "code",
   "execution_count": 27,
   "metadata": {},
   "outputs": [
    {
     "name": "stdout",
     "output_type": "stream",
     "text": [
      "Save LGBMClassifier_24062023_10_47.pickle\n"
     ]
    }
   ],
   "source": [
    "best_model = lgb.LGBMClassifier(\n",
    "    n_jobs=-1,\n",
    "    **param,\n",
    "    **best\n",
    ")\n",
    "save_model(model=best_model, features=X.columns.tolist())"
   ]
  },
  {
   "cell_type": "code",
   "execution_count": null,
   "metadata": {},
   "outputs": [],
   "source": [
    "\n"
   ]
  },
  {
   "cell_type": "code",
   "execution_count": 40,
   "metadata": {},
   "outputs": [
    {
     "data": {
      "text/plain": [
       "{'learning_rate': 0.038, 'max_depth': 5, 'num_leaves': 60}"
      ]
     },
     "execution_count": 40,
     "metadata": {},
     "output_type": "execute_result"
    }
   ],
   "source": [
    "best"
   ]
  },
  {
   "cell_type": "code",
   "execution_count": null,
   "metadata": {},
   "outputs": [],
   "source": [
    "param = {'objective': 'binary',\n",
    "        'num_boost_round': 1000,\n",
    "         'metric': 'auc',\n",
    "         'is_unbalance': True}\n",
    "best.update(param)\n",
    "clf = lgb.LGBMClassifier(**best)"
   ]
  },
  {
   "cell_type": "code",
   "execution_count": null,
   "metadata": {},
   "outputs": [],
   "source": [
    "def model_fit(model, X_tr, y_tr, X_val, y_val):\n",
    "    callback2 = lgb.log_evaluation(period = 10)\n",
    "    model.fit(X_tr, y_tr, eval_set=[(X_tr, y_tr),(X_val, y_val)], eval_names=['Train', 'Val'] , early_stopping_rounds=10, eval_metric=['binary_error'], callbacks=[callback2]) \n",
    "    iterr = model.best_iteration_\n",
    "    y_tr_pred = model.predict(X_tr, num_iteration=iterr)\n",
    "    y_val_pred = model.predict(X_val, num_iteration=iterr)\n",
    "    print('Accuracy train =', accuracy_score(y_tr, y_tr_pred))\n",
    "    print('Accuracy val =', accuracy_score(y_val, y_val_pred))\n",
    "    return model"
   ]
  },
  {
   "cell_type": "code",
   "execution_count": null,
   "metadata": {},
   "outputs": [],
   "source": [
    "clf = model_fit(clf, X, y, X_test, y_test)"
   ]
  },
  {
   "attachments": {},
   "cell_type": "markdown",
   "metadata": {},
   "source": [
    "## Predict on Test sample\n"
   ]
  },
  {
   "cell_type": "code",
   "execution_count": 45,
   "metadata": {},
   "outputs": [],
   "source": [
    "lgb_model = my_func.load_pickle('LGBMClassifier_24062023_10_47.pickle')"
   ]
  },
  {
   "cell_type": "code",
   "execution_count": null,
   "metadata": {},
   "outputs": [],
   "source": []
  },
  {
   "cell_type": "code",
   "execution_count": 48,
   "metadata": {},
   "outputs": [],
   "source": [
    "y_test = df_test_fe['target']\n",
    "X_test = df_test_fe.drop(['target', 'abon_id'], axis=1)\n",
    "X_test.replace(np.inf, -1, inplace=True)\n",
    "X_test.fillna(-1, inplace=True)"
   ]
  },
  {
   "cell_type": "code",
   "execution_count": null,
   "metadata": {},
   "outputs": [],
   "source": []
  },
  {
   "cell_type": "code",
   "execution_count": 53,
   "metadata": {},
   "outputs": [
    {
     "ename": "AttributeError",
     "evalue": "'tuple' object has no attribute 'predict'",
     "output_type": "error",
     "traceback": [
      "\u001b[1;31m---------------------------------------------------------------------------\u001b[0m",
      "\u001b[1;31mAttributeError\u001b[0m                            Traceback (most recent call last)",
      "Cell \u001b[1;32mIn[53], line 1\u001b[0m\n\u001b[1;32m----> 1\u001b[0m pred_lgb \u001b[39m=\u001b[39m lgb_model\u001b[39m.\u001b[39;49mpredict(X_train)\n\u001b[0;32m      2\u001b[0m pred_lgb_test \u001b[39m=\u001b[39m lgb_model\u001b[39m.\u001b[39mpredict_proba(X_test)[:,\u001b[39m1\u001b[39m]\n",
      "\u001b[1;31mAttributeError\u001b[0m: 'tuple' object has no attribute 'predict'"
     ]
    }
   ],
   "source": [
    "pred_lgb = lgb_model.predict(X_train)\n",
    "pred_lgb_test = lgb_model.predict_proba(X_test)[:,1]"
   ]
  },
  {
   "cell_type": "code",
   "execution_count": 38,
   "metadata": {},
   "outputs": [],
   "source": []
  },
  {
   "cell_type": "code",
   "execution_count": 44,
   "metadata": {},
   "outputs": [],
   "source": [
    "clf = lgb.LGBMClassifier(**best)"
   ]
  },
  {
   "cell_type": "code",
   "execution_count": null,
   "metadata": {},
   "outputs": [],
   "source": []
  },
  {
   "cell_type": "code",
   "execution_count": null,
   "metadata": {},
   "outputs": [],
   "source": []
  },
  {
   "cell_type": "code",
   "execution_count": null,
   "metadata": {},
   "outputs": [],
   "source": [
    "#binary_classification_metrics(y, clf.predict(X), y_test, clf.predict(X_test))"
   ]
  },
  {
   "cell_type": "code",
   "execution_count": 42,
   "metadata": {},
   "outputs": [],
   "source": [
    "def plot_roc_auc(y_train, y_train_pred, y_test, y_test_pred, title):\n",
    "    \n",
    "    fpr, tpr, _ = roc_curve(y_train, y_train_pred)\n",
    "    auc = roc_auc_score(y_train, y_train_pred)\n",
    "\n",
    "    plt.plot(fpr, tpr, color='blue',\n",
    "                 label=\"Навчальна вибірка, AUC={:.3f}\".format(auc), linestyle='-')\n",
    "\n",
    "\n",
    "    fpr, tpr, _ = roc_curve(y_test,  y_test_pred)\n",
    "    auc = roc_auc_score(y_test, y_test_pred)\n",
    "\n",
    "    plt.plot(fpr, tpr, color='black',\n",
    "                 label=\"Тестова вибірка, AUC={:.3f}\".format(auc), linestyle='--')\n",
    "\n",
    "\n",
    "\n",
    "    plt.plot([0,1], [0,1], color='gray', linestyle='--')\n",
    "\n",
    "    plt.xticks(np.arange(0.0, 1.1, step=0.1))\n",
    "    plt.xlabel(\"Flase Positive Rate\", fontsize=15)\n",
    "\n",
    "    plt.yticks(np.arange(0.0, 1.1, step=0.1))\n",
    "    plt.ylabel(\"True Positive Rate\", fontsize=15)\n",
    "\n",
    "    plt.title(title, fontweight='bold', fontsize=15)\n",
    "    plt.legend(prop={'size':13}, loc='lower right')\n",
    "\n",
    "    plt.show()"
   ]
  },
  {
   "cell_type": "code",
   "execution_count": null,
   "metadata": {},
   "outputs": [],
   "source": [
    "plot_roc_auc(y_train, pred_lgb, y_test, pred_lgb_test, \"LightGBM\")"
   ]
  },
  {
   "cell_type": "code",
   "execution_count": null,
   "metadata": {},
   "outputs": [],
   "source": [
    "\n"
   ]
  }
 ],
 "metadata": {
  "kernelspec": {
   "display_name": "Python 3",
   "language": "python",
   "name": "python3"
  },
  "language_info": {
   "codemirror_mode": {
    "name": "ipython",
    "version": 3
   },
   "file_extension": ".py",
   "mimetype": "text/x-python",
   "name": "python",
   "nbconvert_exporter": "python",
   "pygments_lexer": "ipython3",
   "version": "3.10.4"
  },
  "orig_nbformat": 4
 },
 "nbformat": 4,
 "nbformat_minor": 2
}
